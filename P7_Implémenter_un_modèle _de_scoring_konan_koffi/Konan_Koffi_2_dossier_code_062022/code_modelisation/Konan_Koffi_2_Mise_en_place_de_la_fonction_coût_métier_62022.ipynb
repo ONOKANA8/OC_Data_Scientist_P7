{
 "cells": [
  {
   "cell_type": "markdown",
   "id": "U7FKcp-7LJCs",
   "metadata": {
    "id": "U7FKcp-7LJCs"
   },
   "source": [
    "# **Mise en place de la fonction coût métier**"
   ]
  },
  {
   "cell_type": "markdown",
   "id": "i-ACvZh2KoJ7",
   "metadata": {
    "id": "i-ACvZh2KoJ7"
   },
   "source": [
    "# Imporatation des librairies"
   ]
  },
  {
   "cell_type": "code",
   "execution_count": 1,
   "id": "f44303c6",
   "metadata": {
    "id": "f44303c6"
   },
   "outputs": [],
   "source": [
    "import pandas as pd\n",
    "import seaborn as sns\n",
    "import matplotlib.pyplot as plt\n",
    "import numpy as np\n",
    "import sklearn\n",
    "from sklearn.preprocessing import StandardScaler\n",
    "from sklearn.metrics import fbeta_score, roc_auc_score, f1_score, recall_score, precision_score, make_scorer\n",
    "from sklearn.model_selection import train_test_split\n",
    "from sklearn.model_selection import RandomizedSearchCV, GridSearchCV, StratifiedKFold\n",
    "import lightgbm\n",
    "from lightgbm import LGBMClassifier\n",
    "from sklearn.metrics import RocCurveDisplay, roc_curve\n",
    "from sklearn.metrics import classification_report, confusion_matrix\n",
    "from sklearn.metrics._plot.confusion_matrix import ConfusionMatrixDisplay\n",
    "from sklearn.linear_model import LogisticRegression"
   ]
  },
  {
   "cell_type": "code",
   "execution_count": 4,
   "id": "48174cca",
   "metadata": {
    "id": "48174cca",
    "outputId": "1cdba1a4-70d4-4756-a714-1223c857e914",
    "scrolled": true
   },
   "outputs": [
    {
     "name": "stdout",
     "output_type": "stream",
     "text": [
      "1.0.2\n"
     ]
    }
   ],
   "source": [
    "print(sklearn.__version__)"
   ]
  },
  {
   "cell_type": "code",
   "execution_count": 5,
   "id": "6f5da0ab",
   "metadata": {
    "id": "6f5da0ab",
    "outputId": "6c7da09f-937e-448f-d10f-89ea7f031921"
   },
   "outputs": [
    {
     "name": "stdout",
     "output_type": "stream",
     "text": [
      "1.21.5\n",
      "0.11.2\n"
     ]
    }
   ],
   "source": [
    "print(np.__version__)\n",
    "print(sns.__version__)"
   ]
  },
  {
   "cell_type": "code",
   "execution_count": 6,
   "id": "1268de26",
   "metadata": {
    "id": "1268de26"
   },
   "outputs": [],
   "source": [
    "#pip install sklearn"
   ]
  },
  {
   "cell_type": "markdown",
   "id": "peYUhNwCLhzy",
   "metadata": {
    "id": "peYUhNwCLhzy"
   },
   "source": [
    "# Importation des données originales"
   ]
  },
  {
   "cell_type": "code",
   "execution_count": 2,
   "id": "03201018",
   "metadata": {
    "id": "03201018"
   },
   "outputs": [],
   "source": [
    "# données originales\n",
    "path_1 = r\"D:\\DESKTOP IMPORTANT\\Recherche d'emploi\\OPENCLASSROOM\\PROJET 7 Implémentez un modèle de scoring\\Projet+Mise+en+prod+-+home-credit-default-risk\\fichiers de travail\\dataset_to_train_model_fill.csv\""
   ]
  },
  {
   "cell_type": "code",
   "execution_count": 3,
   "id": "d61b46e4",
   "metadata": {
    "id": "d61b46e4",
    "outputId": "c1f59727-f9a4-4a2f-f24e-1fbb82d92d07"
   },
   "outputs": [
    {
     "data": {
      "text/html": [
       "<div>\n",
       "<style scoped>\n",
       "    .dataframe tbody tr th:only-of-type {\n",
       "        vertical-align: middle;\n",
       "    }\n",
       "\n",
       "    .dataframe tbody tr th {\n",
       "        vertical-align: top;\n",
       "    }\n",
       "\n",
       "    .dataframe thead th {\n",
       "        text-align: right;\n",
       "    }\n",
       "</style>\n",
       "<table border=\"1\" class=\"dataframe\">\n",
       "  <thead>\n",
       "    <tr style=\"text-align: right;\">\n",
       "      <th></th>\n",
       "      <th>Unnamed: 0</th>\n",
       "      <th>index</th>\n",
       "      <th>TARGET</th>\n",
       "      <th>SK_ID_CURR</th>\n",
       "      <th>CODE_GENDER</th>\n",
       "      <th>FLAG_OWN_CAR</th>\n",
       "      <th>FLAG_OWN_REALTY</th>\n",
       "      <th>CNT_CHILDREN</th>\n",
       "      <th>AMT_INCOME_TOTAL</th>\n",
       "      <th>AMT_CREDIT</th>\n",
       "      <th>...</th>\n",
       "      <th>CC_NAME_CONTRACT_STATUS_Signed_MAX</th>\n",
       "      <th>CC_NAME_CONTRACT_STATUS_Signed_MEAN</th>\n",
       "      <th>CC_NAME_CONTRACT_STATUS_Signed_SUM</th>\n",
       "      <th>CC_NAME_CONTRACT_STATUS_Signed_VAR</th>\n",
       "      <th>CC_NAME_CONTRACT_STATUS_nan_MIN</th>\n",
       "      <th>CC_NAME_CONTRACT_STATUS_nan_MAX</th>\n",
       "      <th>CC_NAME_CONTRACT_STATUS_nan_MEAN</th>\n",
       "      <th>CC_NAME_CONTRACT_STATUS_nan_SUM</th>\n",
       "      <th>CC_NAME_CONTRACT_STATUS_nan_VAR</th>\n",
       "      <th>CC_COUNT</th>\n",
       "    </tr>\n",
       "  </thead>\n",
       "  <tbody>\n",
       "    <tr>\n",
       "      <th>0</th>\n",
       "      <td>0</td>\n",
       "      <td>0</td>\n",
       "      <td>1.0</td>\n",
       "      <td>100002</td>\n",
       "      <td>0.0</td>\n",
       "      <td>0.0</td>\n",
       "      <td>0.0</td>\n",
       "      <td>0.0</td>\n",
       "      <td>202500.0</td>\n",
       "      <td>406597.5</td>\n",
       "      <td>...</td>\n",
       "      <td>0.0</td>\n",
       "      <td>0.0</td>\n",
       "      <td>0.0</td>\n",
       "      <td>0.0</td>\n",
       "      <td>0.0</td>\n",
       "      <td>0.0</td>\n",
       "      <td>0.0</td>\n",
       "      <td>0.0</td>\n",
       "      <td>0.0</td>\n",
       "      <td>22.0</td>\n",
       "    </tr>\n",
       "    <tr>\n",
       "      <th>1</th>\n",
       "      <td>1</td>\n",
       "      <td>1</td>\n",
       "      <td>0.0</td>\n",
       "      <td>100003</td>\n",
       "      <td>1.0</td>\n",
       "      <td>0.0</td>\n",
       "      <td>1.0</td>\n",
       "      <td>0.0</td>\n",
       "      <td>270000.0</td>\n",
       "      <td>1293502.5</td>\n",
       "      <td>...</td>\n",
       "      <td>0.0</td>\n",
       "      <td>0.0</td>\n",
       "      <td>0.0</td>\n",
       "      <td>0.0</td>\n",
       "      <td>0.0</td>\n",
       "      <td>0.0</td>\n",
       "      <td>0.0</td>\n",
       "      <td>0.0</td>\n",
       "      <td>0.0</td>\n",
       "      <td>22.0</td>\n",
       "    </tr>\n",
       "    <tr>\n",
       "      <th>2</th>\n",
       "      <td>2</td>\n",
       "      <td>2</td>\n",
       "      <td>0.0</td>\n",
       "      <td>100004</td>\n",
       "      <td>0.0</td>\n",
       "      <td>1.0</td>\n",
       "      <td>0.0</td>\n",
       "      <td>0.0</td>\n",
       "      <td>67500.0</td>\n",
       "      <td>135000.0</td>\n",
       "      <td>...</td>\n",
       "      <td>0.0</td>\n",
       "      <td>0.0</td>\n",
       "      <td>0.0</td>\n",
       "      <td>0.0</td>\n",
       "      <td>0.0</td>\n",
       "      <td>0.0</td>\n",
       "      <td>0.0</td>\n",
       "      <td>0.0</td>\n",
       "      <td>0.0</td>\n",
       "      <td>22.0</td>\n",
       "    </tr>\n",
       "    <tr>\n",
       "      <th>3</th>\n",
       "      <td>3</td>\n",
       "      <td>3</td>\n",
       "      <td>0.0</td>\n",
       "      <td>100006</td>\n",
       "      <td>1.0</td>\n",
       "      <td>0.0</td>\n",
       "      <td>0.0</td>\n",
       "      <td>0.0</td>\n",
       "      <td>135000.0</td>\n",
       "      <td>312682.5</td>\n",
       "      <td>...</td>\n",
       "      <td>0.0</td>\n",
       "      <td>0.0</td>\n",
       "      <td>0.0</td>\n",
       "      <td>0.0</td>\n",
       "      <td>0.0</td>\n",
       "      <td>0.0</td>\n",
       "      <td>0.0</td>\n",
       "      <td>0.0</td>\n",
       "      <td>0.0</td>\n",
       "      <td>6.0</td>\n",
       "    </tr>\n",
       "    <tr>\n",
       "      <th>4</th>\n",
       "      <td>4</td>\n",
       "      <td>4</td>\n",
       "      <td>0.0</td>\n",
       "      <td>100007</td>\n",
       "      <td>0.0</td>\n",
       "      <td>0.0</td>\n",
       "      <td>0.0</td>\n",
       "      <td>0.0</td>\n",
       "      <td>121500.0</td>\n",
       "      <td>513000.0</td>\n",
       "      <td>...</td>\n",
       "      <td>0.0</td>\n",
       "      <td>0.0</td>\n",
       "      <td>0.0</td>\n",
       "      <td>0.0</td>\n",
       "      <td>0.0</td>\n",
       "      <td>0.0</td>\n",
       "      <td>0.0</td>\n",
       "      <td>0.0</td>\n",
       "      <td>0.0</td>\n",
       "      <td>22.0</td>\n",
       "    </tr>\n",
       "    <tr>\n",
       "      <th>...</th>\n",
       "      <td>...</td>\n",
       "      <td>...</td>\n",
       "      <td>...</td>\n",
       "      <td>...</td>\n",
       "      <td>...</td>\n",
       "      <td>...</td>\n",
       "      <td>...</td>\n",
       "      <td>...</td>\n",
       "      <td>...</td>\n",
       "      <td>...</td>\n",
       "      <td>...</td>\n",
       "      <td>...</td>\n",
       "      <td>...</td>\n",
       "      <td>...</td>\n",
       "      <td>...</td>\n",
       "      <td>...</td>\n",
       "      <td>...</td>\n",
       "      <td>...</td>\n",
       "      <td>...</td>\n",
       "      <td>...</td>\n",
       "      <td>...</td>\n",
       "    </tr>\n",
       "    <tr>\n",
       "      <th>307502</th>\n",
       "      <td>307502</td>\n",
       "      <td>307506</td>\n",
       "      <td>0.0</td>\n",
       "      <td>456251</td>\n",
       "      <td>0.0</td>\n",
       "      <td>0.0</td>\n",
       "      <td>1.0</td>\n",
       "      <td>0.0</td>\n",
       "      <td>157500.0</td>\n",
       "      <td>254700.0</td>\n",
       "      <td>...</td>\n",
       "      <td>0.0</td>\n",
       "      <td>0.0</td>\n",
       "      <td>0.0</td>\n",
       "      <td>0.0</td>\n",
       "      <td>0.0</td>\n",
       "      <td>0.0</td>\n",
       "      <td>0.0</td>\n",
       "      <td>0.0</td>\n",
       "      <td>0.0</td>\n",
       "      <td>22.0</td>\n",
       "    </tr>\n",
       "    <tr>\n",
       "      <th>307503</th>\n",
       "      <td>307503</td>\n",
       "      <td>307507</td>\n",
       "      <td>0.0</td>\n",
       "      <td>456252</td>\n",
       "      <td>1.0</td>\n",
       "      <td>0.0</td>\n",
       "      <td>0.0</td>\n",
       "      <td>0.0</td>\n",
       "      <td>72000.0</td>\n",
       "      <td>269550.0</td>\n",
       "      <td>...</td>\n",
       "      <td>0.0</td>\n",
       "      <td>0.0</td>\n",
       "      <td>0.0</td>\n",
       "      <td>0.0</td>\n",
       "      <td>0.0</td>\n",
       "      <td>0.0</td>\n",
       "      <td>0.0</td>\n",
       "      <td>0.0</td>\n",
       "      <td>0.0</td>\n",
       "      <td>22.0</td>\n",
       "    </tr>\n",
       "    <tr>\n",
       "      <th>307504</th>\n",
       "      <td>307504</td>\n",
       "      <td>307508</td>\n",
       "      <td>0.0</td>\n",
       "      <td>456253</td>\n",
       "      <td>1.0</td>\n",
       "      <td>0.0</td>\n",
       "      <td>0.0</td>\n",
       "      <td>0.0</td>\n",
       "      <td>153000.0</td>\n",
       "      <td>677664.0</td>\n",
       "      <td>...</td>\n",
       "      <td>0.0</td>\n",
       "      <td>0.0</td>\n",
       "      <td>0.0</td>\n",
       "      <td>0.0</td>\n",
       "      <td>0.0</td>\n",
       "      <td>0.0</td>\n",
       "      <td>0.0</td>\n",
       "      <td>0.0</td>\n",
       "      <td>0.0</td>\n",
       "      <td>22.0</td>\n",
       "    </tr>\n",
       "    <tr>\n",
       "      <th>307505</th>\n",
       "      <td>307505</td>\n",
       "      <td>307509</td>\n",
       "      <td>1.0</td>\n",
       "      <td>456254</td>\n",
       "      <td>1.0</td>\n",
       "      <td>0.0</td>\n",
       "      <td>0.0</td>\n",
       "      <td>0.0</td>\n",
       "      <td>171000.0</td>\n",
       "      <td>370107.0</td>\n",
       "      <td>...</td>\n",
       "      <td>0.0</td>\n",
       "      <td>0.0</td>\n",
       "      <td>0.0</td>\n",
       "      <td>0.0</td>\n",
       "      <td>0.0</td>\n",
       "      <td>0.0</td>\n",
       "      <td>0.0</td>\n",
       "      <td>0.0</td>\n",
       "      <td>0.0</td>\n",
       "      <td>22.0</td>\n",
       "    </tr>\n",
       "    <tr>\n",
       "      <th>307506</th>\n",
       "      <td>307506</td>\n",
       "      <td>307510</td>\n",
       "      <td>0.0</td>\n",
       "      <td>456255</td>\n",
       "      <td>1.0</td>\n",
       "      <td>0.0</td>\n",
       "      <td>1.0</td>\n",
       "      <td>0.0</td>\n",
       "      <td>157500.0</td>\n",
       "      <td>675000.0</td>\n",
       "      <td>...</td>\n",
       "      <td>0.0</td>\n",
       "      <td>0.0</td>\n",
       "      <td>0.0</td>\n",
       "      <td>0.0</td>\n",
       "      <td>0.0</td>\n",
       "      <td>0.0</td>\n",
       "      <td>0.0</td>\n",
       "      <td>0.0</td>\n",
       "      <td>0.0</td>\n",
       "      <td>22.0</td>\n",
       "    </tr>\n",
       "  </tbody>\n",
       "</table>\n",
       "<p>307507 rows × 799 columns</p>\n",
       "</div>"
      ],
      "text/plain": [
       "        Unnamed: 0   index  TARGET  SK_ID_CURR  CODE_GENDER  FLAG_OWN_CAR  \\\n",
       "0                0       0     1.0      100002          0.0           0.0   \n",
       "1                1       1     0.0      100003          1.0           0.0   \n",
       "2                2       2     0.0      100004          0.0           1.0   \n",
       "3                3       3     0.0      100006          1.0           0.0   \n",
       "4                4       4     0.0      100007          0.0           0.0   \n",
       "...            ...     ...     ...         ...          ...           ...   \n",
       "307502      307502  307506     0.0      456251          0.0           0.0   \n",
       "307503      307503  307507     0.0      456252          1.0           0.0   \n",
       "307504      307504  307508     0.0      456253          1.0           0.0   \n",
       "307505      307505  307509     1.0      456254          1.0           0.0   \n",
       "307506      307506  307510     0.0      456255          1.0           0.0   \n",
       "\n",
       "        FLAG_OWN_REALTY  CNT_CHILDREN  AMT_INCOME_TOTAL  AMT_CREDIT  ...  \\\n",
       "0                   0.0           0.0          202500.0    406597.5  ...   \n",
       "1                   1.0           0.0          270000.0   1293502.5  ...   \n",
       "2                   0.0           0.0           67500.0    135000.0  ...   \n",
       "3                   0.0           0.0          135000.0    312682.5  ...   \n",
       "4                   0.0           0.0          121500.0    513000.0  ...   \n",
       "...                 ...           ...               ...         ...  ...   \n",
       "307502              1.0           0.0          157500.0    254700.0  ...   \n",
       "307503              0.0           0.0           72000.0    269550.0  ...   \n",
       "307504              0.0           0.0          153000.0    677664.0  ...   \n",
       "307505              0.0           0.0          171000.0    370107.0  ...   \n",
       "307506              1.0           0.0          157500.0    675000.0  ...   \n",
       "\n",
       "        CC_NAME_CONTRACT_STATUS_Signed_MAX  \\\n",
       "0                                      0.0   \n",
       "1                                      0.0   \n",
       "2                                      0.0   \n",
       "3                                      0.0   \n",
       "4                                      0.0   \n",
       "...                                    ...   \n",
       "307502                                 0.0   \n",
       "307503                                 0.0   \n",
       "307504                                 0.0   \n",
       "307505                                 0.0   \n",
       "307506                                 0.0   \n",
       "\n",
       "        CC_NAME_CONTRACT_STATUS_Signed_MEAN  \\\n",
       "0                                       0.0   \n",
       "1                                       0.0   \n",
       "2                                       0.0   \n",
       "3                                       0.0   \n",
       "4                                       0.0   \n",
       "...                                     ...   \n",
       "307502                                  0.0   \n",
       "307503                                  0.0   \n",
       "307504                                  0.0   \n",
       "307505                                  0.0   \n",
       "307506                                  0.0   \n",
       "\n",
       "        CC_NAME_CONTRACT_STATUS_Signed_SUM  \\\n",
       "0                                      0.0   \n",
       "1                                      0.0   \n",
       "2                                      0.0   \n",
       "3                                      0.0   \n",
       "4                                      0.0   \n",
       "...                                    ...   \n",
       "307502                                 0.0   \n",
       "307503                                 0.0   \n",
       "307504                                 0.0   \n",
       "307505                                 0.0   \n",
       "307506                                 0.0   \n",
       "\n",
       "        CC_NAME_CONTRACT_STATUS_Signed_VAR  CC_NAME_CONTRACT_STATUS_nan_MIN  \\\n",
       "0                                      0.0                              0.0   \n",
       "1                                      0.0                              0.0   \n",
       "2                                      0.0                              0.0   \n",
       "3                                      0.0                              0.0   \n",
       "4                                      0.0                              0.0   \n",
       "...                                    ...                              ...   \n",
       "307502                                 0.0                              0.0   \n",
       "307503                                 0.0                              0.0   \n",
       "307504                                 0.0                              0.0   \n",
       "307505                                 0.0                              0.0   \n",
       "307506                                 0.0                              0.0   \n",
       "\n",
       "        CC_NAME_CONTRACT_STATUS_nan_MAX  CC_NAME_CONTRACT_STATUS_nan_MEAN  \\\n",
       "0                                   0.0                               0.0   \n",
       "1                                   0.0                               0.0   \n",
       "2                                   0.0                               0.0   \n",
       "3                                   0.0                               0.0   \n",
       "4                                   0.0                               0.0   \n",
       "...                                 ...                               ...   \n",
       "307502                              0.0                               0.0   \n",
       "307503                              0.0                               0.0   \n",
       "307504                              0.0                               0.0   \n",
       "307505                              0.0                               0.0   \n",
       "307506                              0.0                               0.0   \n",
       "\n",
       "        CC_NAME_CONTRACT_STATUS_nan_SUM  CC_NAME_CONTRACT_STATUS_nan_VAR  \\\n",
       "0                                   0.0                              0.0   \n",
       "1                                   0.0                              0.0   \n",
       "2                                   0.0                              0.0   \n",
       "3                                   0.0                              0.0   \n",
       "4                                   0.0                              0.0   \n",
       "...                                 ...                              ...   \n",
       "307502                              0.0                              0.0   \n",
       "307503                              0.0                              0.0   \n",
       "307504                              0.0                              0.0   \n",
       "307505                              0.0                              0.0   \n",
       "307506                              0.0                              0.0   \n",
       "\n",
       "        CC_COUNT  \n",
       "0           22.0  \n",
       "1           22.0  \n",
       "2           22.0  \n",
       "3            6.0  \n",
       "4           22.0  \n",
       "...          ...  \n",
       "307502      22.0  \n",
       "307503      22.0  \n",
       "307504      22.0  \n",
       "307505      22.0  \n",
       "307506      22.0  \n",
       "\n",
       "[307507 rows x 799 columns]"
      ]
     },
     "execution_count": 3,
     "metadata": {},
     "output_type": "execute_result"
    }
   ],
   "source": [
    "train_df = pd.read_csv(path_1)\n",
    "train_df"
   ]
  },
  {
   "cell_type": "code",
   "execution_count": 4,
   "id": "f0f41096",
   "metadata": {
    "id": "f0f41096",
    "outputId": "c7c0ecaf-8312-47d4-ab8b-79c03b39860d"
   },
   "outputs": [
    {
     "data": {
      "text/html": [
       "<div>\n",
       "<style scoped>\n",
       "    .dataframe tbody tr th:only-of-type {\n",
       "        vertical-align: middle;\n",
       "    }\n",
       "\n",
       "    .dataframe tbody tr th {\n",
       "        vertical-align: top;\n",
       "    }\n",
       "\n",
       "    .dataframe thead th {\n",
       "        text-align: right;\n",
       "    }\n",
       "</style>\n",
       "<table border=\"1\" class=\"dataframe\">\n",
       "  <thead>\n",
       "    <tr style=\"text-align: right;\">\n",
       "      <th></th>\n",
       "      <th>index</th>\n",
       "      <th>TARGET</th>\n",
       "      <th>SK_ID_CURR</th>\n",
       "      <th>CODE_GENDER</th>\n",
       "      <th>FLAG_OWN_CAR</th>\n",
       "      <th>FLAG_OWN_REALTY</th>\n",
       "      <th>CNT_CHILDREN</th>\n",
       "      <th>AMT_INCOME_TOTAL</th>\n",
       "      <th>AMT_CREDIT</th>\n",
       "      <th>AMT_ANNUITY</th>\n",
       "      <th>...</th>\n",
       "      <th>CC_NAME_CONTRACT_STATUS_Signed_MAX</th>\n",
       "      <th>CC_NAME_CONTRACT_STATUS_Signed_MEAN</th>\n",
       "      <th>CC_NAME_CONTRACT_STATUS_Signed_SUM</th>\n",
       "      <th>CC_NAME_CONTRACT_STATUS_Signed_VAR</th>\n",
       "      <th>CC_NAME_CONTRACT_STATUS_nan_MIN</th>\n",
       "      <th>CC_NAME_CONTRACT_STATUS_nan_MAX</th>\n",
       "      <th>CC_NAME_CONTRACT_STATUS_nan_MEAN</th>\n",
       "      <th>CC_NAME_CONTRACT_STATUS_nan_SUM</th>\n",
       "      <th>CC_NAME_CONTRACT_STATUS_nan_VAR</th>\n",
       "      <th>CC_COUNT</th>\n",
       "    </tr>\n",
       "  </thead>\n",
       "  <tbody>\n",
       "    <tr>\n",
       "      <th>0</th>\n",
       "      <td>0</td>\n",
       "      <td>1.0</td>\n",
       "      <td>100002</td>\n",
       "      <td>0.0</td>\n",
       "      <td>0.0</td>\n",
       "      <td>0.0</td>\n",
       "      <td>0.0</td>\n",
       "      <td>202500.0</td>\n",
       "      <td>406597.5</td>\n",
       "      <td>24700.5</td>\n",
       "      <td>...</td>\n",
       "      <td>0.0</td>\n",
       "      <td>0.0</td>\n",
       "      <td>0.0</td>\n",
       "      <td>0.0</td>\n",
       "      <td>0.0</td>\n",
       "      <td>0.0</td>\n",
       "      <td>0.0</td>\n",
       "      <td>0.0</td>\n",
       "      <td>0.0</td>\n",
       "      <td>22.0</td>\n",
       "    </tr>\n",
       "    <tr>\n",
       "      <th>1</th>\n",
       "      <td>1</td>\n",
       "      <td>0.0</td>\n",
       "      <td>100003</td>\n",
       "      <td>1.0</td>\n",
       "      <td>0.0</td>\n",
       "      <td>1.0</td>\n",
       "      <td>0.0</td>\n",
       "      <td>270000.0</td>\n",
       "      <td>1293502.5</td>\n",
       "      <td>35698.5</td>\n",
       "      <td>...</td>\n",
       "      <td>0.0</td>\n",
       "      <td>0.0</td>\n",
       "      <td>0.0</td>\n",
       "      <td>0.0</td>\n",
       "      <td>0.0</td>\n",
       "      <td>0.0</td>\n",
       "      <td>0.0</td>\n",
       "      <td>0.0</td>\n",
       "      <td>0.0</td>\n",
       "      <td>22.0</td>\n",
       "    </tr>\n",
       "    <tr>\n",
       "      <th>2</th>\n",
       "      <td>2</td>\n",
       "      <td>0.0</td>\n",
       "      <td>100004</td>\n",
       "      <td>0.0</td>\n",
       "      <td>1.0</td>\n",
       "      <td>0.0</td>\n",
       "      <td>0.0</td>\n",
       "      <td>67500.0</td>\n",
       "      <td>135000.0</td>\n",
       "      <td>6750.0</td>\n",
       "      <td>...</td>\n",
       "      <td>0.0</td>\n",
       "      <td>0.0</td>\n",
       "      <td>0.0</td>\n",
       "      <td>0.0</td>\n",
       "      <td>0.0</td>\n",
       "      <td>0.0</td>\n",
       "      <td>0.0</td>\n",
       "      <td>0.0</td>\n",
       "      <td>0.0</td>\n",
       "      <td>22.0</td>\n",
       "    </tr>\n",
       "    <tr>\n",
       "      <th>3</th>\n",
       "      <td>3</td>\n",
       "      <td>0.0</td>\n",
       "      <td>100006</td>\n",
       "      <td>1.0</td>\n",
       "      <td>0.0</td>\n",
       "      <td>0.0</td>\n",
       "      <td>0.0</td>\n",
       "      <td>135000.0</td>\n",
       "      <td>312682.5</td>\n",
       "      <td>29686.5</td>\n",
       "      <td>...</td>\n",
       "      <td>0.0</td>\n",
       "      <td>0.0</td>\n",
       "      <td>0.0</td>\n",
       "      <td>0.0</td>\n",
       "      <td>0.0</td>\n",
       "      <td>0.0</td>\n",
       "      <td>0.0</td>\n",
       "      <td>0.0</td>\n",
       "      <td>0.0</td>\n",
       "      <td>6.0</td>\n",
       "    </tr>\n",
       "    <tr>\n",
       "      <th>4</th>\n",
       "      <td>4</td>\n",
       "      <td>0.0</td>\n",
       "      <td>100007</td>\n",
       "      <td>0.0</td>\n",
       "      <td>0.0</td>\n",
       "      <td>0.0</td>\n",
       "      <td>0.0</td>\n",
       "      <td>121500.0</td>\n",
       "      <td>513000.0</td>\n",
       "      <td>21865.5</td>\n",
       "      <td>...</td>\n",
       "      <td>0.0</td>\n",
       "      <td>0.0</td>\n",
       "      <td>0.0</td>\n",
       "      <td>0.0</td>\n",
       "      <td>0.0</td>\n",
       "      <td>0.0</td>\n",
       "      <td>0.0</td>\n",
       "      <td>0.0</td>\n",
       "      <td>0.0</td>\n",
       "      <td>22.0</td>\n",
       "    </tr>\n",
       "    <tr>\n",
       "      <th>...</th>\n",
       "      <td>...</td>\n",
       "      <td>...</td>\n",
       "      <td>...</td>\n",
       "      <td>...</td>\n",
       "      <td>...</td>\n",
       "      <td>...</td>\n",
       "      <td>...</td>\n",
       "      <td>...</td>\n",
       "      <td>...</td>\n",
       "      <td>...</td>\n",
       "      <td>...</td>\n",
       "      <td>...</td>\n",
       "      <td>...</td>\n",
       "      <td>...</td>\n",
       "      <td>...</td>\n",
       "      <td>...</td>\n",
       "      <td>...</td>\n",
       "      <td>...</td>\n",
       "      <td>...</td>\n",
       "      <td>...</td>\n",
       "      <td>...</td>\n",
       "    </tr>\n",
       "    <tr>\n",
       "      <th>307502</th>\n",
       "      <td>307506</td>\n",
       "      <td>0.0</td>\n",
       "      <td>456251</td>\n",
       "      <td>0.0</td>\n",
       "      <td>0.0</td>\n",
       "      <td>1.0</td>\n",
       "      <td>0.0</td>\n",
       "      <td>157500.0</td>\n",
       "      <td>254700.0</td>\n",
       "      <td>27558.0</td>\n",
       "      <td>...</td>\n",
       "      <td>0.0</td>\n",
       "      <td>0.0</td>\n",
       "      <td>0.0</td>\n",
       "      <td>0.0</td>\n",
       "      <td>0.0</td>\n",
       "      <td>0.0</td>\n",
       "      <td>0.0</td>\n",
       "      <td>0.0</td>\n",
       "      <td>0.0</td>\n",
       "      <td>22.0</td>\n",
       "    </tr>\n",
       "    <tr>\n",
       "      <th>307503</th>\n",
       "      <td>307507</td>\n",
       "      <td>0.0</td>\n",
       "      <td>456252</td>\n",
       "      <td>1.0</td>\n",
       "      <td>0.0</td>\n",
       "      <td>0.0</td>\n",
       "      <td>0.0</td>\n",
       "      <td>72000.0</td>\n",
       "      <td>269550.0</td>\n",
       "      <td>12001.5</td>\n",
       "      <td>...</td>\n",
       "      <td>0.0</td>\n",
       "      <td>0.0</td>\n",
       "      <td>0.0</td>\n",
       "      <td>0.0</td>\n",
       "      <td>0.0</td>\n",
       "      <td>0.0</td>\n",
       "      <td>0.0</td>\n",
       "      <td>0.0</td>\n",
       "      <td>0.0</td>\n",
       "      <td>22.0</td>\n",
       "    </tr>\n",
       "    <tr>\n",
       "      <th>307504</th>\n",
       "      <td>307508</td>\n",
       "      <td>0.0</td>\n",
       "      <td>456253</td>\n",
       "      <td>1.0</td>\n",
       "      <td>0.0</td>\n",
       "      <td>0.0</td>\n",
       "      <td>0.0</td>\n",
       "      <td>153000.0</td>\n",
       "      <td>677664.0</td>\n",
       "      <td>29979.0</td>\n",
       "      <td>...</td>\n",
       "      <td>0.0</td>\n",
       "      <td>0.0</td>\n",
       "      <td>0.0</td>\n",
       "      <td>0.0</td>\n",
       "      <td>0.0</td>\n",
       "      <td>0.0</td>\n",
       "      <td>0.0</td>\n",
       "      <td>0.0</td>\n",
       "      <td>0.0</td>\n",
       "      <td>22.0</td>\n",
       "    </tr>\n",
       "    <tr>\n",
       "      <th>307505</th>\n",
       "      <td>307509</td>\n",
       "      <td>1.0</td>\n",
       "      <td>456254</td>\n",
       "      <td>1.0</td>\n",
       "      <td>0.0</td>\n",
       "      <td>0.0</td>\n",
       "      <td>0.0</td>\n",
       "      <td>171000.0</td>\n",
       "      <td>370107.0</td>\n",
       "      <td>20205.0</td>\n",
       "      <td>...</td>\n",
       "      <td>0.0</td>\n",
       "      <td>0.0</td>\n",
       "      <td>0.0</td>\n",
       "      <td>0.0</td>\n",
       "      <td>0.0</td>\n",
       "      <td>0.0</td>\n",
       "      <td>0.0</td>\n",
       "      <td>0.0</td>\n",
       "      <td>0.0</td>\n",
       "      <td>22.0</td>\n",
       "    </tr>\n",
       "    <tr>\n",
       "      <th>307506</th>\n",
       "      <td>307510</td>\n",
       "      <td>0.0</td>\n",
       "      <td>456255</td>\n",
       "      <td>1.0</td>\n",
       "      <td>0.0</td>\n",
       "      <td>1.0</td>\n",
       "      <td>0.0</td>\n",
       "      <td>157500.0</td>\n",
       "      <td>675000.0</td>\n",
       "      <td>49117.5</td>\n",
       "      <td>...</td>\n",
       "      <td>0.0</td>\n",
       "      <td>0.0</td>\n",
       "      <td>0.0</td>\n",
       "      <td>0.0</td>\n",
       "      <td>0.0</td>\n",
       "      <td>0.0</td>\n",
       "      <td>0.0</td>\n",
       "      <td>0.0</td>\n",
       "      <td>0.0</td>\n",
       "      <td>22.0</td>\n",
       "    </tr>\n",
       "  </tbody>\n",
       "</table>\n",
       "<p>307507 rows × 798 columns</p>\n",
       "</div>"
      ],
      "text/plain": [
       "         index  TARGET  SK_ID_CURR  CODE_GENDER  FLAG_OWN_CAR  \\\n",
       "0            0     1.0      100002          0.0           0.0   \n",
       "1            1     0.0      100003          1.0           0.0   \n",
       "2            2     0.0      100004          0.0           1.0   \n",
       "3            3     0.0      100006          1.0           0.0   \n",
       "4            4     0.0      100007          0.0           0.0   \n",
       "...        ...     ...         ...          ...           ...   \n",
       "307502  307506     0.0      456251          0.0           0.0   \n",
       "307503  307507     0.0      456252          1.0           0.0   \n",
       "307504  307508     0.0      456253          1.0           0.0   \n",
       "307505  307509     1.0      456254          1.0           0.0   \n",
       "307506  307510     0.0      456255          1.0           0.0   \n",
       "\n",
       "        FLAG_OWN_REALTY  CNT_CHILDREN  AMT_INCOME_TOTAL  AMT_CREDIT  \\\n",
       "0                   0.0           0.0          202500.0    406597.5   \n",
       "1                   1.0           0.0          270000.0   1293502.5   \n",
       "2                   0.0           0.0           67500.0    135000.0   \n",
       "3                   0.0           0.0          135000.0    312682.5   \n",
       "4                   0.0           0.0          121500.0    513000.0   \n",
       "...                 ...           ...               ...         ...   \n",
       "307502              1.0           0.0          157500.0    254700.0   \n",
       "307503              0.0           0.0           72000.0    269550.0   \n",
       "307504              0.0           0.0          153000.0    677664.0   \n",
       "307505              0.0           0.0          171000.0    370107.0   \n",
       "307506              1.0           0.0          157500.0    675000.0   \n",
       "\n",
       "        AMT_ANNUITY  ...  CC_NAME_CONTRACT_STATUS_Signed_MAX  \\\n",
       "0           24700.5  ...                                 0.0   \n",
       "1           35698.5  ...                                 0.0   \n",
       "2            6750.0  ...                                 0.0   \n",
       "3           29686.5  ...                                 0.0   \n",
       "4           21865.5  ...                                 0.0   \n",
       "...             ...  ...                                 ...   \n",
       "307502      27558.0  ...                                 0.0   \n",
       "307503      12001.5  ...                                 0.0   \n",
       "307504      29979.0  ...                                 0.0   \n",
       "307505      20205.0  ...                                 0.0   \n",
       "307506      49117.5  ...                                 0.0   \n",
       "\n",
       "        CC_NAME_CONTRACT_STATUS_Signed_MEAN  \\\n",
       "0                                       0.0   \n",
       "1                                       0.0   \n",
       "2                                       0.0   \n",
       "3                                       0.0   \n",
       "4                                       0.0   \n",
       "...                                     ...   \n",
       "307502                                  0.0   \n",
       "307503                                  0.0   \n",
       "307504                                  0.0   \n",
       "307505                                  0.0   \n",
       "307506                                  0.0   \n",
       "\n",
       "        CC_NAME_CONTRACT_STATUS_Signed_SUM  \\\n",
       "0                                      0.0   \n",
       "1                                      0.0   \n",
       "2                                      0.0   \n",
       "3                                      0.0   \n",
       "4                                      0.0   \n",
       "...                                    ...   \n",
       "307502                                 0.0   \n",
       "307503                                 0.0   \n",
       "307504                                 0.0   \n",
       "307505                                 0.0   \n",
       "307506                                 0.0   \n",
       "\n",
       "        CC_NAME_CONTRACT_STATUS_Signed_VAR  CC_NAME_CONTRACT_STATUS_nan_MIN  \\\n",
       "0                                      0.0                              0.0   \n",
       "1                                      0.0                              0.0   \n",
       "2                                      0.0                              0.0   \n",
       "3                                      0.0                              0.0   \n",
       "4                                      0.0                              0.0   \n",
       "...                                    ...                              ...   \n",
       "307502                                 0.0                              0.0   \n",
       "307503                                 0.0                              0.0   \n",
       "307504                                 0.0                              0.0   \n",
       "307505                                 0.0                              0.0   \n",
       "307506                                 0.0                              0.0   \n",
       "\n",
       "        CC_NAME_CONTRACT_STATUS_nan_MAX  CC_NAME_CONTRACT_STATUS_nan_MEAN  \\\n",
       "0                                   0.0                               0.0   \n",
       "1                                   0.0                               0.0   \n",
       "2                                   0.0                               0.0   \n",
       "3                                   0.0                               0.0   \n",
       "4                                   0.0                               0.0   \n",
       "...                                 ...                               ...   \n",
       "307502                              0.0                               0.0   \n",
       "307503                              0.0                               0.0   \n",
       "307504                              0.0                               0.0   \n",
       "307505                              0.0                               0.0   \n",
       "307506                              0.0                               0.0   \n",
       "\n",
       "        CC_NAME_CONTRACT_STATUS_nan_SUM  CC_NAME_CONTRACT_STATUS_nan_VAR  \\\n",
       "0                                   0.0                              0.0   \n",
       "1                                   0.0                              0.0   \n",
       "2                                   0.0                              0.0   \n",
       "3                                   0.0                              0.0   \n",
       "4                                   0.0                              0.0   \n",
       "...                                 ...                              ...   \n",
       "307502                              0.0                              0.0   \n",
       "307503                              0.0                              0.0   \n",
       "307504                              0.0                              0.0   \n",
       "307505                              0.0                              0.0   \n",
       "307506                              0.0                              0.0   \n",
       "\n",
       "        CC_COUNT  \n",
       "0           22.0  \n",
       "1           22.0  \n",
       "2           22.0  \n",
       "3            6.0  \n",
       "4           22.0  \n",
       "...          ...  \n",
       "307502      22.0  \n",
       "307503      22.0  \n",
       "307504      22.0  \n",
       "307505      22.0  \n",
       "307506      22.0  \n",
       "\n",
       "[307507 rows x 798 columns]"
      ]
     },
     "execution_count": 4,
     "metadata": {},
     "output_type": "execute_result"
    }
   ],
   "source": [
    "train_df = train_df.drop(\"Unnamed: 0\", axis=1)\n",
    "train_df"
   ]
  },
  {
   "cell_type": "code",
   "execution_count": 5,
   "id": "aee2afb6",
   "metadata": {
    "id": "aee2afb6"
   },
   "outputs": [],
   "source": [
    "# ressotir uniquement les variables explicatives et dépendante\n",
    "feat = [f for f in train_df.columns if f not in [\"index\", \"SK_ID_CURR\"]]"
   ]
  },
  {
   "cell_type": "code",
   "execution_count": 6,
   "id": "6d7c03b1",
   "metadata": {
    "id": "6d7c03b1"
   },
   "outputs": [],
   "source": [
    "import re "
   ]
  },
  {
   "cell_type": "code",
   "execution_count": 7,
   "id": "8b289584",
   "metadata": {
    "id": "8b289584"
   },
   "outputs": [],
   "source": [
    "train_dff = train_df[feat]\n",
    "train_dff = train_dff.rename(columns = lambda x:re.sub('[^A-Za-z0-9_]+', '', x))"
   ]
  },
  {
   "cell_type": "code",
   "execution_count": 8,
   "id": "54576ab1",
   "metadata": {
    "id": "54576ab1",
    "outputId": "2f0953be-6b39-4394-ee77-ffd8d166b370"
   },
   "outputs": [
    {
     "data": {
      "text/html": [
       "<div>\n",
       "<style scoped>\n",
       "    .dataframe tbody tr th:only-of-type {\n",
       "        vertical-align: middle;\n",
       "    }\n",
       "\n",
       "    .dataframe tbody tr th {\n",
       "        vertical-align: top;\n",
       "    }\n",
       "\n",
       "    .dataframe thead th {\n",
       "        text-align: right;\n",
       "    }\n",
       "</style>\n",
       "<table border=\"1\" class=\"dataframe\">\n",
       "  <thead>\n",
       "    <tr style=\"text-align: right;\">\n",
       "      <th></th>\n",
       "      <th>TARGET</th>\n",
       "      <th>CODE_GENDER</th>\n",
       "      <th>FLAG_OWN_CAR</th>\n",
       "      <th>FLAG_OWN_REALTY</th>\n",
       "      <th>CNT_CHILDREN</th>\n",
       "      <th>AMT_INCOME_TOTAL</th>\n",
       "      <th>AMT_CREDIT</th>\n",
       "      <th>AMT_ANNUITY</th>\n",
       "      <th>AMT_GOODS_PRICE</th>\n",
       "      <th>REGION_POPULATION_RELATIVE</th>\n",
       "      <th>...</th>\n",
       "      <th>CC_NAME_CONTRACT_STATUS_Signed_MAX</th>\n",
       "      <th>CC_NAME_CONTRACT_STATUS_Signed_MEAN</th>\n",
       "      <th>CC_NAME_CONTRACT_STATUS_Signed_SUM</th>\n",
       "      <th>CC_NAME_CONTRACT_STATUS_Signed_VAR</th>\n",
       "      <th>CC_NAME_CONTRACT_STATUS_nan_MIN</th>\n",
       "      <th>CC_NAME_CONTRACT_STATUS_nan_MAX</th>\n",
       "      <th>CC_NAME_CONTRACT_STATUS_nan_MEAN</th>\n",
       "      <th>CC_NAME_CONTRACT_STATUS_nan_SUM</th>\n",
       "      <th>CC_NAME_CONTRACT_STATUS_nan_VAR</th>\n",
       "      <th>CC_COUNT</th>\n",
       "    </tr>\n",
       "  </thead>\n",
       "  <tbody>\n",
       "    <tr>\n",
       "      <th>0</th>\n",
       "      <td>1.0</td>\n",
       "      <td>0.0</td>\n",
       "      <td>0.0</td>\n",
       "      <td>0.0</td>\n",
       "      <td>0.0</td>\n",
       "      <td>202500.0</td>\n",
       "      <td>406597.5</td>\n",
       "      <td>24700.5</td>\n",
       "      <td>351000.0</td>\n",
       "      <td>0.018801</td>\n",
       "      <td>...</td>\n",
       "      <td>0.0</td>\n",
       "      <td>0.0</td>\n",
       "      <td>0.0</td>\n",
       "      <td>0.0</td>\n",
       "      <td>0.0</td>\n",
       "      <td>0.0</td>\n",
       "      <td>0.0</td>\n",
       "      <td>0.0</td>\n",
       "      <td>0.0</td>\n",
       "      <td>22.0</td>\n",
       "    </tr>\n",
       "    <tr>\n",
       "      <th>1</th>\n",
       "      <td>0.0</td>\n",
       "      <td>1.0</td>\n",
       "      <td>0.0</td>\n",
       "      <td>1.0</td>\n",
       "      <td>0.0</td>\n",
       "      <td>270000.0</td>\n",
       "      <td>1293502.5</td>\n",
       "      <td>35698.5</td>\n",
       "      <td>1129500.0</td>\n",
       "      <td>0.003541</td>\n",
       "      <td>...</td>\n",
       "      <td>0.0</td>\n",
       "      <td>0.0</td>\n",
       "      <td>0.0</td>\n",
       "      <td>0.0</td>\n",
       "      <td>0.0</td>\n",
       "      <td>0.0</td>\n",
       "      <td>0.0</td>\n",
       "      <td>0.0</td>\n",
       "      <td>0.0</td>\n",
       "      <td>22.0</td>\n",
       "    </tr>\n",
       "    <tr>\n",
       "      <th>2</th>\n",
       "      <td>0.0</td>\n",
       "      <td>0.0</td>\n",
       "      <td>1.0</td>\n",
       "      <td>0.0</td>\n",
       "      <td>0.0</td>\n",
       "      <td>67500.0</td>\n",
       "      <td>135000.0</td>\n",
       "      <td>6750.0</td>\n",
       "      <td>135000.0</td>\n",
       "      <td>0.010032</td>\n",
       "      <td>...</td>\n",
       "      <td>0.0</td>\n",
       "      <td>0.0</td>\n",
       "      <td>0.0</td>\n",
       "      <td>0.0</td>\n",
       "      <td>0.0</td>\n",
       "      <td>0.0</td>\n",
       "      <td>0.0</td>\n",
       "      <td>0.0</td>\n",
       "      <td>0.0</td>\n",
       "      <td>22.0</td>\n",
       "    </tr>\n",
       "    <tr>\n",
       "      <th>3</th>\n",
       "      <td>0.0</td>\n",
       "      <td>1.0</td>\n",
       "      <td>0.0</td>\n",
       "      <td>0.0</td>\n",
       "      <td>0.0</td>\n",
       "      <td>135000.0</td>\n",
       "      <td>312682.5</td>\n",
       "      <td>29686.5</td>\n",
       "      <td>297000.0</td>\n",
       "      <td>0.008019</td>\n",
       "      <td>...</td>\n",
       "      <td>0.0</td>\n",
       "      <td>0.0</td>\n",
       "      <td>0.0</td>\n",
       "      <td>0.0</td>\n",
       "      <td>0.0</td>\n",
       "      <td>0.0</td>\n",
       "      <td>0.0</td>\n",
       "      <td>0.0</td>\n",
       "      <td>0.0</td>\n",
       "      <td>6.0</td>\n",
       "    </tr>\n",
       "    <tr>\n",
       "      <th>4</th>\n",
       "      <td>0.0</td>\n",
       "      <td>0.0</td>\n",
       "      <td>0.0</td>\n",
       "      <td>0.0</td>\n",
       "      <td>0.0</td>\n",
       "      <td>121500.0</td>\n",
       "      <td>513000.0</td>\n",
       "      <td>21865.5</td>\n",
       "      <td>513000.0</td>\n",
       "      <td>0.028663</td>\n",
       "      <td>...</td>\n",
       "      <td>0.0</td>\n",
       "      <td>0.0</td>\n",
       "      <td>0.0</td>\n",
       "      <td>0.0</td>\n",
       "      <td>0.0</td>\n",
       "      <td>0.0</td>\n",
       "      <td>0.0</td>\n",
       "      <td>0.0</td>\n",
       "      <td>0.0</td>\n",
       "      <td>22.0</td>\n",
       "    </tr>\n",
       "    <tr>\n",
       "      <th>...</th>\n",
       "      <td>...</td>\n",
       "      <td>...</td>\n",
       "      <td>...</td>\n",
       "      <td>...</td>\n",
       "      <td>...</td>\n",
       "      <td>...</td>\n",
       "      <td>...</td>\n",
       "      <td>...</td>\n",
       "      <td>...</td>\n",
       "      <td>...</td>\n",
       "      <td>...</td>\n",
       "      <td>...</td>\n",
       "      <td>...</td>\n",
       "      <td>...</td>\n",
       "      <td>...</td>\n",
       "      <td>...</td>\n",
       "      <td>...</td>\n",
       "      <td>...</td>\n",
       "      <td>...</td>\n",
       "      <td>...</td>\n",
       "      <td>...</td>\n",
       "    </tr>\n",
       "    <tr>\n",
       "      <th>307502</th>\n",
       "      <td>0.0</td>\n",
       "      <td>0.0</td>\n",
       "      <td>0.0</td>\n",
       "      <td>1.0</td>\n",
       "      <td>0.0</td>\n",
       "      <td>157500.0</td>\n",
       "      <td>254700.0</td>\n",
       "      <td>27558.0</td>\n",
       "      <td>225000.0</td>\n",
       "      <td>0.032561</td>\n",
       "      <td>...</td>\n",
       "      <td>0.0</td>\n",
       "      <td>0.0</td>\n",
       "      <td>0.0</td>\n",
       "      <td>0.0</td>\n",
       "      <td>0.0</td>\n",
       "      <td>0.0</td>\n",
       "      <td>0.0</td>\n",
       "      <td>0.0</td>\n",
       "      <td>0.0</td>\n",
       "      <td>22.0</td>\n",
       "    </tr>\n",
       "    <tr>\n",
       "      <th>307503</th>\n",
       "      <td>0.0</td>\n",
       "      <td>1.0</td>\n",
       "      <td>0.0</td>\n",
       "      <td>0.0</td>\n",
       "      <td>0.0</td>\n",
       "      <td>72000.0</td>\n",
       "      <td>269550.0</td>\n",
       "      <td>12001.5</td>\n",
       "      <td>225000.0</td>\n",
       "      <td>0.025164</td>\n",
       "      <td>...</td>\n",
       "      <td>0.0</td>\n",
       "      <td>0.0</td>\n",
       "      <td>0.0</td>\n",
       "      <td>0.0</td>\n",
       "      <td>0.0</td>\n",
       "      <td>0.0</td>\n",
       "      <td>0.0</td>\n",
       "      <td>0.0</td>\n",
       "      <td>0.0</td>\n",
       "      <td>22.0</td>\n",
       "    </tr>\n",
       "    <tr>\n",
       "      <th>307504</th>\n",
       "      <td>0.0</td>\n",
       "      <td>1.0</td>\n",
       "      <td>0.0</td>\n",
       "      <td>0.0</td>\n",
       "      <td>0.0</td>\n",
       "      <td>153000.0</td>\n",
       "      <td>677664.0</td>\n",
       "      <td>29979.0</td>\n",
       "      <td>585000.0</td>\n",
       "      <td>0.005002</td>\n",
       "      <td>...</td>\n",
       "      <td>0.0</td>\n",
       "      <td>0.0</td>\n",
       "      <td>0.0</td>\n",
       "      <td>0.0</td>\n",
       "      <td>0.0</td>\n",
       "      <td>0.0</td>\n",
       "      <td>0.0</td>\n",
       "      <td>0.0</td>\n",
       "      <td>0.0</td>\n",
       "      <td>22.0</td>\n",
       "    </tr>\n",
       "    <tr>\n",
       "      <th>307505</th>\n",
       "      <td>1.0</td>\n",
       "      <td>1.0</td>\n",
       "      <td>0.0</td>\n",
       "      <td>0.0</td>\n",
       "      <td>0.0</td>\n",
       "      <td>171000.0</td>\n",
       "      <td>370107.0</td>\n",
       "      <td>20205.0</td>\n",
       "      <td>319500.0</td>\n",
       "      <td>0.005313</td>\n",
       "      <td>...</td>\n",
       "      <td>0.0</td>\n",
       "      <td>0.0</td>\n",
       "      <td>0.0</td>\n",
       "      <td>0.0</td>\n",
       "      <td>0.0</td>\n",
       "      <td>0.0</td>\n",
       "      <td>0.0</td>\n",
       "      <td>0.0</td>\n",
       "      <td>0.0</td>\n",
       "      <td>22.0</td>\n",
       "    </tr>\n",
       "    <tr>\n",
       "      <th>307506</th>\n",
       "      <td>0.0</td>\n",
       "      <td>1.0</td>\n",
       "      <td>0.0</td>\n",
       "      <td>1.0</td>\n",
       "      <td>0.0</td>\n",
       "      <td>157500.0</td>\n",
       "      <td>675000.0</td>\n",
       "      <td>49117.5</td>\n",
       "      <td>675000.0</td>\n",
       "      <td>0.046220</td>\n",
       "      <td>...</td>\n",
       "      <td>0.0</td>\n",
       "      <td>0.0</td>\n",
       "      <td>0.0</td>\n",
       "      <td>0.0</td>\n",
       "      <td>0.0</td>\n",
       "      <td>0.0</td>\n",
       "      <td>0.0</td>\n",
       "      <td>0.0</td>\n",
       "      <td>0.0</td>\n",
       "      <td>22.0</td>\n",
       "    </tr>\n",
       "  </tbody>\n",
       "</table>\n",
       "<p>307507 rows × 796 columns</p>\n",
       "</div>"
      ],
      "text/plain": [
       "        TARGET  CODE_GENDER  FLAG_OWN_CAR  FLAG_OWN_REALTY  CNT_CHILDREN  \\\n",
       "0          1.0          0.0           0.0              0.0           0.0   \n",
       "1          0.0          1.0           0.0              1.0           0.0   \n",
       "2          0.0          0.0           1.0              0.0           0.0   \n",
       "3          0.0          1.0           0.0              0.0           0.0   \n",
       "4          0.0          0.0           0.0              0.0           0.0   \n",
       "...        ...          ...           ...              ...           ...   \n",
       "307502     0.0          0.0           0.0              1.0           0.0   \n",
       "307503     0.0          1.0           0.0              0.0           0.0   \n",
       "307504     0.0          1.0           0.0              0.0           0.0   \n",
       "307505     1.0          1.0           0.0              0.0           0.0   \n",
       "307506     0.0          1.0           0.0              1.0           0.0   \n",
       "\n",
       "        AMT_INCOME_TOTAL  AMT_CREDIT  AMT_ANNUITY  AMT_GOODS_PRICE  \\\n",
       "0               202500.0    406597.5      24700.5         351000.0   \n",
       "1               270000.0   1293502.5      35698.5        1129500.0   \n",
       "2                67500.0    135000.0       6750.0         135000.0   \n",
       "3               135000.0    312682.5      29686.5         297000.0   \n",
       "4               121500.0    513000.0      21865.5         513000.0   \n",
       "...                  ...         ...          ...              ...   \n",
       "307502          157500.0    254700.0      27558.0         225000.0   \n",
       "307503           72000.0    269550.0      12001.5         225000.0   \n",
       "307504          153000.0    677664.0      29979.0         585000.0   \n",
       "307505          171000.0    370107.0      20205.0         319500.0   \n",
       "307506          157500.0    675000.0      49117.5         675000.0   \n",
       "\n",
       "        REGION_POPULATION_RELATIVE  ...  CC_NAME_CONTRACT_STATUS_Signed_MAX  \\\n",
       "0                         0.018801  ...                                 0.0   \n",
       "1                         0.003541  ...                                 0.0   \n",
       "2                         0.010032  ...                                 0.0   \n",
       "3                         0.008019  ...                                 0.0   \n",
       "4                         0.028663  ...                                 0.0   \n",
       "...                            ...  ...                                 ...   \n",
       "307502                    0.032561  ...                                 0.0   \n",
       "307503                    0.025164  ...                                 0.0   \n",
       "307504                    0.005002  ...                                 0.0   \n",
       "307505                    0.005313  ...                                 0.0   \n",
       "307506                    0.046220  ...                                 0.0   \n",
       "\n",
       "        CC_NAME_CONTRACT_STATUS_Signed_MEAN  \\\n",
       "0                                       0.0   \n",
       "1                                       0.0   \n",
       "2                                       0.0   \n",
       "3                                       0.0   \n",
       "4                                       0.0   \n",
       "...                                     ...   \n",
       "307502                                  0.0   \n",
       "307503                                  0.0   \n",
       "307504                                  0.0   \n",
       "307505                                  0.0   \n",
       "307506                                  0.0   \n",
       "\n",
       "        CC_NAME_CONTRACT_STATUS_Signed_SUM  \\\n",
       "0                                      0.0   \n",
       "1                                      0.0   \n",
       "2                                      0.0   \n",
       "3                                      0.0   \n",
       "4                                      0.0   \n",
       "...                                    ...   \n",
       "307502                                 0.0   \n",
       "307503                                 0.0   \n",
       "307504                                 0.0   \n",
       "307505                                 0.0   \n",
       "307506                                 0.0   \n",
       "\n",
       "        CC_NAME_CONTRACT_STATUS_Signed_VAR  CC_NAME_CONTRACT_STATUS_nan_MIN  \\\n",
       "0                                      0.0                              0.0   \n",
       "1                                      0.0                              0.0   \n",
       "2                                      0.0                              0.0   \n",
       "3                                      0.0                              0.0   \n",
       "4                                      0.0                              0.0   \n",
       "...                                    ...                              ...   \n",
       "307502                                 0.0                              0.0   \n",
       "307503                                 0.0                              0.0   \n",
       "307504                                 0.0                              0.0   \n",
       "307505                                 0.0                              0.0   \n",
       "307506                                 0.0                              0.0   \n",
       "\n",
       "        CC_NAME_CONTRACT_STATUS_nan_MAX  CC_NAME_CONTRACT_STATUS_nan_MEAN  \\\n",
       "0                                   0.0                               0.0   \n",
       "1                                   0.0                               0.0   \n",
       "2                                   0.0                               0.0   \n",
       "3                                   0.0                               0.0   \n",
       "4                                   0.0                               0.0   \n",
       "...                                 ...                               ...   \n",
       "307502                              0.0                               0.0   \n",
       "307503                              0.0                               0.0   \n",
       "307504                              0.0                               0.0   \n",
       "307505                              0.0                               0.0   \n",
       "307506                              0.0                               0.0   \n",
       "\n",
       "        CC_NAME_CONTRACT_STATUS_nan_SUM  CC_NAME_CONTRACT_STATUS_nan_VAR  \\\n",
       "0                                   0.0                              0.0   \n",
       "1                                   0.0                              0.0   \n",
       "2                                   0.0                              0.0   \n",
       "3                                   0.0                              0.0   \n",
       "4                                   0.0                              0.0   \n",
       "...                                 ...                              ...   \n",
       "307502                              0.0                              0.0   \n",
       "307503                              0.0                              0.0   \n",
       "307504                              0.0                              0.0   \n",
       "307505                              0.0                              0.0   \n",
       "307506                              0.0                              0.0   \n",
       "\n",
       "        CC_COUNT  \n",
       "0           22.0  \n",
       "1           22.0  \n",
       "2           22.0  \n",
       "3            6.0  \n",
       "4           22.0  \n",
       "...          ...  \n",
       "307502      22.0  \n",
       "307503      22.0  \n",
       "307504      22.0  \n",
       "307505      22.0  \n",
       "307506      22.0  \n",
       "\n",
       "[307507 rows x 796 columns]"
      ]
     },
     "execution_count": 8,
     "metadata": {},
     "output_type": "execute_result"
    }
   ],
   "source": [
    "train_dff"
   ]
  },
  {
   "cell_type": "markdown",
   "id": "3a6076cf",
   "metadata": {
    "id": "3a6076cf"
   },
   "source": [
    "# Rappel et redéfinition du modèle lightgbm ayant performé (voir notebook simulation)"
   ]
  },
  {
   "cell_type": "markdown",
   "id": "e231078a",
   "metadata": {
    "id": "e231078a"
   },
   "source": [
    "Considérant les mêmes données d'entrainement que dans le notebook de simulation"
   ]
  },
  {
   "cell_type": "code",
   "execution_count": 9,
   "id": "a7d7c36d",
   "metadata": {
    "id": "a7d7c36d"
   },
   "outputs": [],
   "source": [
    "X = train_dff.iloc[:, 1:].copy()\n",
    "y = train_dff.TARGET.copy()"
   ]
  },
  {
   "cell_type": "code",
   "execution_count": 10,
   "id": "a0fc5bb2",
   "metadata": {
    "id": "a0fc5bb2"
   },
   "outputs": [],
   "source": [
    "def train_dff_portion_(num_rows):\n",
    "   \n",
    "    X_train, X_test, y_train, y_test = train_test_split(X, y, train_size=num_rows, random_state=0, shuffle=True , stratify=y)\n",
    "   \n",
    "    return X_train, y_train, X_test, y_test"
   ]
  },
  {
   "cell_type": "code",
   "execution_count": 11,
   "id": "76a1fa21",
   "metadata": {
    "id": "76a1fa21"
   },
   "outputs": [],
   "source": [
    "Xp, yp, Xi, yi = train_dff_portion_(20000)"
   ]
  },
  {
   "cell_type": "code",
   "execution_count": 12,
   "id": "51dae5a5",
   "metadata": {
    "id": "51dae5a5"
   },
   "outputs": [],
   "source": [
    "X_train, X_test, y_train, y_test = train_test_split(Xp, yp, test_size=0.2, random_state=0, shuffle=True , stratify=yp)"
   ]
  },
  {
   "cell_type": "code",
   "execution_count": 13,
   "id": "a9f60f03",
   "metadata": {
    "id": "a9f60f03"
   },
   "outputs": [],
   "source": [
    "my_model = LGBMClassifier(class_weight='balanced', max_depth=3, reg_alpha=0.1)"
   ]
  },
  {
   "cell_type": "code",
   "execution_count": 14,
   "id": "e6864c99",
   "metadata": {
    "id": "e6864c99",
    "outputId": "56dc55f8-5fcb-4513-c602-ca5e17202da8"
   },
   "outputs": [
    {
     "data": {
      "text/plain": [
       "LGBMClassifier(class_weight='balanced', max_depth=3, reg_alpha=0.1)"
      ]
     },
     "execution_count": 14,
     "metadata": {},
     "output_type": "execute_result"
    }
   ],
   "source": [
    "# entrainement du modèle my_model défini au niveau du notebook de simulation\n",
    "my_model.fit(X_train, y_train)"
   ]
  },
  {
   "cell_type": "code",
   "execution_count": 15,
   "id": "0bdf5898",
   "metadata": {
    "id": "0bdf5898",
    "outputId": "52af49f7-1f99-47d4-8320-c11fda5902f4",
    "scrolled": true
   },
   "outputs": [
    {
     "data": {
      "text/plain": [
       "0.7462145466182905"
      ]
     },
     "execution_count": 15,
     "metadata": {},
     "output_type": "execute_result"
    }
   ],
   "source": [
    "roc_auc_score(yi, my_model.predict_proba(Xi)[:, 1])"
   ]
  },
  {
   "cell_type": "markdown",
   "id": "f8cd93e2",
   "metadata": {
    "id": "f8cd93e2"
   },
   "source": [
    "La performance d'un modèle peut être résumée par un score unique qui fait la moyenne à la fois des\n",
    "précision et le rappel, appelé F-mesure. La maximisation de la mesure F maximisera à la fois\n",
    "la précision et le rappel en même temps\n",
    "\n",
    "Plus F1 est grand plus la précision et le rappel sont maximiser et plus on réduit de façon équivalente les FP et les FN.\n",
    "Par contre une autre métrique fbeta_score permet d'attribuer plus de poids à la minimisation des FN (recall plus décroissant) que les FP(precision décroissant avec une faible pente)."
   ]
  },
  {
   "cell_type": "code",
   "execution_count": 19,
   "id": "6da74026",
   "metadata": {
    "id": "6da74026",
    "outputId": "5317675e-13bf-4bbc-92d7-96317b375be7"
   },
   "outputs": [
    {
     "data": {
      "text/plain": [
       "array([0., 1., 0., ..., 0., 0., 1.])"
      ]
     },
     "execution_count": 19,
     "metadata": {},
     "output_type": "execute_result"
    }
   ],
   "source": [
    "my_model.predict(Xi)"
   ]
  },
  {
   "cell_type": "code",
   "execution_count": 21,
   "id": "20e6a270",
   "metadata": {
    "id": "20e6a270",
    "outputId": "5da3c6c0-a4c1-4f69-c487-a2c35483de0a",
    "scrolled": true
   },
   "outputs": [
    {
     "name": "stdout",
     "output_type": "stream",
     "text": [
      "[0 0 0 ... 0 0 0]\n"
     ]
    }
   ],
   "source": [
    "SEUIL = 0.7\n",
    "y_pred_ = []\n",
    "u=my_model.predict_proba(Xi)[:,1]\n",
    "for i in u:\n",
    "    if i >= SEUIL:\n",
    "        y_pred_.append(1)\n",
    "    else:\n",
    "        y_pred_.append(0)\n",
    "y_pred_ = np.array(y_pred_)\n",
    "print(y_pred_)"
   ]
  },
  {
   "cell_type": "code",
   "execution_count": 22,
   "id": "98ae759b",
   "metadata": {
    "id": "98ae759b",
    "outputId": "0edcdb0c-7e30-4d4b-f381-60f462f19604"
   },
   "outputs": [
    {
     "data": {
      "text/plain": [
       "0.20763574289278444"
      ]
     },
     "execution_count": 22,
     "metadata": {},
     "output_type": "execute_result"
    }
   ],
   "source": [
    "beta = 0.5\n",
    "fbeta_score(yi , my_model.predict(Xi), beta=beta)"
   ]
  },
  {
   "cell_type": "markdown",
   "id": "4393b7dd",
   "metadata": {
    "id": "4393b7dd"
   },
   "source": [
    "Le seuil de classification implicite est de 50%."
   ]
  },
  {
   "cell_type": "code",
   "execution_count": 23,
   "id": "2f357459",
   "metadata": {
    "id": "2f357459",
    "outputId": "d770c3a2-4a35-437c-f8cc-a9459d198eac"
   },
   "outputs": [
    {
     "data": {
      "text/plain": [
       "LGBMClassifier(class_weight='balanced', max_depth=3, reg_alpha=0.1)"
      ]
     },
     "execution_count": 23,
     "metadata": {},
     "output_type": "execute_result"
    }
   ],
   "source": [
    "my_model"
   ]
  },
  {
   "cell_type": "code",
   "execution_count": 84,
   "id": "4d2012a6",
   "metadata": {
    "id": "4d2012a6",
    "outputId": "78d80448-971a-429f-e289-a504aa0191e5"
   },
   "outputs": [
    {
     "name": "stdout",
     "output_type": "stream",
     "text": [
      "-----Evaluation du modèle {}----- \n",
      "               precision    recall  f1-score   support\n",
      "\n",
      "     class 0       0.96      0.75      0.84      3677\n",
      "     class 1       0.19      0.64      0.29       323\n",
      "\n",
      "    accuracy                           0.74      4000\n",
      "   macro avg       0.57      0.70      0.57      4000\n",
      "weighted avg       0.90      0.74      0.80      4000\n",
      "\n"
     ]
    },
    {
     "data": {
      "image/png": "[encoded data removed]",
      "text/plain": [
       "<Figure size 432x288 with 2 Axes>"
      ]
     },
     "metadata": {
      "needs_background": "light"
     },
     "output_type": "display_data"
    }
   ],
   "source": [
    "y_pred = my_model.predict(X_test)\n",
    "cm_ = confusion_matrix(y_test, y_pred)\n",
    "cm_display_ = ConfusionMatrixDisplay(cm_).plot()\n",
    "cm_display_\n",
    "target_names = ['class 0', 'class 1']\n",
    "print(\"-----Evaluation du modèle {}-----\", \"\\n\", classification_report(y_test, y_pred, target_names=target_names))"
   ]
  },
  {
   "cell_type": "markdown",
   "id": "ccd092fb",
   "metadata": {
    "id": "ccd092fb"
   },
   "source": [
    "Recherchons un seuil de classification conduisant à plus de minimisation des FN que de FP car un FN est 10 fois plus coûteux qu'un FP"
   ]
  },
  {
   "cell_type": "code",
   "execution_count": 25,
   "id": "14aa8ec1",
   "metadata": {
    "id": "14aa8ec1",
    "outputId": "d7411e39-3085-4cb4-b346-5ac851f4f1ff"
   },
   "outputs": [
    {
     "data": {
      "text/plain": [
       "array([268042,  19465], dtype=int64)"
      ]
     },
     "execution_count": 25,
     "metadata": {},
     "output_type": "execute_result"
    }
   ],
   "source": [
    "np.bincount(y_pred_)"
   ]
  },
  {
   "cell_type": "code",
   "execution_count": 27,
   "id": "12c138e0",
   "metadata": {
    "id": "12c138e0"
   },
   "outputs": [],
   "source": [
    "# fbeta_score en fonction de Variation du seuil comprise entre 0 et 1 \n",
    "\n",
    "def evaluation_fbeta(model , testX, testy, beta):\n",
    "\n",
    "    \"\"\"\n",
    "    beta : coefficient beta de la métrique fbeta_score\n",
    "    \"\"\"\n",
    "    seuil_class = np.linspace(0, 1, 100)\n",
    "    probas_pred = model.predict_proba(testX)[:,1]\n",
    "    fbeta = []\n",
    "    for SEUIL in seuil_class :\n",
    "\n",
    "        # Labels prédits pour un seuil donné\n",
    "        label_pred_seuil= (probas_pred > SEUIL).astype(int)\n",
    "\n",
    "        fbeta.append(fbeta_score(testy , label_pred_seuil, beta=beta))\n",
    "        \n",
    "    return fbeta\n",
    "\n",
    "\n",
    "def evaluation_pre_rec(model, testX, testy, metric_score):\n",
    "    \n",
    "    \"\"\"\n",
    "    Evaluation de modèle selon suivant le recall ou le precision\n",
    "    \"\"\"\n",
    "    seuil_class = np.linspace(0, 1, 100)\n",
    "    probas_pred = model.predict_proba(testX)[:, 1]\n",
    "    results = []\n",
    "    for SEUIL in seuil_class :\n",
    "\n",
    "        # Labels prédits pour un seuil donné\n",
    "        label_pred_seuil = (probas_pred > SEUIL).astype(int)\n",
    "\n",
    "        results.append(metric_score(testy, label_pred_seuil))\n",
    "        \n",
    "    return results"
   ]
  },
  {
   "cell_type": "markdown",
   "id": "c28e4bcd",
   "metadata": {
    "id": "c28e4bcd"
   },
   "source": [
    "### Calcul de fbeta_score en fonction de seuil de classification défini\n",
    "\n",
    "- Pour beta = [0.5, 1, 2, 3, 5]"
   ]
  },
  {
   "cell_type": "code",
   "execution_count": 28,
   "id": "dd0f1079",
   "metadata": {
    "id": "dd0f1079",
    "outputId": "75d79448-f7f9-4ad3-a0ca-2c84f0f0e308"
   },
   "outputs": [
    {
     "name": "stderr",
     "output_type": "stream",
     "text": [
      "C:\\Users\\nokan\\anaconda3\\lib\\site-packages\\sklearn\\metrics\\_classification.py:1318: UndefinedMetricWarning: Precision is ill-defined and being set to 0.0 due to no predicted samples. Use `zero_division` parameter to control this behavior.\n",
      "  _warn_prf(average, modifier, msg_start, len(result))\n",
      "C:\\Users\\nokan\\anaconda3\\lib\\site-packages\\sklearn\\metrics\\_classification.py:1318: UndefinedMetricWarning: Precision is ill-defined and being set to 0.0 due to no predicted samples. Use `zero_division` parameter to control this behavior.\n",
      "  _warn_prf(average, modifier, msg_start, len(result))\n",
      "C:\\Users\\nokan\\anaconda3\\lib\\site-packages\\sklearn\\metrics\\_classification.py:1318: UndefinedMetricWarning: Precision is ill-defined and being set to 0.0 due to no predicted samples. Use `zero_division` parameter to control this behavior.\n",
      "  _warn_prf(average, modifier, msg_start, len(result))\n",
      "C:\\Users\\nokan\\anaconda3\\lib\\site-packages\\sklearn\\metrics\\_classification.py:1318: UndefinedMetricWarning: Precision is ill-defined and being set to 0.0 due to no predicted samples. Use `zero_division` parameter to control this behavior.\n",
      "  _warn_prf(average, modifier, msg_start, len(result))\n",
      "C:\\Users\\nokan\\anaconda3\\lib\\site-packages\\sklearn\\metrics\\_classification.py:1318: UndefinedMetricWarning: Precision is ill-defined and being set to 0.0 due to no predicted samples. Use `zero_division` parameter to control this behavior.\n",
      "  _warn_prf(average, modifier, msg_start, len(result))\n",
      "C:\\Users\\nokan\\anaconda3\\lib\\site-packages\\sklearn\\metrics\\_classification.py:1318: UndefinedMetricWarning: Precision is ill-defined and being set to 0.0 due to no predicted samples. Use `zero_division` parameter to control this behavior.\n",
      "  _warn_prf(average, modifier, msg_start, len(result))\n",
      "C:\\Users\\nokan\\anaconda3\\lib\\site-packages\\sklearn\\metrics\\_classification.py:1318: UndefinedMetricWarning: Precision is ill-defined and being set to 0.0 due to no predicted samples. Use `zero_division` parameter to control this behavior.\n",
      "  _warn_prf(average, modifier, msg_start, len(result))\n",
      "C:\\Users\\nokan\\anaconda3\\lib\\site-packages\\sklearn\\metrics\\_classification.py:1318: UndefinedMetricWarning: Precision is ill-defined and being set to 0.0 due to no predicted samples. Use `zero_division` parameter to control this behavior.\n",
      "  _warn_prf(average, modifier, msg_start, len(result))\n",
      "C:\\Users\\nokan\\anaconda3\\lib\\site-packages\\sklearn\\metrics\\_classification.py:1318: UndefinedMetricWarning: Precision is ill-defined and being set to 0.0 due to no predicted samples. Use `zero_division` parameter to control this behavior.\n",
      "  _warn_prf(average, modifier, msg_start, len(result))\n",
      "C:\\Users\\nokan\\anaconda3\\lib\\site-packages\\sklearn\\metrics\\_classification.py:1318: UndefinedMetricWarning: Precision is ill-defined and being set to 0.0 due to no predicted samples. Use `zero_division` parameter to control this behavior.\n",
      "  _warn_prf(average, modifier, msg_start, len(result))\n",
      "C:\\Users\\nokan\\anaconda3\\lib\\site-packages\\sklearn\\metrics\\_classification.py:1318: UndefinedMetricWarning: Precision is ill-defined and being set to 0.0 due to no predicted samples. Use `zero_division` parameter to control this behavior.\n",
      "  _warn_prf(average, modifier, msg_start, len(result))\n"
     ]
    }
   ],
   "source": [
    "fbeta0_5 = evaluation_fbeta(my_model , X_test, y_test, 0.5)\n",
    "fbeta1 = evaluation_fbeta(my_model , X_test, y_test, 1)\n",
    "fbeta2 = evaluation_fbeta(my_model , X_test, y_test, 2)\n",
    "fbeta3 = evaluation_fbeta(my_model , X_test, y_test, 3)\n",
    "fbeta5 = evaluation_fbeta(my_model , X_test, y_test, 5)\n",
    "precision = evaluation_pre_rec(my_model , X_test, y_test, precision_score)\n",
    "recall = evaluation_pre_rec(my_model , X_test, y_test, recall_score)"
   ]
  },
  {
   "cell_type": "code",
   "execution_count": 29,
   "id": "4d10e1d4",
   "metadata": {
    "id": "4d10e1d4",
    "outputId": "10ac1dfd-7b25-48c8-dde2-66a7b74998ad"
   },
   "outputs": [
    {
     "data": {
      "text/html": [
       "<div>\n",
       "<style scoped>\n",
       "    .dataframe tbody tr th:only-of-type {\n",
       "        vertical-align: middle;\n",
       "    }\n",
       "\n",
       "    .dataframe tbody tr th {\n",
       "        vertical-align: top;\n",
       "    }\n",
       "\n",
       "    .dataframe thead th {\n",
       "        text-align: right;\n",
       "    }\n",
       "</style>\n",
       "<table border=\"1\" class=\"dataframe\">\n",
       "  <thead>\n",
       "    <tr style=\"text-align: right;\">\n",
       "      <th></th>\n",
       "      <th>seuil</th>\n",
       "      <th>precision</th>\n",
       "      <th>recall</th>\n",
       "      <th>fbeta0_5</th>\n",
       "      <th>fbeta1</th>\n",
       "      <th>fbeta2</th>\n",
       "      <th>fbeta3</th>\n",
       "      <th>fbeta5</th>\n",
       "    </tr>\n",
       "  </thead>\n",
       "  <tbody>\n",
       "    <tr>\n",
       "      <th>0</th>\n",
       "      <td>0.000000</td>\n",
       "      <td>0.080750</td>\n",
       "      <td>1.0</td>\n",
       "      <td>0.098940</td>\n",
       "      <td>0.149433</td>\n",
       "      <td>0.305178</td>\n",
       "      <td>0.467642</td>\n",
       "      <td>0.695487</td>\n",
       "    </tr>\n",
       "    <tr>\n",
       "      <th>1</th>\n",
       "      <td>0.010101</td>\n",
       "      <td>0.080750</td>\n",
       "      <td>1.0</td>\n",
       "      <td>0.098940</td>\n",
       "      <td>0.149433</td>\n",
       "      <td>0.305178</td>\n",
       "      <td>0.467642</td>\n",
       "      <td>0.695487</td>\n",
       "    </tr>\n",
       "    <tr>\n",
       "      <th>2</th>\n",
       "      <td>0.020202</td>\n",
       "      <td>0.080750</td>\n",
       "      <td>1.0</td>\n",
       "      <td>0.098940</td>\n",
       "      <td>0.149433</td>\n",
       "      <td>0.305178</td>\n",
       "      <td>0.467642</td>\n",
       "      <td>0.695487</td>\n",
       "    </tr>\n",
       "    <tr>\n",
       "      <th>3</th>\n",
       "      <td>0.030303</td>\n",
       "      <td>0.080750</td>\n",
       "      <td>1.0</td>\n",
       "      <td>0.098940</td>\n",
       "      <td>0.149433</td>\n",
       "      <td>0.305178</td>\n",
       "      <td>0.467642</td>\n",
       "      <td>0.695487</td>\n",
       "    </tr>\n",
       "    <tr>\n",
       "      <th>4</th>\n",
       "      <td>0.040404</td>\n",
       "      <td>0.080811</td>\n",
       "      <td>1.0</td>\n",
       "      <td>0.099013</td>\n",
       "      <td>0.149537</td>\n",
       "      <td>0.305351</td>\n",
       "      <td>0.467845</td>\n",
       "      <td>0.695659</td>\n",
       "    </tr>\n",
       "    <tr>\n",
       "      <th>...</th>\n",
       "      <td>...</td>\n",
       "      <td>...</td>\n",
       "      <td>...</td>\n",
       "      <td>...</td>\n",
       "      <td>...</td>\n",
       "      <td>...</td>\n",
       "      <td>...</td>\n",
       "      <td>...</td>\n",
       "    </tr>\n",
       "    <tr>\n",
       "      <th>95</th>\n",
       "      <td>0.959596</td>\n",
       "      <td>0.000000</td>\n",
       "      <td>0.0</td>\n",
       "      <td>0.000000</td>\n",
       "      <td>0.000000</td>\n",
       "      <td>0.000000</td>\n",
       "      <td>0.000000</td>\n",
       "      <td>0.000000</td>\n",
       "    </tr>\n",
       "    <tr>\n",
       "      <th>96</th>\n",
       "      <td>0.969697</td>\n",
       "      <td>0.000000</td>\n",
       "      <td>0.0</td>\n",
       "      <td>0.000000</td>\n",
       "      <td>0.000000</td>\n",
       "      <td>0.000000</td>\n",
       "      <td>0.000000</td>\n",
       "      <td>0.000000</td>\n",
       "    </tr>\n",
       "    <tr>\n",
       "      <th>97</th>\n",
       "      <td>0.979798</td>\n",
       "      <td>0.000000</td>\n",
       "      <td>0.0</td>\n",
       "      <td>0.000000</td>\n",
       "      <td>0.000000</td>\n",
       "      <td>0.000000</td>\n",
       "      <td>0.000000</td>\n",
       "      <td>0.000000</td>\n",
       "    </tr>\n",
       "    <tr>\n",
       "      <th>98</th>\n",
       "      <td>0.989899</td>\n",
       "      <td>0.000000</td>\n",
       "      <td>0.0</td>\n",
       "      <td>0.000000</td>\n",
       "      <td>0.000000</td>\n",
       "      <td>0.000000</td>\n",
       "      <td>0.000000</td>\n",
       "      <td>0.000000</td>\n",
       "    </tr>\n",
       "    <tr>\n",
       "      <th>99</th>\n",
       "      <td>1.000000</td>\n",
       "      <td>0.000000</td>\n",
       "      <td>0.0</td>\n",
       "      <td>0.000000</td>\n",
       "      <td>0.000000</td>\n",
       "      <td>0.000000</td>\n",
       "      <td>0.000000</td>\n",
       "      <td>0.000000</td>\n",
       "    </tr>\n",
       "  </tbody>\n",
       "</table>\n",
       "<p>100 rows × 8 columns</p>\n",
       "</div>"
      ],
      "text/plain": [
       "       seuil  precision  recall  fbeta0_5    fbeta1    fbeta2    fbeta3  \\\n",
       "0   0.000000   0.080750     1.0  0.098940  0.149433  0.305178  0.467642   \n",
       "1   0.010101   0.080750     1.0  0.098940  0.149433  0.305178  0.467642   \n",
       "2   0.020202   0.080750     1.0  0.098940  0.149433  0.305178  0.467642   \n",
       "3   0.030303   0.080750     1.0  0.098940  0.149433  0.305178  0.467642   \n",
       "4   0.040404   0.080811     1.0  0.099013  0.149537  0.305351  0.467845   \n",
       "..       ...        ...     ...       ...       ...       ...       ...   \n",
       "95  0.959596   0.000000     0.0  0.000000  0.000000  0.000000  0.000000   \n",
       "96  0.969697   0.000000     0.0  0.000000  0.000000  0.000000  0.000000   \n",
       "97  0.979798   0.000000     0.0  0.000000  0.000000  0.000000  0.000000   \n",
       "98  0.989899   0.000000     0.0  0.000000  0.000000  0.000000  0.000000   \n",
       "99  1.000000   0.000000     0.0  0.000000  0.000000  0.000000  0.000000   \n",
       "\n",
       "      fbeta5  \n",
       "0   0.695487  \n",
       "1   0.695487  \n",
       "2   0.695487  \n",
       "3   0.695487  \n",
       "4   0.695659  \n",
       "..       ...  \n",
       "95  0.000000  \n",
       "96  0.000000  \n",
       "97  0.000000  \n",
       "98  0.000000  \n",
       "99  0.000000  \n",
       "\n",
       "[100 rows x 8 columns]"
      ]
     },
     "execution_count": 29,
     "metadata": {},
     "output_type": "execute_result"
    }
   ],
   "source": [
    "# dataframe pour le futur le prochain tracé\n",
    "dict_ = {\"seuil\": np.linspace(0, 1, 100),\n",
    "         \"precision\": precision,\n",
    "         \"recall\" : recall,\n",
    "         \"fbeta0_5\" : fbeta0_5,\n",
    "         \"fbeta1\"  : fbeta1,\n",
    "         \"fbeta2\" : fbeta2,\n",
    "         \"fbeta3\": fbeta3,\n",
    "        \"fbeta5\" :fbeta5}\n",
    "df = pd.DataFrame(dict_)\n",
    "df"
   ]
  },
  {
   "cell_type": "code",
   "execution_count": 30,
   "id": "a646b8cb",
   "metadata": {
    "id": "a646b8cb",
    "outputId": "49704141-1e1a-4450-f627-2b2126d30fc1"
   },
   "outputs": [
    {
     "data": {
      "image/png": "[encoded data removed]",
      "text/plain": [
       "<Figure size 936x792 with 1 Axes>"
      ]
     },
     "metadata": {
      "needs_background": "light"
     },
     "output_type": "display_data"
    }
   ],
   "source": [
    "fig, ax = plt.subplots(1, figsize=(13, 11))\n",
    "metric = {\n",
    "          \"fbeta0_5\" : fbeta0_5,\n",
    "          \"fbeta1\" : fbeta1,\n",
    "          \"fbeta2\" : fbeta2,\n",
    "          \"fbeta3\": fbeta3,\n",
    "          \"fbeta5\" : fbeta5,\n",
    "          \"precision\": precision,\n",
    "          \"recall\" : recall}\n",
    "for name, _ in metric.items() :\n",
    "    if name in  {\"fbeta0_5\", \"fbeta1\", \"fbeta2\", \"fbeta3\", \"fbeta5\"} :\n",
    "        k = df.seuil[np.argmax(_)]\n",
    "        sns.lineplot(data=df, x=\"seuil\" , y=name,\n",
    "                        label=\"fbeta_score optimal pour {} à un seuil de {:.6f}\".format(name, k))\n",
    "\n",
    "    else:\n",
    "        sns.lineplot(data=df, x=\"seuil\" , y=name,\n",
    "                        label=\" {} \".format(name))\n",
    "        \n",
    "ax.set_title(\"Variation de fbeta_score en fonction du seuil d'affectation\",\n",
    "             fontsize=15, fontweight=\"bold\")\n",
    "ax.grid(linestyle='--')\n",
    "plt.ylabel(\"score\", fontweight=\"bold\")\n",
    "plt.xlabel(\"Seuil de classification\", fontweight=\"bold\")\n",
    "\n",
    "plt.legend(shadow=True)\n",
    "plt.show()"
   ]
  },
  {
   "cell_type": "markdown",
   "id": "b89bb4ac",
   "metadata": {
    "id": "b89bb4ac"
   },
   "source": [
    "precision et recall se croisent au même seuil de classification que fbeta_score se croisent.\n",
    "Quelle est cette valeur?\n",
    "le seuil correspondant au fbeta_max évolue inversement à la pondération beta.\n",
    "plus beta augmente on se rapproche de la métrique recall,\n",
    "plus beta diminue on se rapproche de la métrique precision.\n",
    "pour beta = 1, on a f1_score et on donne autant de poids à recall qu'à la précision.\n",
    "Notons que pour le même seuil les prédictions sont identiques.\n"
   ]
  },
  {
   "cell_type": "code",
   "execution_count": 31,
   "id": "38f08748",
   "metadata": {
    "id": "38f08748"
   },
   "outputs": [],
   "source": [
    "def predict_seuil(SEUIL_fbeta_max, model, testX):\n",
    "\n",
    "    \"\"\"probas_pred: prediction de classe selon le seuil\n",
    "    \"\"\"\n",
    "    probas_pred = model.predict_proba(testX)[:, 1]\n",
    "    \n",
    "    # Labels prédits pour un seuil donné\n",
    "    label_pred_seuil = (probas_pred > SEUIL_fbeta_max).astype(int)\n",
    "   \n",
    "    return label_pred_seuil"
   ]
  },
  {
   "cell_type": "code",
   "execution_count": 32,
   "id": "325e8994",
   "metadata": {
    "id": "325e8994",
    "outputId": "b3d1a177-5bea-44ed-8f4f-e6a02f9494f6"
   },
   "outputs": [
    {
     "data": {
      "text/plain": [
       "66385     0.0\n",
       "30078     0.0\n",
       "90240     1.0\n",
       "243249    0.0\n",
       "139606    0.0\n",
       "         ... \n",
       "220128    0.0\n",
       "120655    0.0\n",
       "243366    1.0\n",
       "83284     1.0\n",
       "267145    0.0\n",
       "Name: TARGET, Length: 4000, dtype: float64"
      ]
     },
     "execution_count": 32,
     "metadata": {},
     "output_type": "execute_result"
    }
   ],
   "source": [
    "y_test"
   ]
  },
  {
   "cell_type": "code",
   "execution_count": 33,
   "id": "8a7bc189",
   "metadata": {
    "id": "8a7bc189",
    "outputId": "fc5ba190-7590-4132-f6f6-e925da1b77c5"
   },
   "outputs": [
    {
     "name": "stdout",
     "output_type": "stream",
     "text": [
      "-----Evaluation du modèle avec un seuil de 0.485----- \n",
      "               precision    recall  f1-score   support\n",
      "\n",
      "     class 0       0.96      0.73      0.83      3677\n",
      "     class 1       0.18      0.65      0.28       323\n",
      "\n",
      "    accuracy                           0.73      4000\n",
      "   macro avg       0.57      0.69      0.55      4000\n",
      "weighted avg       0.90      0.73      0.79      4000\n",
      "\n"
     ]
    },
    {
     "data": {
      "image/png": "[encoded data removed]",
      "text/plain": [
       "<Figure size 432x288 with 2 Axes>"
      ]
     },
     "metadata": {
      "needs_background": "light"
     },
     "output_type": "display_data"
    }
   ],
   "source": [
    "# prédiction pour le seuil de fbeta_max\n",
    "SEUIL_fbeta_max = 0.485\n",
    "y_pred = predict_seuil(SEUIL_fbeta_max, my_model, X_test)\n",
    "\n",
    "# matrice de confusion associée\n",
    "\n",
    "cm_ = confusion_matrix(y_test, y_pred)\n",
    "cm_display_ = ConfusionMatrixDisplay(cm_).plot()\n",
    "cm_display_\n",
    "\n",
    "target_names = ['class 0', 'class 1']\n",
    "print(\"-----Evaluation du modèle avec un seuil de {}-----\".format(SEUIL_fbeta_max), \"\\n\", classification_report(y_test, y_pred, target_names=target_names))"
   ]
  },
  {
   "cell_type": "code",
   "execution_count": 34,
   "id": "a162f786",
   "metadata": {
    "id": "a162f786"
   },
   "outputs": [],
   "source": [
    " from sklearn.metrics import RocCurveDisplay, roc_curve"
   ]
  },
  {
   "cell_type": "code",
   "execution_count": 37,
   "id": "3f0b13f7",
   "metadata": {
    "id": "3f0b13f7"
   },
   "outputs": [],
   "source": [
    "# (y_true, y_score)\n",
    "# Courbe ROC en fonction du seuil choisi\n",
    "\n",
    "def roc_curve(y_test_s):\n",
    "    \"\"\"\n",
    "    Trace la courbe en fonction du seuil choisi\n",
    "    \"\"\"\n",
    "    fig, ax_roc = plt.subplots(1, figsize=(11, 11))\n",
    "\n",
    "    RocCurveDisplay.from_predictions(y_test, y_test_s, ax=ax_roc)\n",
    "\n",
    "    ax_roc.set_title('Receiver Operating Characteristic (ROC) curves', fontsize=15, fontweight=\"bold\")\n",
    "    ax_roc.grid(linestyle='--')\n",
    "\n",
    "    plt.legend()\n",
    "    plt.show()"
   ]
  },
  {
   "cell_type": "code",
   "execution_count": 38,
   "id": "00759b98",
   "metadata": {
    "id": "00759b98",
    "outputId": "d7617a10-4851-49b6-967a-9346a5e0b2d5"
   },
   "outputs": [
    {
     "data": {
      "image/png": "[encoded data removed]",
      "text/plain": [
       "<Figure size 792x792 with 1 Axes>"
      ]
     },
     "metadata": {
      "needs_background": "light"
     },
     "output_type": "display_data"
    }
   ],
   "source": [
    "roc_curve(y_pred)"
   ]
  },
  {
   "cell_type": "markdown",
   "id": "2179bab2",
   "metadata": {
    "id": "2179bab2"
   },
   "source": [
    "on résussit à réduire le taux de FN autour de 0.487 \n",
    "Il est assez difficile de se baser la recherche d'un seuil optimal. Cependant puisque nous souhaitons une fonction fbetadans le but de minimiser les FN.\n",
    "soit une perte sur la base loss = 1-fbeta2, peut être trouvera t'il le bon seuil."
   ]
  },
  {
   "cell_type": "markdown",
   "id": "bb2bcec8",
   "metadata": {},
   "source": [
    "**Information XGBClassifier**\n",
    "\n",
    "Il existe l'argument **scale_pos_weight** utile pour mettre à l'échelle le gradient pour la classe positive. Nous l'introduisons donc dans l'étude  pour vérifier les performances de prédiction de XGBClassifier avec la courbe ROC. "
   ]
  },
  {
   "cell_type": "code",
   "execution_count": 21,
   "id": "5a5b03c5",
   "metadata": {},
   "outputs": [],
   "source": [
    "import xgboost\n",
    "from xgboost import XGBClassifier"
   ]
  },
  {
   "cell_type": "code",
   "execution_count": 22,
   "id": "50a3e85f",
   "metadata": {},
   "outputs": [
    {
     "data": {
      "text/plain": [
       "11.38390092879257"
      ]
     },
     "execution_count": 22,
     "metadata": {},
     "output_type": "execute_result"
    }
   ],
   "source": [
    "wneg = np.bincount(y_train)[0]\n",
    "wpos = np.bincount(y_train)[1]\n",
    "(wneg / wpos)"
   ]
  },
  {
   "cell_type": "code",
   "execution_count": 39,
   "id": "642aa67b",
   "metadata": {},
   "outputs": [
    {
     "data": {
      "text/plain": [
       "(16000, 795)"
      ]
     },
     "execution_count": 39,
     "metadata": {},
     "output_type": "execute_result"
    }
   ],
   "source": [
    "X_train.shape"
   ]
  },
  {
   "cell_type": "code",
   "execution_count": 48,
   "id": "5a08039c",
   "metadata": {},
   "outputs": [
    {
     "data": {
      "text/plain": [
       "RandomizedSearchCV(cv=StratifiedKFold(n_splits=5, random_state=0, shuffle=True),\n",
       "                   estimator=XGBClassifier(base_score=None, booster='gbtree',\n",
       "                                           callbacks=None,\n",
       "                                           colsample_bylevel=None,\n",
       "                                           colsample_bynode=None,\n",
       "                                           colsample_bytree=None,\n",
       "                                           early_stopping_rounds=None,\n",
       "                                           enable_categorical=False,\n",
       "                                           eval_metric=None, gamma=None,\n",
       "                                           gpu_id=None, grow_policy=None,\n",
       "                                           importance_type=None,\n",
       "                                           int...\n",
       "                                           min_child_weight=None, missing=nan,\n",
       "                                           monotone_constraints=None,\n",
       "                                           n_estimators=100, n_jobs=None,\n",
       "                                           num_parallel_tree=None,\n",
       "                                           predictor=None, random_state=0,\n",
       "                                           reg_alpha=None, reg_lambda=None, ...),\n",
       "                   n_jobs=-1,\n",
       "                   param_distributions={'eta': [0.001, 0.01, 0.1, 1],\n",
       "                                        'gamma': [0, 0.3, 0.5, 1, 1.5, 2, 5],\n",
       "                                        'max_depth': [6, 7, 9, 10],\n",
       "                                        'scale_pos_weight': [10, 11,\n",
       "                                                             11.38390092879257,\n",
       "                                                             12, 14]},\n",
       "                   scoring='roc_auc')"
      ]
     },
     "execution_count": 48,
     "metadata": {},
     "output_type": "execute_result"
    }
   ],
   "source": [
    "cv = StratifiedKFold(5, shuffle=True, random_state=0)\n",
    "model_xgb_roc = XGBClassifier(use_rmm=True, booster=\"gbtree\", \n",
    "                          scale_pos_weight=(wneg / wpos), # pour l'équilibre des classes\n",
    "                          random_state=0)\n",
    "\n",
    "param_xgb = {\"eta\":[0.001, 0.01, 0.1, 1],\n",
    "             'gamma': [0, 0.3, 0.5, 1, 1.5, 2, 5],\n",
    "             'max_depth': [6, 7, 9, 10],\n",
    "             \"scale_pos_weight\":[10, 11, (wneg / wpos),12, 14]\n",
    "             }\n",
    "rs_xgb_w_roc = RandomizedSearchCV(model_xgb_roc, param_xgb, cv=cv, scoring=\"roc_auc\", n_jobs=-1)\n",
    "rs_xgb_w_roc.fit(X_train, y_train)"
   ]
  },
  {
   "cell_type": "code",
   "execution_count": 51,
   "id": "1b865ace",
   "metadata": {},
   "outputs": [
    {
     "data": {
      "text/plain": [
       "{'scale_pos_weight': 11.38390092879257,\n",
       " 'max_depth': 10,\n",
       " 'gamma': 1.5,\n",
       " 'eta': 0.1}"
      ]
     },
     "execution_count": 51,
     "metadata": {},
     "output_type": "execute_result"
    }
   ],
   "source": [
    "rs_xgb_w_roc.best_params_"
   ]
  },
  {
   "cell_type": "code",
   "execution_count": 85,
   "id": "84bef4fb",
   "metadata": {},
   "outputs": [],
   "source": [
    "# modèle xgboost avec le paramètre scale_pos_weight\n",
    "model_xgb_roc_b = rs_xgb_w_roc.best_estimator_"
   ]
  },
  {
   "cell_type": "code",
   "execution_count": 86,
   "id": "478e8a25",
   "metadata": {},
   "outputs": [
    {
     "data": {
      "text/plain": [
       "0.7165186532729961"
      ]
     },
     "execution_count": 86,
     "metadata": {},
     "output_type": "execute_result"
    }
   ],
   "source": [
    "roc_auc_score(yi, model_xgb_roc_b.predict_proba(Xi)[:, 1])"
   ]
  },
  {
   "cell_type": "markdown",
   "id": "01c2f790",
   "metadata": {
    "id": "01c2f790"
   },
   "source": [
    "# **Définition de la fonction coût**"
   ]
  },
  {
   "cell_type": "markdown",
   "id": "558d30d8",
   "metadata": {},
   "source": [
    "## Nouveau modèle LightGBMClassifier : étude avec la métrique F2-Score"
   ]
  },
  {
   "cell_type": "code",
   "execution_count": 91,
   "id": "30584569",
   "metadata": {
    "id": "30584569"
   },
   "outputs": [],
   "source": [
    "param_grid = {\"n_estimator\" : np.arange(200, 1000, 100),\n",
    "              'learning_rate': [0.001, 0.01, 0.1],\n",
    "              'max_depth': [2, 3, 4, 5, 6, 7, 8, 9],\n",
    "              'num_leaves': [31, 127],\n",
    "              'reg_alpha': [0.1, 0.5]\n",
    "                }\n",
    "\n",
    "new_lgbm_model = LGBMClassifier(class_weight='balanced')\n",
    "\n",
    "# Construction de la métrique d'évaluation\n",
    "ftwo_scorer = make_scorer(fbeta_score, beta=2)\n",
    "grid = RandomizedSearchCV(new_lgbm_model, param_grid, cv=cv, scoring=ftwo_scorer, n_jobs=-1, random_state=0)"
   ]
  },
  {
   "cell_type": "code",
   "execution_count": 93,
   "id": "30d079d8",
   "metadata": {
    "id": "30d079d8",
    "outputId": "10948fe7-0d4f-4fbc-e82d-1bd75e0f908b"
   },
   "outputs": [
    {
     "name": "stdout",
     "output_type": "stream",
     "text": [
      "[LightGBM] [Warning] Unknown parameter: n_estimator\n"
     ]
    },
    {
     "data": {
      "text/plain": [
       "RandomizedSearchCV(cv=StratifiedKFold(n_splits=5, random_state=0, shuffle=True),\n",
       "                   estimator=LGBMClassifier(class_weight='balanced'), n_jobs=-1,\n",
       "                   param_distributions={'learning_rate': [0.001, 0.01, 0.1],\n",
       "                                        'max_depth': [2, 3, 4, 5, 6, 7, 8, 9],\n",
       "                                        'n_estimator': array([200, 300, 400, 500, 600, 700, 800, 900]),\n",
       "                                        'num_leaves': [31, 127],\n",
       "                                        'reg_alpha': [0.1, 0.5]},\n",
       "                   random_state=0, scoring=make_scorer(fbeta_score, beta=2))"
      ]
     },
     "execution_count": 93,
     "metadata": {},
     "output_type": "execute_result"
    }
   ],
   "source": [
    "grid.fit(X_train, y_train)"
   ]
  },
  {
   "cell_type": "code",
   "execution_count": 89,
   "id": "1b6ea6ad",
   "metadata": {
    "id": "1b6ea6ad",
    "outputId": "a2f7393f-65cc-4bd9-e832-175687eb0a0a"
   },
   "outputs": [
    {
     "data": {
      "text/plain": [
       "LGBMClassifier(class_weight='balanced', learning_rate=0.01, max_depth=6,\n",
       "               n_estimator=500, reg_alpha=0.1)"
      ]
     },
     "execution_count": 89,
     "metadata": {},
     "output_type": "execute_result"
    }
   ],
   "source": [
    "grid.best_estimator_"
   ]
  },
  {
   "cell_type": "code",
   "execution_count": 94,
   "id": "6fe50d29",
   "metadata": {},
   "outputs": [
    {
     "data": {
      "text/plain": [
       "LGBMClassifier(class_weight='balanced', max_depth=2, n_estimator=600,\n",
       "               reg_alpha=0.5)"
      ]
     },
     "execution_count": 94,
     "metadata": {},
     "output_type": "execute_result"
    }
   ],
   "source": [
    "grid.best_estimator_"
   ]
  },
  {
   "cell_type": "code",
   "execution_count": 18,
   "id": "9664bbb3",
   "metadata": {},
   "outputs": [],
   "source": [
    "# fonction pour définr la matrice de confusion associée\n",
    "def Confusion_Mat(X_test, y_test, model, model_name:str):\n",
    "    y_pred = model.predict(X_test)\n",
    "    cm_ = confusion_matrix(y_test, y_pred)\n",
    "    cm_display_ = ConfusionMatrixDisplay(cm_).plot()\n",
    "    cm_display_\n",
    "    plt.title(\"Matrice de confusion de {}\".format(model_name))\n",
    "\n",
    "    target_names = ['class 0', 'class 1']\n",
    "    print(\"-----Evaluation du modèle {}-----\".format(model_name), \"\\n\", classification_report(y_test, y_pred, target_names=target_names))"
   ]
  },
  {
   "cell_type": "code",
   "execution_count": 153,
   "id": "72cfb18a",
   "metadata": {},
   "outputs": [
    {
     "name": "stdout",
     "output_type": "stream",
     "text": [
      "-----Evaluation du modèle new_lgbm_model----- \n",
      "               precision    recall  f1-score   support\n",
      "\n",
      "     class 0       0.96      0.72      0.83      3677\n",
      "     class 1       0.18      0.68      0.28       323\n",
      "\n",
      "    accuracy                           0.72      4000\n",
      "   macro avg       0.57      0.70      0.55      4000\n",
      "weighted avg       0.90      0.72      0.78      4000\n",
      "\n"
     ]
    },
    {
     "data": {
      "image/png": "[encoded data removed]",
      "text/plain": [
       "<Figure size 432x288 with 2 Axes>"
      ]
     },
     "metadata": {
      "needs_background": "light"
     },
     "output_type": "display_data"
    }
   ],
   "source": [
    "Confusion_Mat(X_test, y_test, grid.best_estimator_,\"new_lgbm_model\")"
   ]
  },
  {
   "cell_type": "code",
   "execution_count": null,
   "id": "1b722627",
   "metadata": {
    "id": "1b722627",
    "outputId": "d17a1a27-a79b-45c4-efa1-bc7da9e57881"
   },
   "outputs": [
    {
     "name": "stdout",
     "output_type": "stream",
     "text": [
      "-----Evaluation du modèle new_model----- \n",
      "               precision    recall  f1-score   support\n",
      "\n",
      "     class 0       0.96      0.72      0.82      3677\n",
      "     class 1       0.17      0.67      0.28       323\n",
      "\n",
      "    accuracy                           0.72      4000\n",
      "   macro avg       0.57      0.70      0.55      4000\n",
      "weighted avg       0.90      0.72      0.78      4000\n",
      "\n"
     ]
    },
    {
     "data": {
      "image/png": "[encoded data removed]",
      "text/plain": [
       "<Figure size 432x288 with 2 Axes>"
      ]
     },
     "metadata": {
      "needs_background": "light"
     },
     "output_type": "display_data"
    }
   ],
   "source": [
    "# matrice de confusion associée\n",
    "y_pred = grid.best_estimator_.predict(X_test)\n",
    "cm_ = confusion_matrix(y_test, y_pred)\n",
    "cm_display_ = ConfusionMatrixDisplay(cm_).plot()\n",
    "cm_display_\n",
    "\n",
    "target_names = ['class 0', 'class 1']\n",
    "print(\"-----Evaluation du modèle {}-----\".format(\"new_lgbm_model\"), \"\\n\", classification_report(y_test, y_pred, target_names=target_names))"
   ]
  },
  {
   "cell_type": "markdown",
   "id": "e2ebf69c",
   "metadata": {},
   "source": [
    "### Etude de comparaison du modèle avec celui évalué sur la base de la métrique roc_auc"
   ]
  },
  {
   "cell_type": "code",
   "execution_count": 96,
   "id": "ec722165",
   "metadata": {
    "id": "ec722165",
    "outputId": "2e82d99b-5920-46d9-da1e-0c0fdadc01b7"
   },
   "outputs": [
    {
     "data": {
      "text/html": [
       "<div>\n",
       "<style scoped>\n",
       "    .dataframe tbody tr th:only-of-type {\n",
       "        vertical-align: middle;\n",
       "    }\n",
       "\n",
       "    .dataframe tbody tr th {\n",
       "        vertical-align: top;\n",
       "    }\n",
       "\n",
       "    .dataframe thead th {\n",
       "        text-align: right;\n",
       "    }\n",
       "</style>\n",
       "<table border=\"1\" class=\"dataframe\">\n",
       "  <thead>\n",
       "    <tr style=\"text-align: right;\">\n",
       "      <th></th>\n",
       "      <th>mean_fit_time</th>\n",
       "      <th>mean_score_time</th>\n",
       "    </tr>\n",
       "  </thead>\n",
       "  <tbody>\n",
       "    <tr>\n",
       "      <th>4</th>\n",
       "      <td>4.987343</td>\n",
       "      <td>0.126462</td>\n",
       "    </tr>\n",
       "  </tbody>\n",
       "</table>\n",
       "</div>"
      ],
      "text/plain": [
       "   mean_fit_time  mean_score_time\n",
       "4       4.987343         0.126462"
      ]
     },
     "execution_count": 96,
     "metadata": {},
     "output_type": "execute_result"
    }
   ],
   "source": [
    "df_lgbm = pd.DataFrame(grid.cv_results_)\n",
    "df_lgbm = df_lgbm[df_lgbm.rank_test_score == 1][[\"mean_fit_time\", \"mean_score_time\"]]\n",
    "df_lgbm"
   ]
  },
  {
   "cell_type": "code",
   "execution_count": 97,
   "id": "7a934f25",
   "metadata": {
    "id": "7a934f25"
   },
   "outputs": [],
   "source": [
    "# mise en place de l'index\n",
    "# Performance dans les temps d'apprentissage et de prédiction\n",
    "model_stat = pd.DataFrame(index=df_lgbm.columns)\n",
    "df_model = pd.DataFrame(grid.cv_results_)"
   ]
  },
  {
   "cell_type": "code",
   "execution_count": 98,
   "id": "0880178e",
   "metadata": {
    "id": "0880178e",
    "outputId": "541bd07a-64c4-42f4-d871-85b931665226"
   },
   "outputs": [
    {
     "data": {
      "text/html": [
       "<div>\n",
       "<style scoped>\n",
       "    .dataframe tbody tr th:only-of-type {\n",
       "        vertical-align: middle;\n",
       "    }\n",
       "\n",
       "    .dataframe tbody tr th {\n",
       "        vertical-align: top;\n",
       "    }\n",
       "\n",
       "    .dataframe thead th {\n",
       "        text-align: right;\n",
       "    }\n",
       "</style>\n",
       "<table border=\"1\" class=\"dataframe\">\n",
       "  <thead>\n",
       "    <tr style=\"text-align: right;\">\n",
       "      <th></th>\n",
       "      <th>mean_fit_time</th>\n",
       "      <th>std_fit_time</th>\n",
       "      <th>mean_score_time</th>\n",
       "      <th>std_score_time</th>\n",
       "      <th>param_reg_alpha</th>\n",
       "      <th>param_num_leaves</th>\n",
       "      <th>param_n_estimator</th>\n",
       "      <th>param_max_depth</th>\n",
       "      <th>param_learning_rate</th>\n",
       "      <th>params</th>\n",
       "      <th>split0_test_score</th>\n",
       "      <th>split1_test_score</th>\n",
       "      <th>split2_test_score</th>\n",
       "      <th>split3_test_score</th>\n",
       "      <th>split4_test_score</th>\n",
       "      <th>mean_test_score</th>\n",
       "      <th>std_test_score</th>\n",
       "      <th>rank_test_score</th>\n",
       "    </tr>\n",
       "  </thead>\n",
       "  <tbody>\n",
       "    <tr>\n",
       "      <th>0</th>\n",
       "      <td>13.103295</td>\n",
       "      <td>0.118601</td>\n",
       "      <td>0.131218</td>\n",
       "      <td>0.015930</td>\n",
       "      <td>0.5</td>\n",
       "      <td>31</td>\n",
       "      <td>700</td>\n",
       "      <td>6</td>\n",
       "      <td>0.1</td>\n",
       "      <td>{'reg_alpha': 0.5, 'num_leaves': 31, 'n_estima...</td>\n",
       "      <td>0.369764</td>\n",
       "      <td>0.318151</td>\n",
       "      <td>0.325120</td>\n",
       "      <td>0.348993</td>\n",
       "      <td>0.297097</td>\n",
       "      <td>0.331825</td>\n",
       "      <td>0.025188</td>\n",
       "      <td>10</td>\n",
       "    </tr>\n",
       "    <tr>\n",
       "      <th>1</th>\n",
       "      <td>13.989542</td>\n",
       "      <td>0.385864</td>\n",
       "      <td>0.125526</td>\n",
       "      <td>0.020691</td>\n",
       "      <td>0.1</td>\n",
       "      <td>127</td>\n",
       "      <td>800</td>\n",
       "      <td>5</td>\n",
       "      <td>0.001</td>\n",
       "      <td>{'reg_alpha': 0.1, 'num_leaves': 127, 'n_estim...</td>\n",
       "      <td>0.369596</td>\n",
       "      <td>0.377744</td>\n",
       "      <td>0.361702</td>\n",
       "      <td>0.371287</td>\n",
       "      <td>0.343764</td>\n",
       "      <td>0.364818</td>\n",
       "      <td>0.011702</td>\n",
       "      <td>6</td>\n",
       "    </tr>\n",
       "    <tr>\n",
       "      <th>2</th>\n",
       "      <td>12.966839</td>\n",
       "      <td>0.540181</td>\n",
       "      <td>0.123697</td>\n",
       "      <td>0.014986</td>\n",
       "      <td>0.5</td>\n",
       "      <td>31</td>\n",
       "      <td>600</td>\n",
       "      <td>5</td>\n",
       "      <td>0.001</td>\n",
       "      <td>{'reg_alpha': 0.5, 'num_leaves': 31, 'n_estima...</td>\n",
       "      <td>0.362791</td>\n",
       "      <td>0.372449</td>\n",
       "      <td>0.358515</td>\n",
       "      <td>0.370005</td>\n",
       "      <td>0.343612</td>\n",
       "      <td>0.361474</td>\n",
       "      <td>0.010225</td>\n",
       "      <td>7</td>\n",
       "    </tr>\n",
       "    <tr>\n",
       "      <th>3</th>\n",
       "      <td>5.105484</td>\n",
       "      <td>0.382864</td>\n",
       "      <td>0.113707</td>\n",
       "      <td>0.024735</td>\n",
       "      <td>0.1</td>\n",
       "      <td>127</td>\n",
       "      <td>500</td>\n",
       "      <td>2</td>\n",
       "      <td>0.001</td>\n",
       "      <td>{'reg_alpha': 0.1, 'num_leaves': 127, 'n_estim...</td>\n",
       "      <td>0.376214</td>\n",
       "      <td>0.343429</td>\n",
       "      <td>0.346030</td>\n",
       "      <td>0.386574</td>\n",
       "      <td>0.351090</td>\n",
       "      <td>0.360667</td>\n",
       "      <td>0.017413</td>\n",
       "      <td>9</td>\n",
       "    </tr>\n",
       "    <tr>\n",
       "      <th>4</th>\n",
       "      <td>4.987343</td>\n",
       "      <td>0.101660</td>\n",
       "      <td>0.126462</td>\n",
       "      <td>0.016705</td>\n",
       "      <td>0.5</td>\n",
       "      <td>31</td>\n",
       "      <td>600</td>\n",
       "      <td>2</td>\n",
       "      <td>0.1</td>\n",
       "      <td>{'reg_alpha': 0.5, 'num_leaves': 31, 'n_estima...</td>\n",
       "      <td>0.395865</td>\n",
       "      <td>0.393519</td>\n",
       "      <td>0.411765</td>\n",
       "      <td>0.409386</td>\n",
       "      <td>0.394076</td>\n",
       "      <td>0.400922</td>\n",
       "      <td>0.007956</td>\n",
       "      <td>1</td>\n",
       "    </tr>\n",
       "    <tr>\n",
       "      <th>5</th>\n",
       "      <td>12.308097</td>\n",
       "      <td>0.259118</td>\n",
       "      <td>0.114783</td>\n",
       "      <td>0.006348</td>\n",
       "      <td>0.5</td>\n",
       "      <td>127</td>\n",
       "      <td>300</td>\n",
       "      <td>5</td>\n",
       "      <td>0.001</td>\n",
       "      <td>{'reg_alpha': 0.5, 'num_leaves': 127, 'n_estim...</td>\n",
       "      <td>0.362791</td>\n",
       "      <td>0.372449</td>\n",
       "      <td>0.358515</td>\n",
       "      <td>0.369640</td>\n",
       "      <td>0.343612</td>\n",
       "      <td>0.361401</td>\n",
       "      <td>0.010165</td>\n",
       "      <td>8</td>\n",
       "    </tr>\n",
       "    <tr>\n",
       "      <th>6</th>\n",
       "      <td>8.461047</td>\n",
       "      <td>0.207570</td>\n",
       "      <td>0.109775</td>\n",
       "      <td>0.010793</td>\n",
       "      <td>0.1</td>\n",
       "      <td>127</td>\n",
       "      <td>600</td>\n",
       "      <td>4</td>\n",
       "      <td>0.01</td>\n",
       "      <td>{'reg_alpha': 0.1, 'num_leaves': 127, 'n_estim...</td>\n",
       "      <td>0.381962</td>\n",
       "      <td>0.385772</td>\n",
       "      <td>0.408666</td>\n",
       "      <td>0.387097</td>\n",
       "      <td>0.374200</td>\n",
       "      <td>0.387539</td>\n",
       "      <td>0.011478</td>\n",
       "      <td>2</td>\n",
       "    </tr>\n",
       "    <tr>\n",
       "      <th>7</th>\n",
       "      <td>7.208703</td>\n",
       "      <td>0.135264</td>\n",
       "      <td>0.103544</td>\n",
       "      <td>0.006886</td>\n",
       "      <td>0.1</td>\n",
       "      <td>31</td>\n",
       "      <td>500</td>\n",
       "      <td>4</td>\n",
       "      <td>0.1</td>\n",
       "      <td>{'reg_alpha': 0.1, 'num_leaves': 31, 'n_estima...</td>\n",
       "      <td>0.390982</td>\n",
       "      <td>0.362529</td>\n",
       "      <td>0.422494</td>\n",
       "      <td>0.384396</td>\n",
       "      <td>0.351744</td>\n",
       "      <td>0.382429</td>\n",
       "      <td>0.024576</td>\n",
       "      <td>3</td>\n",
       "    </tr>\n",
       "    <tr>\n",
       "      <th>8</th>\n",
       "      <td>18.973448</td>\n",
       "      <td>0.800532</td>\n",
       "      <td>0.132733</td>\n",
       "      <td>0.014024</td>\n",
       "      <td>0.5</td>\n",
       "      <td>127</td>\n",
       "      <td>400</td>\n",
       "      <td>6</td>\n",
       "      <td>0.01</td>\n",
       "      <td>{'reg_alpha': 0.5, 'num_leaves': 127, 'n_estim...</td>\n",
       "      <td>0.360409</td>\n",
       "      <td>0.346616</td>\n",
       "      <td>0.386513</td>\n",
       "      <td>0.382514</td>\n",
       "      <td>0.358696</td>\n",
       "      <td>0.366949</td>\n",
       "      <td>0.015161</td>\n",
       "      <td>4</td>\n",
       "    </tr>\n",
       "    <tr>\n",
       "      <th>9</th>\n",
       "      <td>17.032334</td>\n",
       "      <td>3.387604</td>\n",
       "      <td>0.099978</td>\n",
       "      <td>0.040251</td>\n",
       "      <td>0.1</td>\n",
       "      <td>31</td>\n",
       "      <td>500</td>\n",
       "      <td>8</td>\n",
       "      <td>0.001</td>\n",
       "      <td>{'reg_alpha': 0.1, 'num_leaves': 31, 'n_estima...</td>\n",
       "      <td>0.375512</td>\n",
       "      <td>0.362144</td>\n",
       "      <td>0.368398</td>\n",
       "      <td>0.365169</td>\n",
       "      <td>0.356114</td>\n",
       "      <td>0.365467</td>\n",
       "      <td>0.006452</td>\n",
       "      <td>5</td>\n",
       "    </tr>\n",
       "  </tbody>\n",
       "</table>\n",
       "</div>"
      ],
      "text/plain": [
       "   mean_fit_time  std_fit_time  mean_score_time  std_score_time  \\\n",
       "0      13.103295      0.118601         0.131218        0.015930   \n",
       "1      13.989542      0.385864         0.125526        0.020691   \n",
       "2      12.966839      0.540181         0.123697        0.014986   \n",
       "3       5.105484      0.382864         0.113707        0.024735   \n",
       "4       4.987343      0.101660         0.126462        0.016705   \n",
       "5      12.308097      0.259118         0.114783        0.006348   \n",
       "6       8.461047      0.207570         0.109775        0.010793   \n",
       "7       7.208703      0.135264         0.103544        0.006886   \n",
       "8      18.973448      0.800532         0.132733        0.014024   \n",
       "9      17.032334      3.387604         0.099978        0.040251   \n",
       "\n",
       "  param_reg_alpha param_num_leaves param_n_estimator param_max_depth  \\\n",
       "0             0.5               31               700               6   \n",
       "1             0.1              127               800               5   \n",
       "2             0.5               31               600               5   \n",
       "3             0.1              127               500               2   \n",
       "4             0.5               31               600               2   \n",
       "5             0.5              127               300               5   \n",
       "6             0.1              127               600               4   \n",
       "7             0.1               31               500               4   \n",
       "8             0.5              127               400               6   \n",
       "9             0.1               31               500               8   \n",
       "\n",
       "  param_learning_rate                                             params  \\\n",
       "0                 0.1  {'reg_alpha': 0.5, 'num_leaves': 31, 'n_estima...   \n",
       "1               0.001  {'reg_alpha': 0.1, 'num_leaves': 127, 'n_estim...   \n",
       "2               0.001  {'reg_alpha': 0.5, 'num_leaves': 31, 'n_estima...   \n",
       "3               0.001  {'reg_alpha': 0.1, 'num_leaves': 127, 'n_estim...   \n",
       "4                 0.1  {'reg_alpha': 0.5, 'num_leaves': 31, 'n_estima...   \n",
       "5               0.001  {'reg_alpha': 0.5, 'num_leaves': 127, 'n_estim...   \n",
       "6                0.01  {'reg_alpha': 0.1, 'num_leaves': 127, 'n_estim...   \n",
       "7                 0.1  {'reg_alpha': 0.1, 'num_leaves': 31, 'n_estima...   \n",
       "8                0.01  {'reg_alpha': 0.5, 'num_leaves': 127, 'n_estim...   \n",
       "9               0.001  {'reg_alpha': 0.1, 'num_leaves': 31, 'n_estima...   \n",
       "\n",
       "   split0_test_score  split1_test_score  split2_test_score  split3_test_score  \\\n",
       "0           0.369764           0.318151           0.325120           0.348993   \n",
       "1           0.369596           0.377744           0.361702           0.371287   \n",
       "2           0.362791           0.372449           0.358515           0.370005   \n",
       "3           0.376214           0.343429           0.346030           0.386574   \n",
       "4           0.395865           0.393519           0.411765           0.409386   \n",
       "5           0.362791           0.372449           0.358515           0.369640   \n",
       "6           0.381962           0.385772           0.408666           0.387097   \n",
       "7           0.390982           0.362529           0.422494           0.384396   \n",
       "8           0.360409           0.346616           0.386513           0.382514   \n",
       "9           0.375512           0.362144           0.368398           0.365169   \n",
       "\n",
       "   split4_test_score  mean_test_score  std_test_score  rank_test_score  \n",
       "0           0.297097         0.331825        0.025188               10  \n",
       "1           0.343764         0.364818        0.011702                6  \n",
       "2           0.343612         0.361474        0.010225                7  \n",
       "3           0.351090         0.360667        0.017413                9  \n",
       "4           0.394076         0.400922        0.007956                1  \n",
       "5           0.343612         0.361401        0.010165                8  \n",
       "6           0.374200         0.387539        0.011478                2  \n",
       "7           0.351744         0.382429        0.024576                3  \n",
       "8           0.358696         0.366949        0.015161                4  \n",
       "9           0.356114         0.365467        0.006452                5  "
      ]
     },
     "execution_count": 98,
     "metadata": {},
     "output_type": "execute_result"
    }
   ],
   "source": [
    "df_model"
   ]
  },
  {
   "cell_type": "code",
   "execution_count": 99,
   "id": "3a52eee5",
   "metadata": {
    "id": "3a52eee5",
    "outputId": "9fa6ae32-948b-41a3-ab9c-378a6fee2011"
   },
   "outputs": [
    {
     "data": {
      "text/html": [
       "<div>\n",
       "<style scoped>\n",
       "    .dataframe tbody tr th:only-of-type {\n",
       "        vertical-align: middle;\n",
       "    }\n",
       "\n",
       "    .dataframe tbody tr th {\n",
       "        vertical-align: top;\n",
       "    }\n",
       "\n",
       "    .dataframe thead th {\n",
       "        text-align: right;\n",
       "    }\n",
       "</style>\n",
       "<table border=\"1\" class=\"dataframe\">\n",
       "  <thead>\n",
       "    <tr style=\"text-align: right;\">\n",
       "      <th></th>\n",
       "      <th>mean_fit_time</th>\n",
       "      <th>std_fit_time</th>\n",
       "      <th>mean_score_time</th>\n",
       "      <th>std_score_time</th>\n",
       "      <th>param_reg_alpha</th>\n",
       "      <th>param_num_leaves</th>\n",
       "      <th>param_n_estimator</th>\n",
       "      <th>param_max_depth</th>\n",
       "      <th>param_learning_rate</th>\n",
       "      <th>params</th>\n",
       "      <th>split0_test_score</th>\n",
       "      <th>split1_test_score</th>\n",
       "      <th>split2_test_score</th>\n",
       "      <th>split3_test_score</th>\n",
       "      <th>split4_test_score</th>\n",
       "      <th>mean_test_score</th>\n",
       "      <th>std_test_score</th>\n",
       "      <th>rank_test_score</th>\n",
       "    </tr>\n",
       "  </thead>\n",
       "  <tbody>\n",
       "    <tr>\n",
       "      <th>4</th>\n",
       "      <td>4.987343</td>\n",
       "      <td>0.10166</td>\n",
       "      <td>0.126462</td>\n",
       "      <td>0.016705</td>\n",
       "      <td>0.5</td>\n",
       "      <td>31</td>\n",
       "      <td>600</td>\n",
       "      <td>2</td>\n",
       "      <td>0.1</td>\n",
       "      <td>{'reg_alpha': 0.5, 'num_leaves': 31, 'n_estima...</td>\n",
       "      <td>0.395865</td>\n",
       "      <td>0.393519</td>\n",
       "      <td>0.411765</td>\n",
       "      <td>0.409386</td>\n",
       "      <td>0.394076</td>\n",
       "      <td>0.400922</td>\n",
       "      <td>0.007956</td>\n",
       "      <td>1</td>\n",
       "    </tr>\n",
       "  </tbody>\n",
       "</table>\n",
       "</div>"
      ],
      "text/plain": [
       "   mean_fit_time  std_fit_time  mean_score_time  std_score_time  \\\n",
       "4       4.987343       0.10166         0.126462        0.016705   \n",
       "\n",
       "  param_reg_alpha param_num_leaves param_n_estimator param_max_depth  \\\n",
       "4             0.5               31               600               2   \n",
       "\n",
       "  param_learning_rate                                             params  \\\n",
       "4                 0.1  {'reg_alpha': 0.5, 'num_leaves': 31, 'n_estima...   \n",
       "\n",
       "   split0_test_score  split1_test_score  split2_test_score  split3_test_score  \\\n",
       "4           0.395865           0.393519           0.411765           0.409386   \n",
       "\n",
       "   split4_test_score  mean_test_score  std_test_score  rank_test_score  \n",
       "4           0.394076         0.400922        0.007956                1  "
      ]
     },
     "execution_count": 99,
     "metadata": {},
     "output_type": "execute_result"
    }
   ],
   "source": [
    "df_model[df_model.rank_test_score == 1]"
   ]
  },
  {
   "cell_type": "code",
   "execution_count": 100,
   "id": "4c3dcbd3",
   "metadata": {
    "id": "4c3dcbd3"
   },
   "outputs": [],
   "source": [
    "df_model = (df_model[df_model.rank_test_score == 1][[\"mean_fit_time\", \"mean_score_time\"]].T).values"
   ]
  },
  {
   "cell_type": "code",
   "execution_count": 101,
   "id": "7797b5e7",
   "metadata": {
    "id": "7797b5e7",
    "outputId": "74aba986-92bc-4c13-fefd-8c068f7bd731",
    "scrolled": true
   },
   "outputs": [
    {
     "data": {
      "text/plain": [
       "array([[4.98734274],\n",
       "       [0.12646194]])"
      ]
     },
     "execution_count": 101,
     "metadata": {},
     "output_type": "execute_result"
    }
   ],
   "source": [
    "df_model"
   ]
  },
  {
   "cell_type": "code",
   "execution_count": 102,
   "id": "40f8ef5e",
   "metadata": {
    "id": "40f8ef5e",
    "outputId": "a182c445-efd0-439b-c3f9-c278a3e01906"
   },
   "outputs": [
    {
     "data": {
      "text/plain": [
       "{'reg_alpha': 0.5,\n",
       " 'num_leaves': 31,\n",
       " 'n_estimator': 600,\n",
       " 'max_depth': 2,\n",
       " 'learning_rate': 0.1}"
      ]
     },
     "execution_count": 102,
     "metadata": {},
     "output_type": "execute_result"
    }
   ],
   "source": [
    "grid.best_params_"
   ]
  },
  {
   "cell_type": "code",
   "execution_count": 103,
   "id": "0f7c41dd",
   "metadata": {
    "id": "0f7c41dd",
    "outputId": "f749139d-7af7-441d-c793-3ac387057d0e"
   },
   "outputs": [
    {
     "data": {
      "text/plain": [
       "LGBMClassifier(class_weight='balanced', max_depth=2, n_estimator=600,\n",
       "               reg_alpha=0.5)"
      ]
     },
     "execution_count": 103,
     "metadata": {},
     "output_type": "execute_result"
    }
   ],
   "source": [
    "grid.best_estimator_"
   ]
  },
  {
   "cell_type": "code",
   "execution_count": 104,
   "id": "4d7119f2",
   "metadata": {
    "id": "4d7119f2"
   },
   "outputs": [
    {
     "data": {
      "image/png": "[encoded data removed]",
      "text/plain": [
       "<Figure size 648x576 with 1 Axes>"
      ]
     },
     "metadata": {
      "needs_background": "light"
     },
     "output_type": "display_data"
    }
   ],
   "source": [
    "model_stat[\"new_model\"] = df_model\n",
    "del df_model\n",
    "\n",
    "# mise en place de l'index\n",
    "model_stat = model_stat.T\n",
    "model_stat[\"new_model\"] = model_stat.index\n",
    "\n",
    "# Performance dans les temps d'apprentissage et de prédiction\n",
    "model_stat.plot(x=\"new_model\", y=[\"mean_fit_time\", \"mean_score_time\"], kind=\"bar\", figsize=(9, 8),)\n",
    "plt.ylabel(\"Temps de calcul (s)\")\n",
    "plt.title(\"Comparaison des performances des modèles\")\n",
    "plt.yscale('log') \n",
    "plt.show()"
   ]
  },
  {
   "cell_type": "markdown",
   "id": "28788891",
   "metadata": {
    "id": "28788891"
   },
   "source": [
    "**Evaluation du modèle via l'auc_roc**"
   ]
  },
  {
   "cell_type": "code",
   "execution_count": 118,
   "id": "7c15fccd",
   "metadata": {},
   "outputs": [
    {
     "data": {
      "image/png": "[encoded data removed]",
      "text/plain": [
       "<Figure size 792x792 with 1 Axes>"
      ]
     },
     "metadata": {
      "needs_background": "light"
     },
     "output_type": "display_data"
    },
    {
     "name": "stdout",
     "output_type": "stream",
     "text": [
      "my_mdel 0.751\n",
      "LGBMClassifier 0.754\n"
     ]
    }
   ],
   "source": [
    "# courbe roc \n",
    "fig, ax = plt.subplots(1, figsize=(11, 11))\n",
    "models = {\"LGBMClassifier\": grid.best_estimator_,\n",
    "          \"my_model\" : my_model}\n",
    "\n",
    "for name, model in models.items(): \n",
    "  \n",
    "    RocCurveDisplay.from_estimator(\n",
    "            model, X_test, y_test, ax=ax, name=name)\n",
    "        \n",
    "ax.set_title('Receiver Operating Characteristic (ROC) curves', fontsize=15, fontweight=\"bold\")\n",
    "ax.grid(linestyle='--')\n",
    "\n",
    "plt.legend()\n",
    "plt.show()\n",
    "\n",
    "print(\"my_mdel {:.3f}\".format(roc_auc_score(y_test, my_model.predict_proba(X_test)[:,1])))\n",
    "print(\"LGBMClassifier {:.3f}\".format(roc_auc_score(y_test, grid.best_estimator_.predict_proba(X_test)[:,1])))"
   ]
  },
  {
   "cell_type": "markdown",
   "id": "e23850b4",
   "metadata": {
    "id": "e23850b4"
   },
   "source": [
    "Il y a une augmentation de 3 millièmes du score correspondant à une diminution des FN et une augmentation des FP et une baisse du score de classification.\n",
    "On a également dans ce cas légèrement une grande précision de notre nouveau modèle évalué sur via la métrique F2-score.   "
   ]
  },
  {
   "cell_type": "code",
   "execution_count": 62,
   "id": "c956980d",
   "metadata": {
    "id": "c956980d"
   },
   "outputs": [],
   "source": [
    "import xgboost\n",
    "from xgboost import XGBClassifier\n",
    "from sklearn.linear_model import LogisticRegression"
   ]
  },
  {
   "cell_type": "code",
   "execution_count": null,
   "id": "ae9fdb51",
   "metadata": {
    "id": "ae9fdb51",
    "outputId": "53463e6a-6de5-431e-a28f-b766f5476764"
   },
   "outputs": [
    {
     "data": {
      "text/plain": [
       "array([282682,  24825], dtype=int64)"
      ]
     },
     "execution_count": 30,
     "metadata": {},
     "output_type": "execute_result"
    }
   ],
   "source": [
    "np.bincount(y)"
   ]
  },
  {
   "cell_type": "markdown",
   "id": "35085e29",
   "metadata": {
    "id": "35085e29"
   },
   "source": [
    "**Information XGBClassifier**\n",
    "\n",
    "Il existe l'argument **scale_pos_weight** utile pour mettre à l'échelle le gradient pour la classe positive. Nous l'introduisons donc dans l'étude de fonction coût pour vérifier les performances de prédiction de XGBClassifier"
   ]
  },
  {
   "cell_type": "code",
   "execution_count": null,
   "id": "cbceb3fb",
   "metadata": {
    "id": "cbceb3fb",
    "outputId": "62d13eda-563a-4c72-9fd2-d1aa6c920422"
   },
   "outputs": [
    {
     "data": {
      "text/plain": [
       "11.38390092879257"
      ]
     },
     "execution_count": 23,
     "metadata": {},
     "output_type": "execute_result"
    }
   ],
   "source": [
    "wneg = np.bincount(y_train)[0]\n",
    "wpos = np.bincount(y_train)[1]\n",
    "(wneg / wpos)"
   ]
  },
  {
   "cell_type": "code",
   "execution_count": 66,
   "id": "af07653b",
   "metadata": {
    "id": "af07653b"
   },
   "outputs": [],
   "source": [
    "model_xgb = XGBClassifier(use_rmm=True, booster=\"gbtree\", \n",
    "                          scale_pos_weight=(wneg / wpos), # pour l'équilibre des classes\n",
    "                          random_state=0)\n",
    "\n",
    "model_lgr = LogisticRegression(max_iter=300, solver='saga', class_weight=\"balanced\", random_state=0)"
   ]
  },
  {
   "cell_type": "code",
   "execution_count": 67,
   "id": "dba69541",
   "metadata": {
    "id": "dba69541"
   },
   "outputs": [],
   "source": [
    "# param_xgb est  déja défini\n",
    "\n",
    "\n",
    "param_xgb = {\"eta\":[0.001, 0.01, 0.1, 1],\n",
    "             'gamma': [0, 0.3, 0.5, 1, 1.5, 2, 5],\n",
    "             'max_depth': [6, 7, 9, 10],\n",
    "             \"scale_pos_weight\":[10, 11, (wneg / wpos), 12, 14]\n",
    "             }\n",
    "\n",
    "param_lgr = {'C': [0.001, 0.01, 0.1, 1.0, 10],\n",
    "            'solver': ['lbfgs', 'sag', 'saga', 'newton-cg'],\n",
    "            'max_iter': [100, 200, 300, 400]\n",
    "             }"
   ]
  },
  {
   "cell_type": "code",
   "execution_count": 68,
   "id": "d4bbb0d5",
   "metadata": {
    "id": "d4bbb0d5"
   },
   "outputs": [],
   "source": [
    "# test d'autres modèles\n",
    "rs_xgb_w = RandomizedSearchCV(model_xgb, param_xgb, cv=cv, scoring=ftwo_scorer, n_jobs=-1)\n",
    "rs_lgr_w = RandomizedSearchCV(model_lgr, param_lgr, cv=cv, scoring=ftwo_scorer, n_jobs=-1)"
   ]
  },
  {
   "cell_type": "code",
   "execution_count": 79,
   "id": "c22ddeb1",
   "metadata": {
    "id": "c22ddeb1"
   },
   "outputs": [
    {
     "data": {
      "text/plain": [
       "StandardScaler()"
      ]
     },
     "execution_count": 79,
     "metadata": {},
     "output_type": "execute_result"
    }
   ],
   "source": [
    "scaler = StandardScaler()\n",
    "scaler"
   ]
  },
  {
   "cell_type": "code",
   "execution_count": 70,
   "id": "9e4b6f5d",
   "metadata": {
    "id": "9e4b6f5d",
    "outputId": "33709e8e-1b57-4fc1-90ca-3d810c1e3110"
   },
   "outputs": [
    {
     "data": {
      "text/plain": [
       "(16000, 795)"
      ]
     },
     "execution_count": 70,
     "metadata": {},
     "output_type": "execute_result"
    }
   ],
   "source": [
    "X_train.shape"
   ]
  },
  {
   "cell_type": "code",
   "execution_count": 71,
   "id": "cadb4267",
   "metadata": {
    "id": "cadb4267",
    "outputId": "fdaba478-ad16-48a4-c510-c8467f9f4a45"
   },
   "outputs": [
    {
     "data": {
      "text/plain": [
       "RandomizedSearchCV(cv=StratifiedKFold(n_splits=5, random_state=0, shuffle=True),\n",
       "                   estimator=LogisticRegression(class_weight='balanced',\n",
       "                                                max_iter=300, random_state=0,\n",
       "                                                solver='saga'),\n",
       "                   n_jobs=-1,\n",
       "                   param_distributions={'C': [0.001, 0.01, 0.1, 1.0, 10],\n",
       "                                        'max_iter': [100, 200, 300, 400],\n",
       "                                        'solver': ['lbfgs', 'sag', 'saga',\n",
       "                                                   'newton-cg']},\n",
       "                   scoring=make_scorer(fbeta_score, beta=2))"
      ]
     },
     "execution_count": 71,
     "metadata": {},
     "output_type": "execute_result"
    }
   ],
   "source": [
    "rs_xgb_w.fit(X_train, y_train)\n",
    "X_train_scaled = scaler.fit_transform(X_train)\n",
    "rs_lgr_w.fit(X_train_scaled, y_train)"
   ]
  },
  {
   "cell_type": "code",
   "execution_count": 107,
   "id": "7568e52f",
   "metadata": {
    "id": "7568e52f",
    "outputId": "6b5aad68-d79f-4b02-fcc6-7e671aca6fb4"
   },
   "outputs": [
    {
     "data": {
      "text/plain": [
       "{'scale_pos_weight': 14, 'max_depth': 7, 'gamma': 0, 'eta': 0.01}"
      ]
     },
     "execution_count": 107,
     "metadata": {},
     "output_type": "execute_result"
    }
   ],
   "source": [
    "rs_xgb_w.best_params_"
   ]
  },
  {
   "cell_type": "code",
   "execution_count": 106,
   "id": "1b3e5495",
   "metadata": {
    "id": "1b3e5495",
    "outputId": "400c5a37-b5e7-436f-93a2-28d3d5d439d4"
   },
   "outputs": [
    {
     "data": {
      "text/plain": [
       "XGBClassifier(base_score=0.5, booster='gbtree', callbacks=None,\n",
       "              colsample_bylevel=1, colsample_bynode=1, colsample_bytree=1,\n",
       "              early_stopping_rounds=None, enable_categorical=False, eta=0.01,\n",
       "              eval_metric=None, gamma=0, gpu_id=-1, grow_policy='depthwise',\n",
       "              importance_type=None, interaction_constraints='',\n",
       "              learning_rate=0.00999999978, max_bin=256, max_cat_to_onehot=4,\n",
       "              max_delta_step=0, max_depth=7, max_leaves=0, min_child_weight=1,\n",
       "              missing=nan, monotone_constraints='()', n_estimators=100,\n",
       "              n_jobs=0, num_parallel_tree=1, predictor='auto', random_state=0,\n",
       "              reg_alpha=0, ...)"
      ]
     },
     "execution_count": 106,
     "metadata": {},
     "output_type": "execute_result"
    }
   ],
   "source": [
    "rs_xgb_w.best_estimator_"
   ]
  },
  {
   "cell_type": "code",
   "execution_count": 75,
   "id": "1cc2511b",
   "metadata": {
    "id": "1cc2511b",
    "outputId": "2ee1056a-ae30-440a-fd37-eaba5e670f42"
   },
   "outputs": [
    {
     "data": {
      "text/plain": [
       "{'solver': 'lbfgs', 'max_iter': 100, 'C': 0.001}"
      ]
     },
     "execution_count": 75,
     "metadata": {},
     "output_type": "execute_result"
    }
   ],
   "source": [
    "rs_lgr_w.best_params_"
   ]
  },
  {
   "cell_type": "code",
   "execution_count": 108,
   "id": "c04dc0b4",
   "metadata": {
    "id": "c04dc0b4",
    "outputId": "dbddc732-f59e-454e-8f3e-8b06ac934736"
   },
   "outputs": [
    {
     "data": {
      "text/plain": [
       "LogisticRegression(C=0.001, class_weight='balanced', random_state=0)"
      ]
     },
     "execution_count": 108,
     "metadata": {},
     "output_type": "execute_result"
    }
   ],
   "source": [
    "rs_lgr_w.best_estimator_"
   ]
  },
  {
   "cell_type": "code",
   "execution_count": 78,
   "id": "cf3e4f84",
   "metadata": {
    "id": "cf3e4f84",
    "outputId": "f63cc434-8468-4b56-b70e-7e20dc12750f",
    "scrolled": true
   },
   "outputs": [
    {
     "data": {
      "text/plain": [
       "{'reg_alpha': 0.5,\n",
       " 'num_leaves': 31,\n",
       " 'n_estimator': 300,\n",
       " 'max_depth': 8,\n",
       " 'learning_rate': 0.01}"
      ]
     },
     "execution_count": 78,
     "metadata": {},
     "output_type": "execute_result"
    }
   ],
   "source": [
    "grid.best_params_"
   ]
  },
  {
   "cell_type": "code",
   "execution_count": 110,
   "id": "ef1e9065",
   "metadata": {},
   "outputs": [
    {
     "name": "stdout",
     "output_type": "stream",
     "text": [
      "-----Evaluation du modèle xgboost_model----- \n",
      "               precision    recall  f1-score   support\n",
      "\n",
      "     class 0       0.95      0.75      0.84    264297\n",
      "     class 1       0.16      0.55      0.25     23210\n",
      "\n",
      "    accuracy                           0.73    287507\n",
      "   macro avg       0.56      0.65      0.54    287507\n",
      "weighted avg       0.89      0.73      0.79    287507\n",
      "\n"
     ]
    },
    {
     "data": {
      "image/png": "[encoded data removed]",
      "text/plain": [
       "<Figure size 432x288 with 2 Axes>"
      ]
     },
     "metadata": {
      "needs_background": "light"
     },
     "output_type": "display_data"
    }
   ],
   "source": [
    "# pour xgboost\n",
    "Confusion_Mat(Xi, yi, rs_xgb_w.best_estimator_,\"xgboost_model\")"
   ]
  },
  {
   "cell_type": "code",
   "execution_count": 112,
   "id": "10452f59",
   "metadata": {},
   "outputs": [
    {
     "name": "stdout",
     "output_type": "stream",
     "text": [
      "-----Evaluation du modèle logreg_model----- \n",
      "               precision    recall  f1-score   support\n",
      "\n",
      "     class 0       0.96      0.72      0.82    264297\n",
      "     class 1       0.17      0.64      0.27     23210\n",
      "\n",
      "    accuracy                           0.72    287507\n",
      "   macro avg       0.56      0.68      0.54    287507\n",
      "weighted avg       0.89      0.72      0.78    287507\n",
      "\n"
     ]
    },
    {
     "data": {
      "image/png": "[encoded data removed]",
      "text/plain": [
       "<Figure size 432x288 with 2 Axes>"
      ]
     },
     "metadata": {
      "needs_background": "light"
     },
     "output_type": "display_data"
    }
   ],
   "source": [
    "# pour logisticRegression\n",
    "Xi_scaled = scaler.fit_transform(Xi)\n",
    "Confusion_Mat(Xi_scaled, yi, rs_lgr_w.best_estimator_,\"logreg_model\")"
   ]
  },
  {
   "cell_type": "code",
   "execution_count": 114,
   "id": "4f344ed4",
   "metadata": {},
   "outputs": [],
   "source": [
    "Confusion_Mat?"
   ]
  },
  {
   "cell_type": "code",
   "execution_count": null,
   "id": "3360b180",
   "metadata": {
    "id": "3360b180",
    "outputId": "fa0d9e66-b56b-4c48-ee7d-80f5fe224ce1"
   },
   "outputs": [
    {
     "name": "stdout",
     "output_type": "stream",
     "text": [
      "-----Evaluation du modèle new_model----- \n",
      "               precision    recall  f1-score   support\n",
      "\n",
      "     class 0       0.95      0.71      0.81    264297\n",
      "     class 1       0.15      0.61      0.25     23210\n",
      "\n",
      "    accuracy                           0.70    287507\n",
      "   macro avg       0.55      0.66      0.53    287507\n",
      "weighted avg       0.89      0.70      0.77    287507\n",
      "\n"
     ]
    },
    {
     "data": {
      "image/png": "[encoded data removed]",
      "text/plain": [
       "<Figure size 432x288 with 2 Axes>"
      ]
     },
     "metadata": {
      "needs_background": "light"
     },
     "output_type": "display_data"
    }
   ],
   "source": [
    "# pour xgboost\n",
    "y_pred = rs_xgb_w.best_estimator_.predict(Xi)\n",
    "cm_ = confusion_matrix(yi, y_pred)\n",
    "cm_display_ = ConfusionMatrixDisplay(cm_).plot()\n",
    "cm_display_\n",
    "\n",
    "target_names = ['class 0', 'class 1']\n",
    "print(\"-----Evaluation du modèle {}-----\".format(\"new_model\"), \"\\n\", classification_report(yi, y_pred, target_names=target_names))"
   ]
  },
  {
   "cell_type": "code",
   "execution_count": 115,
   "id": "80434cfe",
   "metadata": {
    "id": "80434cfe"
   },
   "outputs": [],
   "source": [
    "# Définition des modèles avec leurs meilleurs hyperparamètres\n",
    "lgbm_model = grid.best_estimator_\n",
    "logreg_model = rs_lgr_w.best_estimator_\n",
    "xgb_model = rs_xgb_w.best_estimator_"
   ]
  },
  {
   "cell_type": "code",
   "execution_count": 116,
   "id": "89ac2c11",
   "metadata": {
    "id": "89ac2c11"
   },
   "outputs": [],
   "source": [
    "# courbe roc \n",
    "def roc_curve(testX, testy):\n",
    "    fig, ax = plt.subplots(1, figsize=(11, 11))\n",
    "    models = {\"Olgbm_model\" : my_model,\n",
    "              \"lgbm_model\" : grid.best_estimator_,\n",
    "              \"logreg_model\" : logreg_model,\n",
    "              \"xgb_model\" : xgb_model\n",
    "             }\n",
    "\n",
    "    for name, model in models.items(): \n",
    "\n",
    "        if name != \"logreg_model\" :\n",
    "            RocCurveDisplay.from_estimator(\n",
    "                model, testX, testy, ax=ax, name=name)\n",
    "        else:\n",
    "            RocCurveDisplay.from_estimator(\n",
    "                model, scaler.fit_transform(testX), testy, ax=ax, name=name)\n",
    "            \n",
    "    ax.set_title('Receiver Operating Characteristic (ROC) curves', fontsize=15, fontweight=\"bold\")\n",
    "    ax.grid(linestyle='--')\n",
    "\n",
    "    plt.legend()\n",
    "    plt.show()"
   ]
  },
  {
   "cell_type": "code",
   "execution_count": 117,
   "id": "30a00b33",
   "metadata": {
    "id": "30a00b33",
    "outputId": "fd7f0b1e-3a2c-4736-cd77-2cd00c2caf8e"
   },
   "outputs": [
    {
     "data": {
      "image/png": "[encoded data removed]",
      "text/plain": [
       "<Figure size 792x792 with 1 Axes>"
      ]
     },
     "metadata": {
      "needs_background": "light"
     },
     "output_type": "display_data"
    },
    {
     "name": "stdout",
     "output_type": "stream",
     "text": [
      "Olgbm_model 0.751\n",
      "lgbm_model 0.754\n",
      "log_reg_model 0.754\n",
      "xgb_model 0.694\n"
     ]
    }
   ],
   "source": [
    "roc_curve(X_test, y_test)\n",
    "print(\"Olgbm_model {:.3f}\".format(roc_auc_score(y_test, my_model.predict_proba(X_test)[:,1])))\n",
    "print(\"lgbm_model {:.3f}\".format(roc_auc_score(y_test, lgbm_model.predict_proba(X_test)[:,1])))\n",
    "print(\"log_reg_model {:.3f}\".format(roc_auc_score(y_test, logreg_model.predict_proba(scaler.fit_transform(X_test))[:,1])))\n",
    "print(\"xgb_model {:.3f}\".format(roc_auc_score(y_test, xgb_model.predict_proba(X_test)[:,1])))"
   ]
  },
  {
   "cell_type": "markdown",
   "id": "f7c84f6a",
   "metadata": {
    "id": "f7c84f6a"
   },
   "source": []
  },
  {
   "cell_type": "markdown",
   "id": "c7d06266",
   "metadata": {
    "id": "e90a1c7e"
   },
   "source": [
    "### Définition des modèles"
   ]
  },
  {
   "cell_type": "code",
   "execution_count": null,
   "id": "c5c1d5cb",
   "metadata": {
    "id": "c5c1d5cb",
    "outputId": "755cf74b-9df6-45f1-ea0c-72c3e9755c71",
    "scrolled": true
   },
   "outputs": [
    {
     "data": {
      "text/html": [
       "<style>#sk-container-id-8 {color: black;background-color: white;}#sk-container-id-8 pre{padding: 0;}#sk-container-id-8 div.sk-toggleable {background-color: white;}#sk-container-id-8 label.sk-toggleable__label {cursor: pointer;display: block;width: 100%;margin-bottom: 0;padding: 0.3em;box-sizing: border-box;text-align: center;}#sk-container-id-8 label.sk-toggleable__label-arrow:before {content: \"▸\";float: left;margin-right: 0.25em;color: #696969;}#sk-container-id-8 label.sk-toggleable__label-arrow:hover:before {color: black;}#sk-container-id-8 div.sk-estimator:hover label.sk-toggleable__label-arrow:before {color: black;}#sk-container-id-8 div.sk-toggleable__content {max-height: 0;max-width: 0;overflow: hidden;text-align: left;background-color: #f0f8ff;}#sk-container-id-8 div.sk-toggleable__content pre {margin: 0.2em;color: black;border-radius: 0.25em;background-color: #f0f8ff;}#sk-container-id-8 input.sk-toggleable__control:checked~div.sk-toggleable__content {max-height: 200px;max-width: 100%;overflow: auto;}#sk-container-id-8 input.sk-toggleable__control:checked~label.sk-toggleable__label-arrow:before {content: \"▾\";}#sk-container-id-8 div.sk-estimator input.sk-toggleable__control:checked~label.sk-toggleable__label {background-color: #d4ebff;}#sk-container-id-8 div.sk-label input.sk-toggleable__control:checked~label.sk-toggleable__label {background-color: #d4ebff;}#sk-container-id-8 input.sk-hidden--visually {border: 0;clip: rect(1px 1px 1px 1px);clip: rect(1px, 1px, 1px, 1px);height: 1px;margin: -1px;overflow: hidden;padding: 0;position: absolute;width: 1px;}#sk-container-id-8 div.sk-estimator {font-family: monospace;background-color: #f0f8ff;border: 1px dotted black;border-radius: 0.25em;box-sizing: border-box;margin-bottom: 0.5em;}#sk-container-id-8 div.sk-estimator:hover {background-color: #d4ebff;}#sk-container-id-8 div.sk-parallel-item::after {content: \"\";width: 100%;border-bottom: 1px solid gray;flex-grow: 1;}#sk-container-id-8 div.sk-label:hover label.sk-toggleable__label {background-color: #d4ebff;}#sk-container-id-8 div.sk-serial::before {content: \"\";position: absolute;border-left: 1px solid gray;box-sizing: border-box;top: 0;bottom: 0;left: 50%;z-index: 0;}#sk-container-id-8 div.sk-serial {display: flex;flex-direction: column;align-items: center;background-color: white;padding-right: 0.2em;padding-left: 0.2em;position: relative;}#sk-container-id-8 div.sk-item {position: relative;z-index: 1;}#sk-container-id-8 div.sk-parallel {display: flex;align-items: stretch;justify-content: center;background-color: white;position: relative;}#sk-container-id-8 div.sk-item::before, #sk-container-id-8 div.sk-parallel-item::before {content: \"\";position: absolute;border-left: 1px solid gray;box-sizing: border-box;top: 0;bottom: 0;left: 50%;z-index: -1;}#sk-container-id-8 div.sk-parallel-item {display: flex;flex-direction: column;z-index: 1;position: relative;background-color: white;}#sk-container-id-8 div.sk-parallel-item:first-child::after {align-self: flex-end;width: 50%;}#sk-container-id-8 div.sk-parallel-item:last-child::after {align-self: flex-start;width: 50%;}#sk-container-id-8 div.sk-parallel-item:only-child::after {width: 0;}#sk-container-id-8 div.sk-dashed-wrapped {border: 1px dashed gray;margin: 0 0.4em 0.5em 0.4em;box-sizing: border-box;padding-bottom: 0.4em;background-color: white;}#sk-container-id-8 div.sk-label label {font-family: monospace;font-weight: bold;display: inline-block;line-height: 1.2em;}#sk-container-id-8 div.sk-label-container {text-align: center;}#sk-container-id-8 div.sk-container {/* jupyter's `normalize.less` sets `[hidden] { display: none; }` but bootstrap.min.css set `[hidden] { display: none !important; }` so we also need the `!important` here to be able to override the default hidden behavior on the sphinx rendered scikit-learn.org. See: https://github.com/scikit-learn/scikit-learn/issues/21755 */display: inline-block !important;position: relative;}#sk-container-id-8 div.sk-text-repr-fallback {display: none;}</style><div id=\"sk-container-id-8\" class=\"sk-top-container\"><div class=\"sk-text-repr-fallback\"><pre>LGBMClassifier(class_weight=&#x27;balanced&#x27;, max_depth=2, n_estimator=400,\n",
       "               num_leaves=127, reg_alpha=0.1)</pre><b>In a Jupyter environment, please rerun this cell to show the HTML representation or trust the notebook. <br />On GitHub, the HTML representation is unable to render, please try loading this page with nbviewer.org.</b></div><div class=\"sk-container\" hidden><div class=\"sk-item\"><div class=\"sk-estimator sk-toggleable\"><input class=\"sk-toggleable__control sk-hidden--visually\" id=\"sk-estimator-id-12\" type=\"checkbox\" checked><label for=\"sk-estimator-id-12\" class=\"sk-toggleable__label sk-toggleable__label-arrow\">LGBMClassifier</label><div class=\"sk-toggleable__content\"><pre>LGBMClassifier(class_weight=&#x27;balanced&#x27;, max_depth=2, n_estimator=400,\n",
       "               num_leaves=127, reg_alpha=0.1)</pre></div></div></div></div></div>"
      ],
      "text/plain": [
       "LGBMClassifier(class_weight='balanced', max_depth=2, n_estimator=400,\n",
       "               num_leaves=127, reg_alpha=0.1)"
      ]
     },
     "execution_count": 69,
     "metadata": {},
     "output_type": "execute_result"
    }
   ],
   "source": [
    "grid.best_estimator_"
   ]
  },
  {
   "cell_type": "code",
   "execution_count": null,
   "id": "b29c9a23",
   "metadata": {
    "id": "b29c9a23",
    "outputId": "6d6c877a-dfb8-426e-a8e8-ecc392b07733",
    "scrolled": true
   },
   "outputs": [
    {
     "data": {
      "text/plain": [
       "{'reg_alpha': 0.1,\n",
       " 'num_leaves': 127,\n",
       " 'n_estimator': 400,\n",
       " 'max_depth': 2,\n",
       " 'learning_rate': 0.1}"
      ]
     },
     "execution_count": 70,
     "metadata": {},
     "output_type": "execute_result"
    }
   ],
   "source": [
    "grid.best_params_"
   ]
  },
  {
   "cell_type": "code",
   "execution_count": 125,
   "id": "f23041ee",
   "metadata": {},
   "outputs": [],
   "source": [
    "XGBClassifier?"
   ]
  },
  {
   "cell_type": "code",
   "execution_count": 128,
   "id": "05e09b20",
   "metadata": {},
   "outputs": [
    {
     "data": {
      "text/plain": [
       "{'solver': 'lbfgs', 'max_iter': 100, 'C': 0.001}"
      ]
     },
     "execution_count": 128,
     "metadata": {},
     "output_type": "execute_result"
    }
   ],
   "source": [
    "rs_lgr_w.best_params_\n"
   ]
  },
  {
   "cell_type": "code",
   "execution_count": 122,
   "id": "05d8b18f",
   "metadata": {},
   "outputs": [
    {
     "data": {
      "text/plain": [
       "{'scale_pos_weight': 14, 'max_depth': 7, 'gamma': 0, 'eta': 0.01}"
      ]
     },
     "execution_count": 122,
     "metadata": {},
     "output_type": "execute_result"
    }
   ],
   "source": [
    "grid.best_params_\n",
    "rs_lgr_w.best_params_\n",
    "rs_xgb_w.best_params_"
   ]
  },
  {
   "cell_type": "code",
   "execution_count": 126,
   "id": "aa7959df",
   "metadata": {
    "scrolled": true
   },
   "outputs": [
    {
     "name": "stderr",
     "output_type": "stream",
     "text": [
      "C:\\Users\\nokan\\anaconda3\\lib\\site-packages\\xgboost\\core.py:525: FutureWarning: Pass `objective` as keyword args.  Passing these as positional arguments will be considered as error in future releases.\n",
      "  warnings.warn(\n"
     ]
    }
   ],
   "source": [
    "xgboost_model = XGBClassifier(rs_xgb_w.best_params_, random_sate=0)"
   ]
  },
  {
   "cell_type": "code",
   "execution_count": null,
   "id": "39c00e43",
   "metadata": {},
   "outputs": [],
   "source": []
  },
  {
   "cell_type": "code",
   "execution_count": 127,
   "id": "5b6103af",
   "metadata": {},
   "outputs": [
    {
     "data": {
      "text/plain": [
       "XGBClassifier(base_score=None, booster=None, callbacks=None,\n",
       "              colsample_bylevel=None, colsample_bynode=None,\n",
       "              colsample_bytree=None, early_stopping_rounds=None,\n",
       "              enable_categorical=False, eval_metric=None, gamma=None,\n",
       "              gpu_id=None, grow_policy=None, importance_type=None,\n",
       "              interaction_constraints=None, learning_rate=None, max_bin=None,\n",
       "              max_cat_to_onehot=None, max_delta_step=None, max_depth=None,\n",
       "              max_leaves=None, min_child_weight=None, missing=nan,\n",
       "              monotone_constraints=None, n_estimators=100, n_jobs=None,\n",
       "              num_parallel_tree=None,\n",
       "              objective={'eta': 0.01, 'gamma': 0, 'max_depth': 7,\n",
       "                         'scale_pos_weight': 14},\n",
       "              predictor=None, random_state=None, reg_alpha=None, ...)"
      ]
     },
     "execution_count": 127,
     "metadata": {},
     "output_type": "execute_result"
    }
   ],
   "source": [
    "xgboost_model"
   ]
  },
  {
   "cell_type": "code",
   "execution_count": null,
   "id": "25b57d6e",
   "metadata": {
    "id": "25b57d6e"
   },
   "outputs": [],
   "source": [
    "fnl_model = LGBMClassifier(class_weight='balanced',\n",
    "                         learning_rate=0.1,\n",
    "                         max_depth=2,\n",
    "                         n_estimator=400,\n",
    "                         num_leaves=127,\n",
    "                         reg_alpha=0.1, random_state=0)\n",
    "\n",
    "logreg_model = LogisticRegression(class_weight='balanced',solver=\"lbfgs\", max_iter=200, C=0.001, random_state=0)\n",
    "xgboost_model = XGBClassifier(scale_pos_weight=14, max_depth=7, gamma=0, eta=0.01, random_state=0)"
   ]
  },
  {
   "cell_type": "code",
   "execution_count": 16,
   "id": "4fa9ef23",
   "metadata": {
    "id": "4fa9ef23"
   },
   "outputs": [],
   "source": [
    "# Nouveau jeu de données plus volumineux\n",
    "trainX, testX, trainy, testy = train_test_split(X, y, train_size=0.8, random_state=0, shuffle=True , stratify=y)"
   ]
  },
  {
   "cell_type": "code",
   "execution_count": null,
   "id": "2179d2dc",
   "metadata": {
    "id": "2179d2dc",
    "outputId": "b04a6a8f-f08b-4703-924f-562201b49302"
   },
   "outputs": [
    {
     "data": {
      "text/plain": [
       "LGBMClassifier(class_weight='balanced', max_depth=3, reg_alpha=0.1)"
      ]
     },
     "execution_count": 16,
     "metadata": {},
     "output_type": "execute_result"
    }
   ],
   "source": [
    "# entrainement du modèle initial obtenu après optimisation avec la métrique roc_auc sur trainX, trainy\n",
    "my_model.fit(trainX, trainy)"
   ]
  },
  {
   "cell_type": "code",
   "execution_count": null,
   "id": "42c7918b",
   "metadata": {
    "id": "42c7918b",
    "outputId": "a15a18b0-3acd-4d88-e585-8562571fa4fa"
   },
   "outputs": [
    {
     "name": "stdout",
     "output_type": "stream",
     "text": [
      "-----Evaluation du modèle lgbm avec la métrique roc_auc----- \n",
      "               precision    recall  f1-score   support\n",
      "\n",
      "     class 0       0.96      0.71      0.82     56537\n",
      "     class 1       0.18      0.70      0.28      4965\n",
      "\n",
      "    accuracy                           0.71     61502\n",
      "   macro avg       0.57      0.71      0.55     61502\n",
      "weighted avg       0.90      0.71      0.77     61502\n",
      "\n"
     ]
    },
    {
     "data": {
      "image/png": "[encoded data removed]",
      "text/plain": [
       "<Figure size 432x288 with 2 Axes>"
      ]
     },
     "metadata": {
      "needs_background": "light"
     },
     "output_type": "display_data"
    }
   ],
   "source": [
    "y_pred = my_model.predict(testX)\n",
    "cm_ = confusion_matrix(testy, y_pred)\n",
    "cm_display_ = ConfusionMatrixDisplay(cm_).plot()\n",
    "cm_display_\n",
    "\n",
    "target_names = ['class 0', 'class 1']\n",
    "print(\"-----Evaluation du modèle {}-----\".format(\"lgbm avec la métrique roc_auc\"), \"\\n\", classification_report(testy, y_pred, target_names=target_names))"
   ]
  },
  {
   "cell_type": "code",
   "execution_count": 140,
   "id": "c2e8a0ed",
   "metadata": {},
   "outputs": [],
   "source": [
    "# modèle original lightGBM évalué avec \"roc_auc\"\n",
    "origin_lgbm_model = LGBMClassifier(class_weight='balanced', max_depth=3, reg_alpha=0.1, random_state=0)"
   ]
  },
  {
   "cell_type": "code",
   "execution_count": 143,
   "id": "9dd3d76c",
   "metadata": {
    "scrolled": true
   },
   "outputs": [
    {
     "data": {
      "text/plain": [
       "LGBMClassifier(class_weight='balanced', max_depth=3, random_state=0,\n",
       "               reg_alpha=0.1)"
      ]
     },
     "execution_count": 143,
     "metadata": {},
     "output_type": "execute_result"
    }
   ],
   "source": [
    "# Apprentissage sur un grand train set 80 % des données initiales\n",
    "fnl_model.fit(trainX, trainy)\n",
    "trainX_scaled = scaler.fit_transform(trainX)\n",
    "logreg_model.fit(trainX_scaled, trainy)\n",
    "xgboost_model.fit(trainX, trainy)\n",
    "origin_lgbm_model.fit(trainX, trainy)"
   ]
  },
  {
   "cell_type": "code",
   "execution_count": 144,
   "id": "a84f15a0",
   "metadata": {},
   "outputs": [],
   "source": [
    "# création de nouveau dictionnaire\n",
    "\n",
    "new_dict = { \"origin_lgbm_model\": origin_lgbm_model,\n",
    "             \"fnl_model\": fnl_model,\n",
    "             \"xgboost_model\": xgboost_model,\n",
    "             \"logreg_model\": logreg_model  \n",
    "            }"
   ]
  },
  {
   "cell_type": "code",
   "execution_count": 33,
   "id": "9803598b",
   "metadata": {},
   "outputs": [],
   "source": [
    "testX_scaled = scaler.fit_transform(testX)"
   ]
  },
  {
   "cell_type": "code",
   "execution_count": 154,
   "id": "d73cfc93",
   "metadata": {
    "scrolled": false
   },
   "outputs": [
    {
     "name": "stdout",
     "output_type": "stream",
     "text": [
      "-----Evaluation du modèle origin_lgbm_model----- \n",
      "               precision    recall  f1-score   support\n",
      "\n",
      "     class 0       0.96      0.71      0.82     56537\n",
      "     class 1       0.18      0.70      0.28      4965\n",
      "\n",
      "    accuracy                           0.71     61502\n",
      "   macro avg       0.57      0.71      0.55     61502\n",
      "weighted avg       0.90      0.71      0.77     61502\n",
      "\n",
      "-----Evaluation du modèle fnl_model----- \n",
      "               precision    recall  f1-score   support\n",
      "\n",
      "     class 0       0.96      0.70      0.81     56537\n",
      "     class 1       0.17      0.70      0.28      4965\n",
      "\n",
      "    accuracy                           0.70     61502\n",
      "   macro avg       0.57      0.70      0.54     61502\n",
      "weighted avg       0.90      0.70      0.77     61502\n",
      "\n",
      "-----Evaluation du modèle xgboost_model----- \n",
      "               precision    recall  f1-score   support\n",
      "\n",
      "     class 0       0.97      0.62      0.75     56537\n",
      "     class 1       0.15      0.75      0.25      4965\n",
      "\n",
      "    accuracy                           0.63     61502\n",
      "   macro avg       0.56      0.69      0.50     61502\n",
      "weighted avg       0.90      0.63      0.71     61502\n",
      "\n",
      "-----Evaluation du modèle logreg_model----- \n",
      "               precision    recall  f1-score   support\n",
      "\n",
      "     class 0       0.96      0.71      0.82     56537\n",
      "     class 1       0.17      0.70      0.28      4965\n",
      "\n",
      "    accuracy                           0.71     61502\n",
      "   macro avg       0.57      0.70      0.55     61502\n",
      "weighted avg       0.90      0.71      0.77     61502\n",
      "\n"
     ]
    },
    {
     "data": {
      "image/png": "[encoded data removed]",
      "text/plain": [
       "<Figure size 432x288 with 2 Axes>"
      ]
     },
     "metadata": {
      "needs_background": "light"
     },
     "output_type": "display_data"
    },
    {
     "data": {
      "image/png": "[encoded data removed]",
      "text/plain": [
       "<Figure size 432x288 with 2 Axes>"
      ]
     },
     "metadata": {
      "needs_background": "light"
     },
     "output_type": "display_data"
    },
    {
     "data": {
      "image/png": "[encoded data removed]",
      "text/plain": [
       "<Figure size 432x288 with 2 Axes>"
      ]
     },
     "metadata": {
      "needs_background": "light"
     },
     "output_type": "display_data"
    },
    {
     "data": {
      "image/png": "[encoded data removed]",
      "text/plain": [
       "<Figure size 432x288 with 2 Axes>"
      ]
     },
     "metadata": {
      "needs_background": "light"
     },
     "output_type": "display_data"
    }
   ],
   "source": [
    "for i, j in new_dict.items():\n",
    "    if i == \"logreg_model\":\n",
    "        Confusion_Mat(testX_scaled, testy, j, i)\n",
    "    else:\n",
    "        Confusion_Mat(testX, testy, j, i)\n",
    "    "
   ]
  },
  {
   "cell_type": "code",
   "execution_count": null,
   "id": "db770c5c",
   "metadata": {
    "id": "db770c5c",
    "outputId": "9f445086-6e52-46b1-a908-ec27b4c2a4ac"
   },
   "outputs": [
    {
     "name": "stdout",
     "output_type": "stream",
     "text": [
      "-----Evaluation du modèle new_model----- \n",
      "               precision    recall  f1-score   support\n",
      "\n",
      "     class 0       0.96      0.70      0.81     56537\n",
      "     class 1       0.17      0.70      0.28      4965\n",
      "\n",
      "    accuracy                           0.70     61502\n",
      "   macro avg       0.57      0.70      0.54     61502\n",
      "weighted avg       0.90      0.70      0.77     61502\n",
      "\n"
     ]
    },
    {
     "data": {
      "image/png": "[encoded data removed]",
      "text/plain": [
       "<Figure size 432x288 with 2 Axes>"
      ]
     },
     "metadata": {
      "needs_background": "light"
     },
     "output_type": "display_data"
    }
   ],
   "source": [
    "y_pred = fnl_model.predict(testX)\n",
    "cm_ = confusion_matrix(testy, y_pred)\n",
    "cm_display_ = ConfusionMatrixDisplay(cm_).plot()\n",
    "cm_display_\n",
    "\n",
    "target_names = ['class 0', 'class 1']\n",
    "print(\"-----Evaluation du modèle {}-----\".format(\"new_model\"), \"\\n\", classification_report(testy, y_pred, target_names=target_names))"
   ]
  },
  {
   "cell_type": "code",
   "execution_count": null,
   "id": "b08c1485",
   "metadata": {
    "id": "b08c1485",
    "outputId": "c9c9bbc0-d9bc-4905-f97e-6eba955ade67"
   },
   "outputs": [
    {
     "name": "stdout",
     "output_type": "stream",
     "text": [
      "-----Evaluation du modèle new_model----- \n",
      "               precision    recall  f1-score   support\n",
      "\n",
      "     class 0       0.92      0.93      0.93     56537\n",
      "     class 1       0.14      0.14      0.14      4965\n",
      "\n",
      "    accuracy                           0.86     61502\n",
      "   macro avg       0.53      0.53      0.53     61502\n",
      "weighted avg       0.86      0.86      0.86     61502\n",
      "\n"
     ]
    },
    {
     "data": {
      "image/png": "[encoded data removed]",
      "text/plain": [
       "<Figure size 432x288 with 2 Axes>"
      ]
     },
     "metadata": {
      "needs_background": "light"
     },
     "output_type": "display_data"
    }
   ],
   "source": [
    "y_pred = logreg_model.predict(testX)\n",
    "cm_ = confusion_matrix(testy, y_pred)\n",
    "cm_display_ = ConfusionMatrixDisplay(cm_).plot()\n",
    "cm_display_\n",
    "\n",
    "target_names = ['class 0', 'class 1']\n",
    "print(\"-----Evaluation du modèle {}-----\".format(\"new_model\"), \"\\n\", classification_report(testy, y_pred, target_names=target_names))"
   ]
  },
  {
   "cell_type": "code",
   "execution_count": null,
   "id": "0bbd873a",
   "metadata": {
    "id": "0bbd873a"
   },
   "outputs": [],
   "source": [
    "Xgb_model = XGBClassifier(scale_pos_weight=14, max_depth=6, gamma=0.5, eta=0.01) "
   ]
  },
  {
   "cell_type": "code",
   "execution_count": null,
   "id": "14ac87d3",
   "metadata": {
    "id": "14ac87d3",
    "outputId": "0822ad6d-d941-4090-8557-f84863933638",
    "scrolled": true
   },
   "outputs": [
    {
     "data": {
      "text/html": [
       "<style>#sk-container-id-4 {color: black;background-color: white;}#sk-container-id-4 pre{padding: 0;}#sk-container-id-4 div.sk-toggleable {background-color: white;}#sk-container-id-4 label.sk-toggleable__label {cursor: pointer;display: block;width: 100%;margin-bottom: 0;padding: 0.3em;box-sizing: border-box;text-align: center;}#sk-container-id-4 label.sk-toggleable__label-arrow:before {content: \"▸\";float: left;margin-right: 0.25em;color: #696969;}#sk-container-id-4 label.sk-toggleable__label-arrow:hover:before {color: black;}#sk-container-id-4 div.sk-estimator:hover label.sk-toggleable__label-arrow:before {color: black;}#sk-container-id-4 div.sk-toggleable__content {max-height: 0;max-width: 0;overflow: hidden;text-align: left;background-color: #f0f8ff;}#sk-container-id-4 div.sk-toggleable__content pre {margin: 0.2em;color: black;border-radius: 0.25em;background-color: #f0f8ff;}#sk-container-id-4 input.sk-toggleable__control:checked~div.sk-toggleable__content {max-height: 200px;max-width: 100%;overflow: auto;}#sk-container-id-4 input.sk-toggleable__control:checked~label.sk-toggleable__label-arrow:before {content: \"▾\";}#sk-container-id-4 div.sk-estimator input.sk-toggleable__control:checked~label.sk-toggleable__label {background-color: #d4ebff;}#sk-container-id-4 div.sk-label input.sk-toggleable__control:checked~label.sk-toggleable__label {background-color: #d4ebff;}#sk-container-id-4 input.sk-hidden--visually {border: 0;clip: rect(1px 1px 1px 1px);clip: rect(1px, 1px, 1px, 1px);height: 1px;margin: -1px;overflow: hidden;padding: 0;position: absolute;width: 1px;}#sk-container-id-4 div.sk-estimator {font-family: monospace;background-color: #f0f8ff;border: 1px dotted black;border-radius: 0.25em;box-sizing: border-box;margin-bottom: 0.5em;}#sk-container-id-4 div.sk-estimator:hover {background-color: #d4ebff;}#sk-container-id-4 div.sk-parallel-item::after {content: \"\";width: 100%;border-bottom: 1px solid gray;flex-grow: 1;}#sk-container-id-4 div.sk-label:hover label.sk-toggleable__label {background-color: #d4ebff;}#sk-container-id-4 div.sk-serial::before {content: \"\";position: absolute;border-left: 1px solid gray;box-sizing: border-box;top: 0;bottom: 0;left: 50%;z-index: 0;}#sk-container-id-4 div.sk-serial {display: flex;flex-direction: column;align-items: center;background-color: white;padding-right: 0.2em;padding-left: 0.2em;position: relative;}#sk-container-id-4 div.sk-item {position: relative;z-index: 1;}#sk-container-id-4 div.sk-parallel {display: flex;align-items: stretch;justify-content: center;background-color: white;position: relative;}#sk-container-id-4 div.sk-item::before, #sk-container-id-4 div.sk-parallel-item::before {content: \"\";position: absolute;border-left: 1px solid gray;box-sizing: border-box;top: 0;bottom: 0;left: 50%;z-index: -1;}#sk-container-id-4 div.sk-parallel-item {display: flex;flex-direction: column;z-index: 1;position: relative;background-color: white;}#sk-container-id-4 div.sk-parallel-item:first-child::after {align-self: flex-end;width: 50%;}#sk-container-id-4 div.sk-parallel-item:last-child::after {align-self: flex-start;width: 50%;}#sk-container-id-4 div.sk-parallel-item:only-child::after {width: 0;}#sk-container-id-4 div.sk-dashed-wrapped {border: 1px dashed gray;margin: 0 0.4em 0.5em 0.4em;box-sizing: border-box;padding-bottom: 0.4em;background-color: white;}#sk-container-id-4 div.sk-label label {font-family: monospace;font-weight: bold;display: inline-block;line-height: 1.2em;}#sk-container-id-4 div.sk-label-container {text-align: center;}#sk-container-id-4 div.sk-container {/* jupyter's `normalize.less` sets `[hidden] { display: none; }` but bootstrap.min.css set `[hidden] { display: none !important; }` so we also need the `!important` here to be able to override the default hidden behavior on the sphinx rendered scikit-learn.org. See: https://github.com/scikit-learn/scikit-learn/issues/21755 */display: inline-block !important;position: relative;}#sk-container-id-4 div.sk-text-repr-fallback {display: none;}</style><div id=\"sk-container-id-4\" class=\"sk-top-container\"><div class=\"sk-text-repr-fallback\"><pre>XGBClassifier(base_score=0.5, booster=&#x27;gbtree&#x27;, callbacks=None,\n",
       "              colsample_bylevel=1, colsample_bynode=1, colsample_bytree=1,\n",
       "              early_stopping_rounds=None, enable_categorical=False, eta=0.01,\n",
       "              eval_metric=None, gamma=0.5, gpu_id=-1, grow_policy=&#x27;depthwise&#x27;,\n",
       "              importance_type=None, interaction_constraints=&#x27;&#x27;,\n",
       "              learning_rate=0.00999999978, max_bin=256, max_cat_to_onehot=4,\n",
       "              max_delta_step=0, max_depth=6, max_leaves=0, min_child_weight=1,\n",
       "              missing=nan, monotone_constraints=&#x27;()&#x27;, n_estimators=100,\n",
       "              n_jobs=0, num_parallel_tree=1, predictor=&#x27;auto&#x27;, random_state=0,\n",
       "              reg_alpha=0, ...)</pre><b>In a Jupyter environment, please rerun this cell to show the HTML representation or trust the notebook. <br />On GitHub, the HTML representation is unable to render, please try loading this page with nbviewer.org.</b></div><div class=\"sk-container\" hidden><div class=\"sk-item\"><div class=\"sk-estimator sk-toggleable\"><input class=\"sk-toggleable__control sk-hidden--visually\" id=\"sk-estimator-id-4\" type=\"checkbox\" checked><label for=\"sk-estimator-id-4\" class=\"sk-toggleable__label sk-toggleable__label-arrow\">XGBClassifier</label><div class=\"sk-toggleable__content\"><pre>XGBClassifier(base_score=0.5, booster=&#x27;gbtree&#x27;, callbacks=None,\n",
       "              colsample_bylevel=1, colsample_bynode=1, colsample_bytree=1,\n",
       "              early_stopping_rounds=None, enable_categorical=False, eta=0.01,\n",
       "              eval_metric=None, gamma=0.5, gpu_id=-1, grow_policy=&#x27;depthwise&#x27;,\n",
       "              importance_type=None, interaction_constraints=&#x27;&#x27;,\n",
       "              learning_rate=0.00999999978, max_bin=256, max_cat_to_onehot=4,\n",
       "              max_delta_step=0, max_depth=6, max_leaves=0, min_child_weight=1,\n",
       "              missing=nan, monotone_constraints=&#x27;()&#x27;, n_estimators=100,\n",
       "              n_jobs=0, num_parallel_tree=1, predictor=&#x27;auto&#x27;, random_state=0,\n",
       "              reg_alpha=0, ...)</pre></div></div></div></div></div>"
      ],
      "text/plain": [
       "XGBClassifier(base_score=0.5, booster='gbtree', callbacks=None,\n",
       "              colsample_bylevel=1, colsample_bynode=1, colsample_bytree=1,\n",
       "              early_stopping_rounds=None, enable_categorical=False, eta=0.01,\n",
       "              eval_metric=None, gamma=0.5, gpu_id=-1, grow_policy='depthwise',\n",
       "              importance_type=None, interaction_constraints='',\n",
       "              learning_rate=0.00999999978, max_bin=256, max_cat_to_onehot=4,\n",
       "              max_delta_step=0, max_depth=6, max_leaves=0, min_child_weight=1,\n",
       "              missing=nan, monotone_constraints='()', n_estimators=100,\n",
       "              n_jobs=0, num_parallel_tree=1, predictor='auto', random_state=0,\n",
       "              reg_alpha=0, ...)"
      ]
     },
     "execution_count": 40,
     "metadata": {},
     "output_type": "execute_result"
    }
   ],
   "source": [
    "Xgb_model.fit(trainX, trainy)"
   ]
  },
  {
   "cell_type": "code",
   "execution_count": null,
   "id": "01515232",
   "metadata": {
    "id": "01515232",
    "outputId": "ed1080b3-595a-44aa-a74c-2a213c66f91a"
   },
   "outputs": [
    {
     "name": "stdout",
     "output_type": "stream",
     "text": [
      "xgb_model 0.684\n"
     ]
    }
   ],
   "source": [
    "print(\"xgb_model {:.3f}\".format(roc_auc_score(testy, xgb_model.predict_proba(testX)[:,1])))"
   ]
  },
  {
   "cell_type": "code",
   "execution_count": null,
   "id": "68e92a20",
   "metadata": {
    "id": "68e92a20",
    "outputId": "2422db5f-1a3b-4b0f-fbfa-95238311ef89"
   },
   "outputs": [
    {
     "name": "stdout",
     "output_type": "stream",
     "text": [
      "-----Evaluation du modèle Xgb_model----- \n",
      "               precision    recall  f1-score   support\n",
      "\n",
      "     class 0       0.96      0.62      0.75     56537\n",
      "     class 1       0.13      0.67      0.22      4965\n",
      "\n",
      "    accuracy                           0.62     61502\n",
      "   macro avg       0.54      0.64      0.49     61502\n",
      "weighted avg       0.89      0.62      0.71     61502\n",
      "\n"
     ]
    },
    {
     "data": {
      "image/png": "[encoded data removed]",
      "text/plain": [
       "<Figure size 432x288 with 2 Axes>"
      ]
     },
     "metadata": {
      "needs_background": "light"
     },
     "output_type": "display_data"
    }
   ],
   "source": [
    "y_pred = xgb_model.predict(testX)\n",
    "cm_ = confusion_matrix(testy, y_pred)\n",
    "cm_display_ = ConfusionMatrixDisplay(cm_).plot()\n",
    "cm_display_\n",
    "\n",
    "target_names = ['class 0', 'class 1']\n",
    "print(\"-----Evaluation du modèle {}-----\".format(\"Xgb_model\"), \"\\n\", classification_report(testy, y_pred, target_names=target_names))"
   ]
  },
  {
   "cell_type": "markdown",
   "id": "a1fbd7b1",
   "metadata": {
    "id": "a1fbd7b1"
   },
   "source": [
    "Il faudra entrainer le premier modèle sur (trainX, trainy) et comparer avec le nouveau modèle"
   ]
  },
  {
   "cell_type": "code",
   "execution_count": null,
   "id": "76c0f14c",
   "metadata": {},
   "outputs": [],
   "source": [
    "# entrainement des modèle avec comme métrique d'évaluation fbeta, avec beta =3\n",
    "param_grid = {\n",
    "              \"n_estimator\" : np.arange(200, 1000, 100),\n",
    "              'learning_rate': [0.001, 0.01, 0.1],\n",
    "              'max_depth': [2, 3, 4, 5, 6, 7, 8, 9],\n",
    "              'num_leaves': [31, 127],\n",
    "              'reg_alpha': [0.1, 0.5]\n",
    "              }\n",
    "cv = StratifiedKFold(5, shuffle=True, random_state=0)\n",
    "model_lgbm = LGBMClassifier(class_weight='balanced')\n",
    "\n",
    "# Construction de la métrique d'évaluation\n",
    "ftwo_scorer_ = make_scorer(fbeta_score, beta=3)"
   ]
  },
  {
   "cell_type": "code",
   "execution_count": 157,
   "id": "b1f3a918",
   "metadata": {
    "id": "b1f3a918"
   },
   "outputs": [],
   "source": [
    "# test de modèles pour beta=3\n",
    "rs_lgbm_w_ = RandomizedSearchCV(model_lgbm, param_grid, cv=cv, scoring=ftwo_scorer_, n_jobs=-1)\n",
    "rs_xgb_w_ = RandomizedSearchCV(model_xgb, param_xgb, cv=cv, scoring=ftwo_scorer_, n_jobs=-1)\n",
    "rs_lgr_w_ = RandomizedSearchCV(model_lgr, param_lgr, cv=cv, scoring=ftwo_scorer_, n_jobs=-1)"
   ]
  },
  {
   "cell_type": "code",
   "execution_count": 158,
   "id": "fb6c56b7",
   "metadata": {
    "id": "fb6c56b7",
    "outputId": "4362dbde-be14-4572-a74f-1854eb108024"
   },
   "outputs": [
    {
     "name": "stdout",
     "output_type": "stream",
     "text": [
      "[LightGBM] [Warning] Unknown parameter: n_estimator\n"
     ]
    },
    {
     "data": {
      "text/plain": [
       "RandomizedSearchCV(cv=StratifiedKFold(n_splits=5, random_state=0, shuffle=True),\n",
       "                   estimator=LogisticRegression(class_weight='balanced',\n",
       "                                                max_iter=300, random_state=0,\n",
       "                                                solver='saga'),\n",
       "                   n_jobs=-1,\n",
       "                   param_distributions={'C': [0.001, 0.01, 0.1, 1.0, 10],\n",
       "                                        'max_iter': [100, 200, 300, 400],\n",
       "                                        'solver': ['lbfgs', 'sag', 'saga',\n",
       "                                                   'newton-cg']},\n",
       "                   scoring=make_scorer(fbeta_score, beta=3))"
      ]
     },
     "execution_count": 158,
     "metadata": {},
     "output_type": "execute_result"
    }
   ],
   "source": [
    "# cross validation\n",
    "rs_lgbm_w_.fit(X_train, y_train)\n",
    "rs_xgb_w_.fit(X_train, y_train)\n",
    "X_train_scaled = scaler.fit_transform(X_train)\n",
    "rs_lgr_w_.fit(X_train_scaled, y_train)"
   ]
  },
  {
   "cell_type": "code",
   "execution_count": 166,
   "id": "f95b5aaa",
   "metadata": {},
   "outputs": [
    {
     "data": {
      "text/plain": [
       "XGBClassifier(base_score=0.5, booster='gbtree', callbacks=None,\n",
       "              colsample_bylevel=1, colsample_bynode=1, colsample_bytree=1,\n",
       "              early_stopping_rounds=None, enable_categorical=False, eta=0.01,\n",
       "              eval_metric=None, gamma=1, gpu_id=-1, grow_policy='depthwise',\n",
       "              importance_type=None, interaction_constraints='',\n",
       "              learning_rate=0.00999999978, max_bin=256, max_cat_to_onehot=4,\n",
       "              max_delta_step=0, max_depth=6, max_leaves=0, min_child_weight=1,\n",
       "              missing=nan, monotone_constraints='()', n_estimators=100,\n",
       "              n_jobs=0, num_parallel_tree=1, predictor='auto', random_state=0,\n",
       "              reg_alpha=0, ...)"
      ]
     },
     "execution_count": 166,
     "metadata": {},
     "output_type": "execute_result"
    }
   ],
   "source": [
    "xgb_beta3"
   ]
  },
  {
   "cell_type": "code",
   "execution_count": 23,
   "id": "370f4f4c",
   "metadata": {},
   "outputs": [],
   "source": [
    "# définition des modèles avec beta=3\n",
    "lgbm_beta3 = LGBMClassifier(class_weight='balanced', max_depth=3, n_estimator=400,\n",
    "                            num_leaves=127, reg_alpha=0.5)\n",
    "lgr_beta3 = LogisticRegression(C=0.001, class_weight='balanced', max_iter=200,\n",
    "                               random_state=0, solver='newton-cg')\n",
    "xgb_beta3 = XGBClassifier(scale_pos_weight=12, max_depth=6, gamma=1, eta=0.01)"
   ]
  },
  {
   "cell_type": "code",
   "execution_count": null,
   "id": "93ccf4f3",
   "metadata": {},
   "outputs": [],
   "source": [
    "# entrainement des modèles pour beta=3\n",
    "lgbm_beta3.fit(trainX, trainy)\n",
    "xgb_beta3.fit(trainX, trainy)"
   ]
  },
  {
   "cell_type": "code",
   "execution_count": 26,
   "id": "8423ee46",
   "metadata": {},
   "outputs": [
    {
     "data": {
      "text/plain": [
       "LGBMClassifier(class_weight='balanced', max_depth=3, n_estimator=400,\n",
       "               num_leaves=127, reg_alpha=0.5)"
      ]
     },
     "execution_count": 26,
     "metadata": {},
     "output_type": "execute_result"
    }
   ],
   "source": [
    "lgbm_beta3"
   ]
  },
  {
   "cell_type": "code",
   "execution_count": 29,
   "id": "5675fd9a",
   "metadata": {},
   "outputs": [],
   "source": [
    "trainX_scaled = scaler.fit_transform(trainX)"
   ]
  },
  {
   "cell_type": "code",
   "execution_count": 30,
   "id": "42a9de0e",
   "metadata": {},
   "outputs": [
    {
     "data": {
      "text/plain": [
       "LogisticRegression(C=0.001, class_weight='balanced', max_iter=200,\n",
       "                   random_state=0, solver='newton-cg')"
      ]
     },
     "execution_count": 30,
     "metadata": {},
     "output_type": "execute_result"
    }
   ],
   "source": [
    "lgr_beta3.fit(trainX_scaled, trainy)"
   ]
  },
  {
   "cell_type": "code",
   "execution_count": 31,
   "id": "f6eb5067",
   "metadata": {},
   "outputs": [],
   "source": [
    "# création de nouveau dictionnaire\n",
    "\n",
    "new_dict_ = {\n",
    "             \"lgbm_beta3\": lgbm_beta3,\n",
    "             \"xgb_beta3\": xgb_beta3,\n",
    "             \"lgr_beta3\": lgr_beta3  \n",
    "            }"
   ]
  },
  {
   "cell_type": "code",
   "execution_count": 34,
   "id": "26d111a4",
   "metadata": {},
   "outputs": [
    {
     "name": "stdout",
     "output_type": "stream",
     "text": [
      "-----Evaluation du modèle lgbm_beta3----- \n",
      "               precision    recall  f1-score   support\n",
      "\n",
      "     class 0       0.96      0.71      0.82     56537\n",
      "     class 1       0.18      0.70      0.28      4965\n",
      "\n",
      "    accuracy                           0.71     61502\n",
      "   macro avg       0.57      0.71      0.55     61502\n",
      "weighted avg       0.90      0.71      0.77     61502\n",
      "\n",
      "-----Evaluation du modèle xgb_beta3----- \n",
      "               precision    recall  f1-score   support\n",
      "\n",
      "     class 0       0.96      0.67      0.79     56537\n",
      "     class 1       0.16      0.70      0.25      4965\n",
      "\n",
      "    accuracy                           0.67     61502\n",
      "   macro avg       0.56      0.68      0.52     61502\n",
      "weighted avg       0.90      0.67      0.74     61502\n",
      "\n",
      "-----Evaluation du modèle lgr_beta3----- \n",
      "               precision    recall  f1-score   support\n",
      "\n",
      "     class 0       0.96      0.71      0.82     56537\n",
      "     class 1       0.17      0.70      0.28      4965\n",
      "\n",
      "    accuracy                           0.71     61502\n",
      "   macro avg       0.57      0.70      0.55     61502\n",
      "weighted avg       0.90      0.71      0.77     61502\n",
      "\n"
     ]
    },
    {
     "data": {
      "image/png": "[encoded data removed]",
      "text/plain": [
       "<Figure size 432x288 with 2 Axes>"
      ]
     },
     "metadata": {
      "needs_background": "light"
     },
     "output_type": "display_data"
    },
    {
     "data": {
      "image/png": "[encoded data removed]",
      "text/plain": [
       "<Figure size 432x288 with 2 Axes>"
      ]
     },
     "metadata": {
      "needs_background": "light"
     },
     "output_type": "display_data"
    },
    {
     "data": {
      "image/png": "[encoded data removed]",
      "text/plain": [
       "<Figure size 432x288 with 2 Axes>"
      ]
     },
     "metadata": {
      "needs_background": "light"
     },
     "output_type": "display_data"
    }
   ],
   "source": [
    "for i, j in new_dict_.items():\n",
    "    if i == \"lgr_beta3\":\n",
    "        Confusion_Mat(testX_scaled, testy, j, i)\n",
    "    else:\n",
    "        Confusion_Mat(testX, testy, j, i)"
   ]
  },
  {
   "cell_type": "markdown",
   "id": "5f9edeb2",
   "metadata": {
    "id": "5f9edeb2"
   },
   "source": [
    "Les résultats avec beta=3 sont, en général, meilleurs qu'avec beta=2, on utilisera comme fonction coût métier F3-score.\n",
    "On constate que lgbmClassifer donne les meilleurs résultats. On pourrait continuer à entrainer ce dernier en faisant varier beta.\n",
    "Rappelons que les faux négatifs coûte environ 10 fois plus cher que les faux positifs."
   ]
  },
  {
   "cell_type": "code",
   "execution_count": null,
   "id": "b2e1ee63",
   "metadata": {},
   "outputs": [],
   "source": [
    "# voyons pour une dernière fois pour beta = np.sqrt(10)"
   ]
  },
  {
   "cell_type": "code",
   "execution_count": 70,
   "id": "f124e877",
   "metadata": {},
   "outputs": [],
   "source": [
    "ftwo_scorer_sqrt = make_scorer(fbeta_score, beta=np.sqrt(10))"
   ]
  },
  {
   "cell_type": "code",
   "execution_count": 69,
   "id": "47461bb4",
   "metadata": {},
   "outputs": [
    {
     "data": {
      "text/plain": [
       "3.1622776601683795"
      ]
     },
     "execution_count": 69,
     "metadata": {},
     "output_type": "execute_result"
    }
   ],
   "source": [
    "np.sqrt(10)"
   ]
  },
  {
   "cell_type": "code",
   "execution_count": null,
   "id": "e72e9532",
   "metadata": {},
   "outputs": [],
   "source": [
    "model_lgbm = LGBMClassifier(class_weight='balanced')"
   ]
  },
  {
   "cell_type": "code",
   "execution_count": 85,
   "id": "2e61e38e",
   "metadata": {
    "id": "ac908b46"
   },
   "outputs": [],
   "source": [
    "# entrainement des modèle avec comme métrique d'évaluation fbeta\n",
    "\n",
    "def best_params_search(X_train, y_train, beta, param_grid, param_xgb, param_lgr):\n",
    "\n",
    "    cv = StratifiedKFold(5, shuffle=True, random_state=0)\n",
    "\n",
    "    # Construction de la métrique d'évaluation\n",
    "    ftwo_scorer_ = make_scorer(fbeta_score, beta=beta)\n",
    "\n",
    "    # test de modèles pour beta=3\n",
    "    rs_lgbm_w_ = RandomizedSearchCV(model_lgbm, param_grid, cv=cv, scoring=ftwo_scorer_, n_jobs=-1, random_state=0)\n",
    "    rs_xgb_w_ = RandomizedSearchCV(model_xgb, param_xgb, cv=cv, scoring=ftwo_scorer_, n_jobs=-1, random_state=0)\n",
    "    rs_lgr_w_ = RandomizedSearchCV(model_lgr, param_lgr, cv=cv, scoring=ftwo_scorer_, n_jobs=-1, random_state=0)\n",
    "\n",
    "    # cross validation\n",
    "    rs_lgbm_w_.fit(X_train, y_train)\n",
    "    rs_xgb_w_.fit(X_train, y_train)\n",
    "    X_train_scaled = scaler.fit_transform(X_train)\n",
    "    rs_lgr_w_.fit(X_train_scaled, y_train)\n",
    "\n",
    "    return rs_lgbm_w_, rs_xgb_w_, rs_lgr_w_"
   ]
  },
  {
   "cell_type": "code",
   "execution_count": null,
   "id": "de05f109",
   "metadata": {},
   "outputs": [],
   "source": [
    "wneg = np.bincount(y_train)[0]\n",
    "wpos = np.bincount(y_train)[1]\n",
    "(wneg / wpos)"
   ]
  },
  {
   "cell_type": "code",
   "execution_count": 80,
   "id": "6bcc59c6",
   "metadata": {},
   "outputs": [],
   "source": [
    "param_grid = {\"n_estimator\" : np.arange(200, 1000, 100),\n",
    "              'learning_rate': [0.001, 0.01, 0.1],\n",
    "              'max_depth': [2, 3, 4, 5, 6, 7, 8, 9],\n",
    "              'num_leaves': [31, 127],\n",
    "              'reg_alpha': [0.1, 0.5]\n",
    "              }\n",
    "\n",
    "param_xgb = {\"eta\":[0.001, 0.01, 0.1, 1],\n",
    "             'gamma': [0, 0.3, 0.5, 1, 1.5, 2, 5],\n",
    "             'max_depth': [6, 7, 9, 10],\n",
    "             \"scale_pos_weight\":[10, 11, (wneg / wpos),12, 14]\n",
    "             }\n",
    "\n",
    "param_lgr = {'C': [0.001, 0.01, 0.1, 1.0, 10],\n",
    "            'solver': ['lbfgs', 'sag', 'saga', 'newton-cg'],\n",
    "            'max_iter': [100, 200, 300, 400]\n",
    "             }"
   ]
  },
  {
   "cell_type": "code",
   "execution_count": 86,
   "id": "a7f09ae0",
   "metadata": {},
   "outputs": [],
   "source": [
    "# les modèle à optimiser\n",
    "model_xgb = XGBClassifier(use_rmm=True, booster=\"gbtree\", random_state=0)\n",
    "model_lgr = LogisticRegression(random_state=0)\n",
    "model_lgbm = LGBMClassifier(class_weight='balanced', random_state=0)"
   ]
  },
  {
   "cell_type": "code",
   "execution_count": 89,
   "id": "09fae50d",
   "metadata": {},
   "outputs": [
    {
     "name": "stdout",
     "output_type": "stream",
     "text": [
      "[LightGBM] [Warning] Unknown parameter: n_estimator\n"
     ]
    },
    {
     "name": "stderr",
     "output_type": "stream",
     "text": [
      "C:\\Users\\nokan\\anaconda3\\lib\\site-packages\\sklearn\\linear_model\\_logistic.py:814: ConvergenceWarning: lbfgs failed to converge (status=1):\n",
      "STOP: TOTAL NO. of ITERATIONS REACHED LIMIT.\n",
      "\n",
      "Increase the number of iterations (max_iter) or scale the data as shown in:\n",
      "    https://scikit-learn.org/stable/modules/preprocessing.html\n",
      "Please also refer to the documentation for alternative solver options:\n",
      "    https://scikit-learn.org/stable/modules/linear_model.html#logistic-regression\n",
      "  n_iter_i = _check_optimize_result(\n"
     ]
    }
   ],
   "source": [
    "rs_lgbm_w_sqrt10, rs_xgb_w_sqrt10, rs_lgr_w_sqrt10 = best_params_search(X_train, y_train, np.sqrt(10), param_grid, param_xgb, param_lgr)"
   ]
  },
  {
   "cell_type": "code",
   "execution_count": 90,
   "id": "83f826fb",
   "metadata": {},
   "outputs": [
    {
     "data": {
      "text/plain": [
       "{'reg_alpha': 0.5,\n",
       " 'num_leaves': 31,\n",
       " 'n_estimator': 600,\n",
       " 'max_depth': 2,\n",
       " 'learning_rate': 0.1}"
      ]
     },
     "execution_count": 90,
     "metadata": {},
     "output_type": "execute_result"
    }
   ],
   "source": [
    "rs_lgbm_w_sqrt10.best_params_"
   ]
  },
  {
   "cell_type": "code",
   "execution_count": 91,
   "id": "ce93d3c2",
   "metadata": {},
   "outputs": [
    {
     "data": {
      "text/plain": [
       "{'scale_pos_weight': 11, 'max_depth': 7, 'gamma': 1, 'eta': 0.001}"
      ]
     },
     "execution_count": 91,
     "metadata": {},
     "output_type": "execute_result"
    }
   ],
   "source": [
    "rs_xgb_w_sqrt10.best_params_"
   ]
  },
  {
   "cell_type": "code",
   "execution_count": 92,
   "id": "270fb6f0",
   "metadata": {},
   "outputs": [
    {
     "data": {
      "text/plain": [
       "{'solver': 'lbfgs', 'max_iter': 200, 'C': 10}"
      ]
     },
     "execution_count": 92,
     "metadata": {},
     "output_type": "execute_result"
    }
   ],
   "source": [
    "rs_lgr_w_sqrt10.best_params_"
   ]
  },
  {
   "cell_type": "code",
   "execution_count": 93,
   "id": "b49dbf78",
   "metadata": {},
   "outputs": [],
   "source": [
    "# définition des modèles avec beta=3\n",
    "lgbm_beta_sqrt10 = LGBMClassifier(class_weight='balanced', reg_alpha=0.5,\n",
    "                                     num_leaves=31,\n",
    "                                     n_estimator=600,\n",
    "                                     max_depth=2,\n",
    "                                     learning_rate=0.1)\n",
    "lgr_beta_sqrt10 = LogisticRegression(class_weight=\"balanced\", solver='lbfgs', max_iter=200, C=10)\n",
    "xgb_beta_sqrt10 = XGBClassifier(scale_pos_weight=11, max_depth=7, gamma=1, eta=0.001)"
   ]
  },
  {
   "cell_type": "code",
   "execution_count": 94,
   "id": "9bcc4f0d",
   "metadata": {
    "scrolled": true
   },
   "outputs": [
    {
     "name": "stderr",
     "output_type": "stream",
     "text": [
      "C:\\Users\\nokan\\anaconda3\\lib\\site-packages\\sklearn\\linear_model\\_logistic.py:814: ConvergenceWarning: lbfgs failed to converge (status=1):\n",
      "STOP: TOTAL NO. of ITERATIONS REACHED LIMIT.\n",
      "\n",
      "Increase the number of iterations (max_iter) or scale the data as shown in:\n",
      "    https://scikit-learn.org/stable/modules/preprocessing.html\n",
      "Please also refer to the documentation for alternative solver options:\n",
      "    https://scikit-learn.org/stable/modules/linear_model.html#logistic-regression\n",
      "  n_iter_i = _check_optimize_result(\n"
     ]
    },
    {
     "data": {
      "text/plain": [
       "LogisticRegression(C=10, class_weight='balanced', max_iter=200)"
      ]
     },
     "execution_count": 94,
     "metadata": {},
     "output_type": "execute_result"
    }
   ],
   "source": [
    "# entrainement des modèles pour beta=3\n",
    "lgbm_beta_sqrt10.fit(trainX, trainy)\n",
    "xgb_beta_sqrt10.fit(trainX, trainy)\n",
    "lgr_beta_sqrt10.fit(trainX_scaled, trainy)"
   ]
  },
  {
   "cell_type": "code",
   "execution_count": null,
   "id": "48b57ca8",
   "metadata": {},
   "outputs": [],
   "source": [
    "model_lgr = LogisticRegression(random_state=0)\n",
    "lgr_beta_sqrt10.fit(trainX_scaled, trainy)"
   ]
  },
  {
   "cell_type": "code",
   "execution_count": 95,
   "id": "6a052a30",
   "metadata": {},
   "outputs": [
    {
     "name": "stdout",
     "output_type": "stream",
     "text": [
      "-----Evaluation du modèle lgbm_beta_sqrt10----- \n",
      "               precision    recall  f1-score   support\n",
      "\n",
      "     class 0       0.96      0.70      0.81     56537\n",
      "     class 1       0.17      0.70      0.28      4965\n",
      "\n",
      "    accuracy                           0.70     61502\n",
      "   macro avg       0.57      0.70      0.54     61502\n",
      "weighted avg       0.90      0.70      0.77     61502\n",
      "\n",
      "-----Evaluation du modèle xgb_beta_sqrt10----- \n",
      "               precision    recall  f1-score   support\n",
      "\n",
      "     class 0       0.96      0.71      0.81     56537\n",
      "     class 1       0.16      0.64      0.26      4965\n",
      "\n",
      "    accuracy                           0.70     61502\n",
      "   macro avg       0.56      0.67      0.54     61502\n",
      "weighted avg       0.89      0.70      0.77     61502\n",
      "\n",
      "-----Evaluation du modèle lgr_beta_sqrt10----- \n",
      "               precision    recall  f1-score   support\n",
      "\n",
      "     class 0       0.96      0.71      0.82     56537\n",
      "     class 1       0.18      0.70      0.28      4965\n",
      "\n",
      "    accuracy                           0.71     61502\n",
      "   macro avg       0.57      0.71      0.55     61502\n",
      "weighted avg       0.90      0.71      0.78     61502\n",
      "\n"
     ]
    },
    {
     "data": {
      "image/png": "[encoded data removed]",
      "text/plain": [
       "<Figure size 432x288 with 2 Axes>"
      ]
     },
     "metadata": {
      "needs_background": "light"
     },
     "output_type": "display_data"
    },
    {
     "data": {
      "image/png": "[encoded data removed]",
      "text/plain": [
       "<Figure size 432x288 with 2 Axes>"
      ]
     },
     "metadata": {
      "needs_background": "light"
     },
     "output_type": "display_data"
    },
    {
     "data": {
      "image/png": "[encoded data removed]",
      "text/plain": [
       "<Figure size 432x288 with 2 Axes>"
      ]
     },
     "metadata": {
      "needs_background": "light"
     },
     "output_type": "display_data"
    }
   ],
   "source": [
    "# création de nouveau dictionnaire\n",
    "\n",
    "new_dict_sqrt10 = {\n",
    "                    \"lgbm_beta_sqrt10\": lgbm_beta_sqrt10,\n",
    "                    \"xgb_beta_sqrt10\": xgb_beta_sqrt10,\n",
    "                    \"lgr_beta_sqrt10\": lgr_beta_sqrt10  \n",
    "                   }\n",
    "\n",
    "for i, j in new_dict_sqrt10.items():\n",
    "    if i == \"lgr_beta_sqrt10\":\n",
    "        Confusion_Mat(testX_scaled, testy, j, i)\n",
    "    else:\n",
    "        Confusion_Mat(testX, testy, j, i)"
   ]
  },
  {
   "cell_type": "code",
   "execution_count": null,
   "id": "98567258",
   "metadata": {},
   "outputs": [],
   "source": [
    "# fonction pour définr la matrice de confusion associée\n",
    "def Confusion_Mat(X_test, y_test, model, model_name:str):\n",
    "    y_pred = model.predict(X_test)\n",
    "    cm_ = confusion_matrix(y_test, y_pred)\n",
    "    cm_display_ = ConfusionMatrixDisplay(cm_).plot()\n",
    "    cm_display_\n",
    "    plt.title(\"Matrice de confusion de {}\".format(model_name))\n",
    "\n",
    "    target_names = ['class 0', 'class 1']\n",
    "    print(\"-----Evaluation du modèle {}-----\".format(model_name), \"\\n\", classification_report(y_test, y_pred, target_names=target_names))"
   ]
  },
  {
   "cell_type": "markdown",
   "id": "3c0b8080",
   "metadata": {},
   "source": [
    "Pour une attribution de poids de minimisation de 10 des faux négatifs par rapport aux faux positifs, on a le nombre de faux négatifs qui s'envole, ce qui rend beta=3 optimal par rapport à beta=[2, np.sqrt(10)]"
   ]
  },
  {
   "cell_type": "markdown",
   "id": "PIFvbuD0KYri",
   "metadata": {
    "id": "PIFvbuD0KYri"
   },
   "source": [
    "### Sauvegarde du modèle LightClassifier(notre meilleur modèle) et les autres meilleurs modèles optimisés\n"
   ]
  },
  {
   "cell_type": "code",
   "execution_count": 17,
   "id": "bde15f7f",
   "metadata": {
    "id": "bde15f7f"
   },
   "outputs": [],
   "source": [
    "import joblib\n",
    "from sklearn.pipeline import make_pipeline"
   ]
  },
  {
   "cell_type": "code",
   "execution_count": 99,
   "id": "e246c8ca",
   "metadata": {
    "id": "e246c8ca",
    "outputId": "5e7c4f8e-1f74-454f-cd91-59664184baa3"
   },
   "outputs": [
    {
     "data": {
      "text/plain": [
       "['joblib_lgr_beta_sqrt10_Model.pkl']"
      ]
     },
     "execution_count": 99,
     "metadata": {},
     "output_type": "execute_result"
    }
   ],
   "source": [
    "# Sauvegarde de notre modèle optimisé\n",
    "joblib_file_lgbm= \"joblib_lgbm_beta_3_Model.pkl\"\n",
    "joblib_file_xgb = \"joblib_xgb_beta_3_Model.pkl\"\n",
    "joblib_file_lgr = \"joblib_lgr_beta_sqrt10_Model.pkl\"\n",
    "\n",
    "joblib.dump(lgbm_beta3, joblib_file_lgbm)\n",
    "joblib.dump(xgb_beta3, joblib_file_xgb)"
   ]
  },
  {
   "cell_type": "code",
   "execution_count": 23,
   "id": "752c4107",
   "metadata": {},
   "outputs": [],
   "source": [
    "# création d'un pipeline\n",
    "logreg_beta_sqrt10 = make_pipeline(StandardScaler(), lgr_beta_sqrt10)"
   ]
  },
  {
   "cell_type": "code",
   "execution_count": 24,
   "id": "e571793b",
   "metadata": {},
   "outputs": [
    {
     "name": "stderr",
     "output_type": "stream",
     "text": [
      "C:\\Users\\nokan\\anaconda3\\lib\\site-packages\\sklearn\\linear_model\\_logistic.py:814: ConvergenceWarning: lbfgs failed to converge (status=1):\n",
      "STOP: TOTAL NO. of ITERATIONS REACHED LIMIT.\n",
      "\n",
      "Increase the number of iterations (max_iter) or scale the data as shown in:\n",
      "    https://scikit-learn.org/stable/modules/preprocessing.html\n",
      "Please also refer to the documentation for alternative solver options:\n",
      "    https://scikit-learn.org/stable/modules/linear_model.html#logistic-regression\n",
      "  n_iter_i = _check_optimize_result(\n"
     ]
    },
    {
     "data": {
      "text/plain": [
       "Pipeline(steps=[('standardscaler', StandardScaler()),\n",
       "                ('logisticregression',\n",
       "                 LogisticRegression(C=10, class_weight='balanced',\n",
       "                                    max_iter=200))])"
      ]
     },
     "execution_count": 24,
     "metadata": {},
     "output_type": "execute_result"
    }
   ],
   "source": [
    "logreg_beta_sqrt10.fit(trainX, trainy)"
   ]
  },
  {
   "cell_type": "code",
   "execution_count": 110,
   "id": "0556a45f",
   "metadata": {},
   "outputs": [
    {
     "data": {
      "text/plain": [
       "['joblib_lgr_beta_sqrt10_Model.pkl']"
      ]
     },
     "execution_count": 110,
     "metadata": {},
     "output_type": "execute_result"
    }
   ],
   "source": [
    "# sauvegarde du modèle logisticRegression intégré dans un pipeline\n",
    "joblib.dump(logreg_beta_sqrt10, joblib_file_lgr)"
   ]
  },
  {
   "cell_type": "code",
   "execution_count": 111,
   "id": "4d902a22",
   "metadata": {},
   "outputs": [
    {
     "data": {
      "text/plain": [
       "['sp_joblib_lgr_beta_sqrt10_Model.pkl']"
      ]
     },
     "execution_count": 111,
     "metadata": {},
     "output_type": "execute_result"
    }
   ],
   "source": [
    "# sauvegarde du modèle logisticRegression sans pipeline\n",
    "joblib.dump(lgr_beta_sqrt10, \"sp_joblib_lgr_beta_sqrt10_Model.pkl\")"
   ]
  },
  {
   "cell_type": "markdown",
   "id": "9cc02597",
   "metadata": {},
   "source": [
    "**LightGBM est le meilleur modèle pour beta=3**.\n",
    "\n",
    "LogisticRegression obtient un modèle très intéressant pour beta = np.sqrt(10)."
   ]
  },
  {
   "cell_type": "code",
   "execution_count": null,
   "id": "30973915",
   "metadata": {},
   "outputs": [],
   "source": []
  }
 ],
 "metadata": {
  "colab": {
   "collapsed_sections": [],
   "name": "Konan_Koffi_2_Mise_en_place_de_la_fonction_coût_métier_62022.ipynb",
   "provenance": [],
   "toc_visible": true
  },
  "kernelspec": {
   "display_name": "Python 3 (ipykernel)",
   "language": "python",
   "name": "python3"
  },
  "language_info": {
   "codemirror_mode": {
    "name": "ipython",
    "version": 3
   },
   "file_extension": ".py",
   "mimetype": "text/x-python",
   "name": "python",
   "nbconvert_exporter": "python",
   "pygments_lexer": "ipython3",
   "version": "3.8.12"
  }
 },
 "nbformat": 4,
 "nbformat_minor": 5
}
